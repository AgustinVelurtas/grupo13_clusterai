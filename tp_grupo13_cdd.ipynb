{
 "cells": [
  {
   "cell_type": "markdown",
   "metadata": {},
   "source": [
    "# UTN.BA\n",
    "## Ciencia de Datos\n",
    "### Grupo 13\n",
    "#### Analisis de dataset de portal de e-commerce de cerveza, bebidas alcoholicas y productos relacionados\n"
   ]
  },
  {
   "cell_type": "code",
   "execution_count": 1,
   "metadata": {},
   "outputs": [],
   "source": [
    "#Librerias\n",
    "import numpy as np\n",
    "import pandas as pd\n",
    "import matplotlib.pyplot as plt\n",
    "import seaborn as sns\n",
    "from sklearn import preprocessing\n",
    "import datetime as DT\n",
    "#PCA y Silhouette\n",
    "from sklearn.decomposition import PCA\n",
    "from  sklearn.metrics import silhouette_score\n",
    "#Librerias de Clustering\n",
    "from sklearn.cluster import KMeans\n",
    "from scipy.cluster.hierarchy import dendrogram, linkage \n",
    "from sklearn.cluster import AgglomerativeClustering\n",
    "from sklearn import metrics"
   ]
  },
  {
   "cell_type": "code",
   "execution_count": 2,
   "metadata": {},
   "outputs": [
    {
     "name": "stderr",
     "output_type": "stream",
     "text": [
      "C:\\Users\\avelurta\\AppData\\Local\\Continuum\\anaconda3\\lib\\site-packages\\IPython\\core\\interactiveshell.py:3057: DtypeWarning: Columns (21,29,47,62,68,74,82,84,91,103,104,112,126) have mixed types. Specify dtype option on import or set low_memory=False.\n",
      "  interactivity=interactivity, compiler=compiler, result=result)\n"
     ]
    }
   ],
   "source": [
    "#IMPORTMOS EL DATASET\n",
    "tp = pd.read_csv(r'Ecommerce ABI Enriched.csv', delimiter=',', low_memory= 'false')"
   ]
  },
  {
   "cell_type": "markdown",
   "metadata": {},
   "source": [
    "### EDA inicial sobre la forma del dataset"
   ]
  },
  {
   "cell_type": "code",
   "execution_count": 3,
   "metadata": {},
   "outputs": [
    {
     "data": {
      "text/plain": [
       "(359388, 141)"
      ]
     },
     "execution_count": 3,
     "metadata": {},
     "output_type": "execute_result"
    }
   ],
   "source": [
    "#CHEQUEAMOS CUANTAS FILAS Y COLUMNAS TIENE\n",
    "tp.head(30)\n",
    "tp.shape"
   ]
  },
  {
   "cell_type": "code",
   "execution_count": 4,
   "metadata": {},
   "outputs": [
    {
     "data": {
      "text/plain": [
       "Index(['age', 'birth_date', 'birth_date_day', 'birth_date_month',\n",
       "       'birth_date_year', 'channel', 'city', 'complement', 'country',\n",
       "       'created_in',\n",
       "       ...\n",
       "       'ideal_glass', 'fermentation', 'style', 'category', 'subcategory',\n",
       "       'country_of_production', 'is_abi', 'source_schema', 'food_pairing_tip',\n",
       "       'time.1'],\n",
       "      dtype='object', length=141)"
      ]
     },
     "execution_count": 4,
     "metadata": {},
     "output_type": "execute_result"
    }
   ],
   "source": [
    "#DETALLE DE COLUMNAS\n",
    "tp.columns"
   ]
  },
  {
   "cell_type": "code",
   "execution_count": 5,
   "metadata": {
    "scrolled": true
   },
   "outputs": [
    {
     "data": {
      "text/plain": [
       "age                            359388\n",
       "birth_date                     359388\n",
       "birth_date_day                 359388\n",
       "birth_date_month               359388\n",
       "birth_date_year                359388\n",
       "channel                        359388\n",
       "city                           359388\n",
       "complement                     359388\n",
       "country                             0\n",
       "created_in                          0\n",
       "creation_brand                      0\n",
       "district                       359388\n",
       "document_id                    359388\n",
       "document_id_unify              359388\n",
       "email                          359388\n",
       "emails                         359388\n",
       "facebook_id                    359388\n",
       "first_name                     359388\n",
       "full_name                      359388\n",
       "gender                         359388\n",
       "id                                  0\n",
       "id_1                           133049\n",
       "identification_number          359388\n",
       "identification_number_unify    359388\n",
       "is_employee                    359388\n",
       "last_name                      359388\n",
       "mobile_number                  359388\n",
       "neighborhood                   359388\n",
       "number                         359388\n",
       "opt_in                         226671\n",
       "                                ...  \n",
       "department                       4954\n",
       "sku                               616\n",
       "brand                            2520\n",
       "height                         359388\n",
       "is_active                      359388\n",
       "date_created                     2333\n",
       "image_url                      207320\n",
       "length                         359388\n",
       "country_of_origin              359388\n",
       "upc                            139146\n",
       "weight                          81454\n",
       "ideal_temperature              359388\n",
       "local_subcategory              359388\n",
       "is_bundle                      359388\n",
       "volume                         359388\n",
       "product_nk                        602\n",
       "abv                            359388\n",
       "units_per_sku                  359388\n",
       "name                                0\n",
       "width                          359388\n",
       "ideal_glass                    359388\n",
       "fermentation                   359388\n",
       "style                          359388\n",
       "category                         4954\n",
       "subcategory                      4954\n",
       "country_of_production          359388\n",
       "is_abi                              0\n",
       "source_schema                   90097\n",
       "food_pairing_tip               359388\n",
       "time.1                              0\n",
       "Length: 141, dtype: int64"
      ]
     },
     "execution_count": 5,
     "metadata": {},
     "output_type": "execute_result"
    }
   ],
   "source": [
    "#Vemos que columnas tienen nulls\n",
    "tp.isnull().sum()"
   ]
  },
  {
   "cell_type": "markdown",
   "metadata": {},
   "source": [
    "## Conclusion: Tenemos un dataset con casi 360000 samples, pero gran parte de ellas estan en null o parecen ser features repetidas"
   ]
  },
  {
   "cell_type": "code",
   "execution_count": 6,
   "metadata": {},
   "outputs": [],
   "source": [
    "#Borramos todas las columnas que no sirven\n",
    "tpf1 = tp.drop(['age','birth_date','birth_date_day','birth_date_month','birth_date_year','created_in','channel','city','complement','district','document_id','document_id_unify','email','emails','facebook_id','first_name','full_name','country_of_production',\n",
    "       'food_pairing_tip','width','time', 'ideal_glass','table_origin','td_id', 'fermentation','origin_score',\n",
    "       'style','ideal_temperature', 'local_subcategory', 'is_bundle', 'volume','source_system',\n",
    "       'abv', 'units_per_sku','length','creation_brand', 'country_of_origin','height','business_name',\n",
    "       'is_active','identification_number','source','title','td_id','system','currency',\n",
    "       'identification_number_unify', 'is_employee','last_name','product_spk','business_spk',\n",
    "       'mobile_number','neighborhood','number','phone_number','state','street','td_global_id',\n",
    "       'time_creation', 'twitter_id','department','item_id', 'order_status_type','uniqueid', 'zipcode', 'cuit_cuil',\n",
    "       'dni', 'id_2', 'id_3','gender', 'id_1','unit_discount_local','td_id.1','customer_first_order_period','customer_first_order_year',\n",
    "       'unit_delivery_cost_local', 'is_incomplete', 'coupon_code','unit_tax_usd','unit_tax_local',\n",
    "       'order_rating','unit_subtotal_charged_usd','delivery_type',\n",
    "       'unit_subtotal_charged_local', 'unit_delivery_cost_usd', 'order_type',\n",
    "       'unit_product_cost_local','unit_margin_usd','product_url','is_test','unit_product_cost_usd',\n",
    "       'unit_margin_local', 'unit_volume','description', 'body', 'local_category', 'date_retired',\n",
    "       'is_returnable_glass_bottle', 'ean', 'row_updated_at', 'brand_category','elegible_discount_spk','delivery_address_spk','discount_name','operator_nk','discount_spk','image_url','upc','opt_in','id_4','weight','source_schema','is_abi','time.1','product_nk'], axis = 1)"
   ]
  },
  {
   "cell_type": "code",
   "execution_count": 7,
   "metadata": {},
   "outputs": [
    {
     "data": {
      "text/plain": [
       "(359388, 27)"
      ]
     },
     "execution_count": 7,
     "metadata": {},
     "output_type": "execute_result"
    }
   ],
   "source": [
    "#Vemos cuantas filas y columnas quedaron\n",
    "tpf1.shape"
   ]
  },
  {
   "cell_type": "code",
   "execution_count": 8,
   "metadata": {},
   "outputs": [
    {
     "data": {
      "text/plain": [
       "country                            0\n",
       "id                                 0\n",
       "unit_discount_usd                  0\n",
       "customer_first_order_date          0\n",
       "unit_gross_revenue_local           0\n",
       "unit_delivery_charged_usd          0\n",
       "unit_net_revenue_usd               0\n",
       "order_date                         0\n",
       "order_status                       0\n",
       "customer_spk                       0\n",
       "unit_price_charged_local           0\n",
       "unit_gross_revenue_usd             0\n",
       "source_system_order_id             0\n",
       "unit_delivery_charged_local        0\n",
       "rate_local_do_usd                  0\n",
       "quantity                           0\n",
       "unit_price_charged_usd             0\n",
       "unit_net_revenue_local             0\n",
       "order_days_after_first_order       0\n",
       "order_time                         0\n",
       "row_created_at                     0\n",
       "sku                              616\n",
       "brand                           2520\n",
       "date_created                    2333\n",
       "name                               0\n",
       "category                        4954\n",
       "subcategory                     4954\n",
       "dtype: int64"
      ]
     },
     "execution_count": 8,
     "metadata": {},
     "output_type": "execute_result"
    }
   ],
   "source": [
    "#Vemos cuantos registros tienen nulls\n",
    "tpf1.isnull().sum()"
   ]
  },
  {
   "cell_type": "code",
   "execution_count": 9,
   "metadata": {
    "scrolled": true
   },
   "outputs": [
    {
     "data": {
      "text/html": [
       "<div>\n",
       "<style scoped>\n",
       "    .dataframe tbody tr th:only-of-type {\n",
       "        vertical-align: middle;\n",
       "    }\n",
       "\n",
       "    .dataframe tbody tr th {\n",
       "        vertical-align: top;\n",
       "    }\n",
       "\n",
       "    .dataframe thead th {\n",
       "        text-align: right;\n",
       "    }\n",
       "</style>\n",
       "<table border=\"1\" class=\"dataframe\">\n",
       "  <thead>\n",
       "    <tr style=\"text-align: right;\">\n",
       "      <th></th>\n",
       "      <th>country</th>\n",
       "      <th>id</th>\n",
       "      <th>unit_discount_usd</th>\n",
       "      <th>customer_first_order_date</th>\n",
       "      <th>unit_gross_revenue_local</th>\n",
       "      <th>unit_delivery_charged_usd</th>\n",
       "      <th>unit_net_revenue_usd</th>\n",
       "      <th>order_date</th>\n",
       "      <th>order_status</th>\n",
       "      <th>customer_spk</th>\n",
       "      <th>...</th>\n",
       "      <th>row_created_at</th>\n",
       "      <th>sku</th>\n",
       "      <th>brand</th>\n",
       "      <th>date_created</th>\n",
       "      <th>name</th>\n",
       "      <th>category</th>\n",
       "      <th>subcategory</th>\n",
       "      <th>year</th>\n",
       "      <th>month</th>\n",
       "      <th>day</th>\n",
       "    </tr>\n",
       "  </thead>\n",
       "  <tbody>\n",
       "    <tr>\n",
       "      <th>0</th>\n",
       "      <td>Chile</td>\n",
       "      <td>[\"cl_casadelacerveza;ded0f554dbb2f3381acf862ad...</td>\n",
       "      <td>0.0000</td>\n",
       "      <td>2018-04-18</td>\n",
       "      <td>884.6936</td>\n",
       "      <td>0.1707</td>\n",
       "      <td>1.3421</td>\n",
       "      <td>2018-04-18</td>\n",
       "      <td>canceled</td>\n",
       "      <td>cl_casadelacerveza;ded0f554dbb2f3381acf862ad69...</td>\n",
       "      <td>...</td>\n",
       "      <td>2018-08-20 05:55:44.844529</td>\n",
       "      <td>69</td>\n",
       "      <td>Goose Island</td>\n",
       "      <td>2018-04-05 10:45:09.088888</td>\n",
       "      <td>Pack Degustación Goose Island + Vaso</td>\n",
       "      <td>unknown</td>\n",
       "      <td>unknown</td>\n",
       "      <td>2018</td>\n",
       "      <td>4</td>\n",
       "      <td>18</td>\n",
       "    </tr>\n",
       "    <tr>\n",
       "      <th>1</th>\n",
       "      <td>Chile</td>\n",
       "      <td>[\"cl_casadelacerveza;ded0f554dbb2f3381acf862ad...</td>\n",
       "      <td>0.2652</td>\n",
       "      <td>2018-04-18</td>\n",
       "      <td>722.7899</td>\n",
       "      <td>0.1708</td>\n",
       "      <td>1.0965</td>\n",
       "      <td>2018-04-18</td>\n",
       "      <td>invoiced</td>\n",
       "      <td>cl_casadelacerveza;ded0f554dbb2f3381acf862ad69...</td>\n",
       "      <td>...</td>\n",
       "      <td>2018-08-20 05:55:44.844529</td>\n",
       "      <td>69</td>\n",
       "      <td>Goose Island</td>\n",
       "      <td>2018-04-05 10:45:09.088888</td>\n",
       "      <td>Pack Degustación Goose Island + Vaso</td>\n",
       "      <td>unknown</td>\n",
       "      <td>unknown</td>\n",
       "      <td>2018</td>\n",
       "      <td>4</td>\n",
       "      <td>18</td>\n",
       "    </tr>\n",
       "    <tr>\n",
       "      <th>2</th>\n",
       "      <td>Chile</td>\n",
       "      <td>[\"cl_casadelacerveza;ded0f554dbb2f3381acf862ad...</td>\n",
       "      <td>0.0000</td>\n",
       "      <td>2018-04-18</td>\n",
       "      <td>1129.6857</td>\n",
       "      <td>0.2179</td>\n",
       "      <td>1.7138</td>\n",
       "      <td>2018-04-18</td>\n",
       "      <td>canceled</td>\n",
       "      <td>cl_casadelacerveza;ded0f554dbb2f3381acf862ad69...</td>\n",
       "      <td>...</td>\n",
       "      <td>2018-06-08 05:39:56.779021</td>\n",
       "      <td>50</td>\n",
       "      <td>Lowenbrau</td>\n",
       "      <td>2018-04-05 10:45:36.799491</td>\n",
       "      <td>Cerveza Lowenbrau Oktoberfest Botella</td>\n",
       "      <td>Beer</td>\n",
       "      <td>unknown</td>\n",
       "      <td>2018</td>\n",
       "      <td>4</td>\n",
       "      <td>18</td>\n",
       "    </tr>\n",
       "    <tr>\n",
       "      <th>3</th>\n",
       "      <td>Chile</td>\n",
       "      <td>[\"cl_casadelacerveza;ded0f554dbb2f3381acf862ad...</td>\n",
       "      <td>0.3382</td>\n",
       "      <td>2018-04-18</td>\n",
       "      <td>921.6156</td>\n",
       "      <td>0.2178</td>\n",
       "      <td>1.3981</td>\n",
       "      <td>2018-04-18</td>\n",
       "      <td>invoiced</td>\n",
       "      <td>cl_casadelacerveza;ded0f554dbb2f3381acf862ad69...</td>\n",
       "      <td>...</td>\n",
       "      <td>2018-06-08 05:39:56.779021</td>\n",
       "      <td>50</td>\n",
       "      <td>Lowenbrau</td>\n",
       "      <td>2018-04-05 10:45:36.799491</td>\n",
       "      <td>Cerveza Lowenbrau Oktoberfest Botella</td>\n",
       "      <td>Beer</td>\n",
       "      <td>unknown</td>\n",
       "      <td>2018</td>\n",
       "      <td>4</td>\n",
       "      <td>18</td>\n",
       "    </tr>\n",
       "    <tr>\n",
       "      <th>4</th>\n",
       "      <td>Chile</td>\n",
       "      <td>[\"cl_casadelacerveza;ded0f554dbb2f3381acf862ad...</td>\n",
       "      <td>0.0000</td>\n",
       "      <td>2018-04-18</td>\n",
       "      <td>1046.8875</td>\n",
       "      <td>0.2019</td>\n",
       "      <td>1.5882</td>\n",
       "      <td>2018-04-18</td>\n",
       "      <td>canceled</td>\n",
       "      <td>cl_casadelacerveza;ded0f554dbb2f3381acf862ad69...</td>\n",
       "      <td>...</td>\n",
       "      <td>2018-08-20 07:30:23.707858</td>\n",
       "      <td>449</td>\n",
       "      <td>unknown</td>\n",
       "      <td>2018-05-21 13:00:01.212182</td>\n",
       "      <td>Cerveza Lowenbrau Original Botella</td>\n",
       "      <td>unknown</td>\n",
       "      <td>unknown</td>\n",
       "      <td>2018</td>\n",
       "      <td>4</td>\n",
       "      <td>18</td>\n",
       "    </tr>\n",
       "  </tbody>\n",
       "</table>\n",
       "<p>5 rows × 30 columns</p>\n",
       "</div>"
      ],
      "text/plain": [
       "  country                                                 id  \\\n",
       "0   Chile  [\"cl_casadelacerveza;ded0f554dbb2f3381acf862ad...   \n",
       "1   Chile  [\"cl_casadelacerveza;ded0f554dbb2f3381acf862ad...   \n",
       "2   Chile  [\"cl_casadelacerveza;ded0f554dbb2f3381acf862ad...   \n",
       "3   Chile  [\"cl_casadelacerveza;ded0f554dbb2f3381acf862ad...   \n",
       "4   Chile  [\"cl_casadelacerveza;ded0f554dbb2f3381acf862ad...   \n",
       "\n",
       "   unit_discount_usd customer_first_order_date  unit_gross_revenue_local  \\\n",
       "0             0.0000                2018-04-18                  884.6936   \n",
       "1             0.2652                2018-04-18                  722.7899   \n",
       "2             0.0000                2018-04-18                 1129.6857   \n",
       "3             0.3382                2018-04-18                  921.6156   \n",
       "4             0.0000                2018-04-18                 1046.8875   \n",
       "\n",
       "   unit_delivery_charged_usd  unit_net_revenue_usd order_date order_status  \\\n",
       "0                     0.1707                1.3421 2018-04-18     canceled   \n",
       "1                     0.1708                1.0965 2018-04-18     invoiced   \n",
       "2                     0.2179                1.7138 2018-04-18     canceled   \n",
       "3                     0.2178                1.3981 2018-04-18     invoiced   \n",
       "4                     0.2019                1.5882 2018-04-18     canceled   \n",
       "\n",
       "                                        customer_spk  ...  \\\n",
       "0  cl_casadelacerveza;ded0f554dbb2f3381acf862ad69...  ...   \n",
       "1  cl_casadelacerveza;ded0f554dbb2f3381acf862ad69...  ...   \n",
       "2  cl_casadelacerveza;ded0f554dbb2f3381acf862ad69...  ...   \n",
       "3  cl_casadelacerveza;ded0f554dbb2f3381acf862ad69...  ...   \n",
       "4  cl_casadelacerveza;ded0f554dbb2f3381acf862ad69...  ...   \n",
       "\n",
       "               row_created_at  sku         brand                date_created  \\\n",
       "0  2018-08-20 05:55:44.844529   69  Goose Island  2018-04-05 10:45:09.088888   \n",
       "1  2018-08-20 05:55:44.844529   69  Goose Island  2018-04-05 10:45:09.088888   \n",
       "2  2018-06-08 05:39:56.779021   50     Lowenbrau  2018-04-05 10:45:36.799491   \n",
       "3  2018-06-08 05:39:56.779021   50     Lowenbrau  2018-04-05 10:45:36.799491   \n",
       "4  2018-08-20 07:30:23.707858  449       unknown  2018-05-21 13:00:01.212182   \n",
       "\n",
       "                                    name  category  subcategory  year  month  \\\n",
       "0   Pack Degustación Goose Island + Vaso   unknown      unknown  2018      4   \n",
       "1   Pack Degustación Goose Island + Vaso   unknown      unknown  2018      4   \n",
       "2  Cerveza Lowenbrau Oktoberfest Botella      Beer      unknown  2018      4   \n",
       "3  Cerveza Lowenbrau Oktoberfest Botella      Beer      unknown  2018      4   \n",
       "4     Cerveza Lowenbrau Original Botella   unknown      unknown  2018      4   \n",
       "\n",
       "  day  \n",
       "0  18  \n",
       "1  18  \n",
       "2  18  \n",
       "3  18  \n",
       "4  18  \n",
       "\n",
       "[5 rows x 30 columns]"
      ]
     },
     "execution_count": 9,
     "metadata": {},
     "output_type": "execute_result"
    }
   ],
   "source": [
    "#Separamos la columa order_date en año,mes y dia\n",
    "tpf1.order_date = pd.to_datetime(tpf1.order_date)\n",
    "tpf1['year'] = tpf1.order_date.dt.year \n",
    "tpf1['month'] = tpf1.order_date.dt.month \n",
    "tpf1['day'] = tpf1.order_date.dt.day \n",
    "#Pasamos el order_time a datetime\n",
    "tpf1['order_time'] =  pd.to_datetime(tpf1['order_time'], format='%H:%M:%S')\n",
    "tpf1.head()"
   ]
  },
  {
   "cell_type": "code",
   "execution_count": 10,
   "metadata": {},
   "outputs": [
    {
     "data": {
      "text/plain": [
       "48.0"
      ]
     },
     "execution_count": 10,
     "metadata": {},
     "output_type": "execute_result"
    }
   ],
   "source": [
    "# calculo el percentil 99.9 (se hizo tanteo previo) de la columna \"quantity\"\n",
    "perc_999 = tpf1['quantity'].quantile(0.999)\n",
    "perc_999"
   ]
  },
  {
   "cell_type": "code",
   "execution_count": 11,
   "metadata": {},
   "outputs": [],
   "source": [
    "#quitamos los registros que tengan mas de 48 en quantity\n",
    "tpf2 = tpf1.loc[tpf1['quantity']<perc_999]\n",
    "perc_999 = tpf2['quantity'].quantile(0.999)"
   ]
  },
  {
   "cell_type": "code",
   "execution_count": 12,
   "metadata": {},
   "outputs": [
    {
     "data": {
      "text/plain": [
       "28.0"
      ]
     },
     "execution_count": 12,
     "metadata": {},
     "output_type": "execute_result"
    }
   ],
   "source": [
    "perc_999"
   ]
  },
  {
   "cell_type": "code",
   "execution_count": 13,
   "metadata": {},
   "outputs": [
    {
     "data": {
      "text/plain": [
       "array(['Argentina'], dtype=object)"
      ]
     },
     "execution_count": 13,
     "metadata": {},
     "output_type": "execute_result"
    }
   ],
   "source": [
    "#Filtramos el dataset por country = Argentina\n",
    "tp_arg = tpf2.loc[tpf2['country'].isin(['Argentina'])]\n",
    "tp_arg.country.unique()"
   ]
  },
  {
   "cell_type": "code",
   "execution_count": 14,
   "metadata": {},
   "outputs": [
    {
     "data": {
      "text/plain": [
       "array([2017], dtype=int64)"
      ]
     },
     "execution_count": 14,
     "metadata": {},
     "output_type": "execute_result"
    }
   ],
   "source": [
    "#Sabemos que el dataset no esta completo para los años 2016 y 2018, por lo que filtramos el dataset por el año 2017\n",
    "tp_arg_2017 = tp_arg.loc[tp_arg['year'].isin(['2017'])]\n",
    "tp_arg_2017.year.unique()"
   ]
  },
  {
   "cell_type": "code",
   "execution_count": 15,
   "metadata": {},
   "outputs": [
    {
     "data": {
      "text/html": [
       "<div>\n",
       "<style scoped>\n",
       "    .dataframe tbody tr th:only-of-type {\n",
       "        vertical-align: middle;\n",
       "    }\n",
       "\n",
       "    .dataframe tbody tr th {\n",
       "        vertical-align: top;\n",
       "    }\n",
       "\n",
       "    .dataframe thead th {\n",
       "        text-align: right;\n",
       "    }\n",
       "</style>\n",
       "<table border=\"1\" class=\"dataframe\">\n",
       "  <thead>\n",
       "    <tr style=\"text-align: right;\">\n",
       "      <th></th>\n",
       "      <th>country</th>\n",
       "      <th>id</th>\n",
       "      <th>unit_discount_usd</th>\n",
       "      <th>unit_gross_revenue_local</th>\n",
       "      <th>order_date</th>\n",
       "      <th>order_status</th>\n",
       "      <th>customer_spk</th>\n",
       "      <th>unit_price_charged_local</th>\n",
       "      <th>unit_delivery_charged_local</th>\n",
       "      <th>quantity</th>\n",
       "      <th>unit_net_revenue_local</th>\n",
       "      <th>order_time</th>\n",
       "      <th>brand</th>\n",
       "      <th>name</th>\n",
       "      <th>category</th>\n",
       "      <th>subcategory</th>\n",
       "      <th>year</th>\n",
       "      <th>month</th>\n",
       "      <th>day</th>\n",
       "    </tr>\n",
       "  </thead>\n",
       "  <tbody>\n",
       "    <tr>\n",
       "      <th>17162</th>\n",
       "      <td>Argentina</td>\n",
       "      <td>[\"ar_bevybar;8b3eb4b88a85ba3eeb60dd24686995c38...</td>\n",
       "      <td>0.0000</td>\n",
       "      <td>1030.0000</td>\n",
       "      <td>2017-09-20</td>\n",
       "      <td>paid</td>\n",
       "      <td>ar_bevybar;8b3eb4b88a85ba3eeb60dd24686995c38b4...</td>\n",
       "      <td>890.0</td>\n",
       "      <td>140.0000</td>\n",
       "      <td>1</td>\n",
       "      <td>788.0530</td>\n",
       "      <td>1900-01-01 18:19:39</td>\n",
       "      <td>Corona</td>\n",
       "      <td>Pack Corona Experience</td>\n",
       "      <td>Beer</td>\n",
       "      <td>Others</td>\n",
       "      <td>2017</td>\n",
       "      <td>9</td>\n",
       "      <td>20</td>\n",
       "    </tr>\n",
       "    <tr>\n",
       "      <th>17165</th>\n",
       "      <td>Argentina</td>\n",
       "      <td>[\"ar_bevybar;41434b744330c691cf83b70da3fa080c8...</td>\n",
       "      <td>0.0000</td>\n",
       "      <td>631.0000</td>\n",
       "      <td>2017-06-13</td>\n",
       "      <td>paid</td>\n",
       "      <td>ar_bevybar;41434b744330c691cf83b70da3fa080c85a...</td>\n",
       "      <td>432.0</td>\n",
       "      <td>199.0000</td>\n",
       "      <td>1</td>\n",
       "      <td>493.6944</td>\n",
       "      <td>1900-01-01 12:56:23</td>\n",
       "      <td>Patagonia Brewing Co.</td>\n",
       "      <td>Pack de Cervezas y Vasos Patagonia</td>\n",
       "      <td>Mixed Pack</td>\n",
       "      <td>unknown</td>\n",
       "      <td>2017</td>\n",
       "      <td>6</td>\n",
       "      <td>13</td>\n",
       "    </tr>\n",
       "    <tr>\n",
       "      <th>17174</th>\n",
       "      <td>Argentina</td>\n",
       "      <td>[\"ar_bevybar;2aedfe0c0b63ee0da640463d4b0a09f74...</td>\n",
       "      <td>2.7181</td>\n",
       "      <td>234.6542</td>\n",
       "      <td>2017-02-28</td>\n",
       "      <td>paid</td>\n",
       "      <td>ar_bevybar;2aedfe0c0b63ee0da640463d4b0a09f74f9...</td>\n",
       "      <td>265.0</td>\n",
       "      <td>14.7222</td>\n",
       "      <td>1</td>\n",
       "      <td>176.2018</td>\n",
       "      <td>1900-01-01 23:33:23</td>\n",
       "      <td>Peñón del Águila</td>\n",
       "      <td>Cerveza Peñón del Águila Kölsch</td>\n",
       "      <td>Beer</td>\n",
       "      <td>unknown</td>\n",
       "      <td>2017</td>\n",
       "      <td>2</td>\n",
       "      <td>28</td>\n",
       "    </tr>\n",
       "    <tr>\n",
       "      <th>17175</th>\n",
       "      <td>Argentina</td>\n",
       "      <td>[\"ar_bevybar;2aedfe0c0b63ee0da640463d4b0a09f74...</td>\n",
       "      <td>1.8052</td>\n",
       "      <td>155.8458</td>\n",
       "      <td>2017-02-28</td>\n",
       "      <td>paid</td>\n",
       "      <td>ar_bevybar;2aedfe0c0b63ee0da640463d4b0a09f74f9...</td>\n",
       "      <td>44.0</td>\n",
       "      <td>9.7778</td>\n",
       "      <td>4</td>\n",
       "      <td>117.0246</td>\n",
       "      <td>1900-01-01 23:33:23</td>\n",
       "      <td>Peñón del Águila</td>\n",
       "      <td>Cerveza Peñón del Águila Kölsch</td>\n",
       "      <td>Beer</td>\n",
       "      <td>unknown</td>\n",
       "      <td>2017</td>\n",
       "      <td>2</td>\n",
       "      <td>28</td>\n",
       "    </tr>\n",
       "    <tr>\n",
       "      <th>17176</th>\n",
       "      <td>Argentina</td>\n",
       "      <td>[\"ar_bevybar;2aedfe0c0b63ee0da640463d4b0a09f74...</td>\n",
       "      <td>9.0465</td>\n",
       "      <td>910.0000</td>\n",
       "      <td>2017-07-30</td>\n",
       "      <td>paid</td>\n",
       "      <td>ar_bevybar;2aedfe0c0b63ee0da640463d4b0a09f74f9...</td>\n",
       "      <td>1011.0</td>\n",
       "      <td>49.0000</td>\n",
       "      <td>1</td>\n",
       "      <td>698.5160</td>\n",
       "      <td>1900-01-01 17:15:42</td>\n",
       "      <td>BevyBar</td>\n",
       "      <td>Pack Degustación del Mes de Julio XL</td>\n",
       "      <td>Mixed Pack</td>\n",
       "      <td>unknown</td>\n",
       "      <td>2017</td>\n",
       "      <td>7</td>\n",
       "      <td>30</td>\n",
       "    </tr>\n",
       "  </tbody>\n",
       "</table>\n",
       "</div>"
      ],
      "text/plain": [
       "         country                                                 id  \\\n",
       "17162  Argentina  [\"ar_bevybar;8b3eb4b88a85ba3eeb60dd24686995c38...   \n",
       "17165  Argentina  [\"ar_bevybar;41434b744330c691cf83b70da3fa080c8...   \n",
       "17174  Argentina  [\"ar_bevybar;2aedfe0c0b63ee0da640463d4b0a09f74...   \n",
       "17175  Argentina  [\"ar_bevybar;2aedfe0c0b63ee0da640463d4b0a09f74...   \n",
       "17176  Argentina  [\"ar_bevybar;2aedfe0c0b63ee0da640463d4b0a09f74...   \n",
       "\n",
       "       unit_discount_usd  unit_gross_revenue_local order_date order_status  \\\n",
       "17162             0.0000                 1030.0000 2017-09-20         paid   \n",
       "17165             0.0000                  631.0000 2017-06-13         paid   \n",
       "17174             2.7181                  234.6542 2017-02-28         paid   \n",
       "17175             1.8052                  155.8458 2017-02-28         paid   \n",
       "17176             9.0465                  910.0000 2017-07-30         paid   \n",
       "\n",
       "                                            customer_spk  \\\n",
       "17162  ar_bevybar;8b3eb4b88a85ba3eeb60dd24686995c38b4...   \n",
       "17165  ar_bevybar;41434b744330c691cf83b70da3fa080c85a...   \n",
       "17174  ar_bevybar;2aedfe0c0b63ee0da640463d4b0a09f74f9...   \n",
       "17175  ar_bevybar;2aedfe0c0b63ee0da640463d4b0a09f74f9...   \n",
       "17176  ar_bevybar;2aedfe0c0b63ee0da640463d4b0a09f74f9...   \n",
       "\n",
       "       unit_price_charged_local  unit_delivery_charged_local  quantity  \\\n",
       "17162                     890.0                     140.0000         1   \n",
       "17165                     432.0                     199.0000         1   \n",
       "17174                     265.0                      14.7222         1   \n",
       "17175                      44.0                       9.7778         4   \n",
       "17176                    1011.0                      49.0000         1   \n",
       "\n",
       "       unit_net_revenue_local          order_time                  brand  \\\n",
       "17162                788.0530 1900-01-01 18:19:39                 Corona   \n",
       "17165                493.6944 1900-01-01 12:56:23  Patagonia Brewing Co.   \n",
       "17174                176.2018 1900-01-01 23:33:23       Peñón del Águila   \n",
       "17175                117.0246 1900-01-01 23:33:23       Peñón del Águila   \n",
       "17176                698.5160 1900-01-01 17:15:42                BevyBar   \n",
       "\n",
       "                                       name    category subcategory  year  \\\n",
       "17162                Pack Corona Experience        Beer      Others  2017   \n",
       "17165    Pack de Cervezas y Vasos Patagonia  Mixed Pack     unknown  2017   \n",
       "17174       Cerveza Peñón del Águila Kölsch        Beer     unknown  2017   \n",
       "17175       Cerveza Peñón del Águila Kölsch        Beer     unknown  2017   \n",
       "17176  Pack Degustación del Mes de Julio XL  Mixed Pack     unknown  2017   \n",
       "\n",
       "       month  day  \n",
       "17162      9   20  \n",
       "17165      6   13  \n",
       "17174      2   28  \n",
       "17175      2   28  \n",
       "17176      7   30  "
      ]
     },
     "execution_count": 15,
     "metadata": {},
     "output_type": "execute_result"
    }
   ],
   "source": [
    "##Limpiamos mas columnas\n",
    "tp_arg_2017 = tp_arg_2017.drop(tp_arg_2017.loc[tp_arg['subcategory'].isnull()].index)\n",
    "tp_arg_2017 = tp_arg_2017.drop(tp_arg_2017.loc[tp_arg['sku'].isnull()].index)\n",
    "#Cambiamos Grupo Modelo por Corona\n",
    "tp_arg_2017.brand = tp_arg_2017.brand.replace(to_replace = ['Grupo Modelo'],value = 'Corona')\n",
    "tp_h = tp_arg_2017.drop(['unit_gross_revenue_usd','source_system_order_id', 'rate_local_do_usd', 'order_days_after_first_order', 'unit_price_charged_usd', 'customer_first_order_date', 'unit_delivery_charged_usd', 'unit_net_revenue_usd', 'row_created_at', 'sku', 'date_created'], axis=1)\n",
    "tp_h.head(5)"
   ]
  },
  {
   "cell_type": "code",
   "execution_count": 16,
   "metadata": {
    "scrolled": true
   },
   "outputs": [
    {
     "data": {
      "text/plain": [
       "country                        0\n",
       "id                             0\n",
       "unit_discount_usd              0\n",
       "unit_gross_revenue_local       0\n",
       "order_date                     0\n",
       "order_status                   0\n",
       "customer_spk                   0\n",
       "unit_price_charged_local       0\n",
       "unit_delivery_charged_local    0\n",
       "quantity                       0\n",
       "unit_net_revenue_local         0\n",
       "order_time                     0\n",
       "brand                          0\n",
       "name                           0\n",
       "category                       0\n",
       "subcategory                    0\n",
       "year                           0\n",
       "month                          0\n",
       "day                            0\n",
       "dtype: int64"
      ]
     },
     "execution_count": 16,
     "metadata": {},
     "output_type": "execute_result"
    }
   ],
   "source": [
    "##Chequeamos que no quedan nulls\n",
    "tp_h.isnull().sum()"
   ]
  },
  {
   "cell_type": "code",
   "execution_count": 17,
   "metadata": {
    "scrolled": true
   },
   "outputs": [
    {
     "data": {
      "text/plain": [
       "[\"ar_bevybar;85a4541be6230293ef4f6d91b0df26263a8ae8eb520f1683ee8da148ec4bccb8\"]    4927\n",
       "[\"ar_bevybar;6ac0a6038ac280d24e192c75507523542b3b808616c9b496bced2ebc9bf8f682\"]     124\n",
       "[\"ar_bevybar;0cf248d7670517788205b21a00b3b95a7613721f6a2142f2a71ff936505154f7\"]     123\n",
       "[\"ar_bevybar;cb6520ac6ee6ac4a2489802686b342445ccb27c608ea3e31fdbac5eb7b26e7d2\"]     113\n",
       "[\"ar_bevybar;0aa3aebd3809cbcccd03f9350a135291a4cc6cf0e91531b1c2ad082eed729957\"]     102\n",
       "[\"ar_bevybar;2fd602be49f597b8296eaf4ab7db768cadff4daef7acdc2ddb8d2fe87d6f2e67\"]      96\n",
       "[\"ar_bevybar;c35e3b1de2ac34c7cc8189a4be05376b523ccfc022d3c80ebc52afaddcf8a558\"]      83\n",
       "[\"ar_bevybar;2432fc9e5b1b7dc5b0b6798ebc1b31ea5b565d43323a54949788a25b0e3ba2c3\"]      82\n",
       "[\"ar_bevybar;c68b56ab8a20714b2adc9b2ea0347d85377ce00ef06f7241d6833001601d9e3d\"]      82\n",
       "[\"ar_bevybar;1774a2022f78ca3718e09203117925498c207de6a6463491fea330ab259c8d50\"]      80\n",
       "[\"ar_bevybar;ce8c091f340155e1fe5fd9445cd2bcc873837a0ce2639b86b1cbc217e82296aa\"]      78\n",
       "[\"ar_bevybar;2fafe310067059488b1611913e6fa67222718e3305eb89f6f8a770dcf54d6c84\"]      78\n",
       "[\"ar_bevybar;01aa381f28d5e94ccaa562245f404efc028ab2e44ff2444df15314b64a85c374\"]      77\n",
       "[\"ar_bevybar;c1ff0af4894bf8616bc7654fffa80d8ef667546ea64fcc84d91348b910c67ebc\"]      72\n",
       "[\"ar_bevybar;f98bfc69f820bf14518f733e1b2c4380780f1acfda3b7bcf48d31359fd0747c2\"]      72\n",
       "[\"ar_bevybar;083bfd6c2cc96ac619385b8e5ce3800f1e2726272c2eaf684825fff8166c5c44\"]      68\n",
       "[\"ar_bevybar;53a1438ff233c351ce9a9e3fb024d7a372b396f79412b9bbd57eb15db9ddbe2e\"]      68\n",
       "[\"ar_bevybar;a3784b9a328e794a7b63c4210184411f365dfc2dc4bd5484cfe0f75bd6ab33d4\"]      67\n",
       "[\"ar_bevybar;fc0f1b677b34bef2ddcf8a9d1750417eaa1177e97b446421f480f3dc09796aa7\"]      66\n",
       "[\"ar_bevybar;08340de96132e35c78b25b9c010080da6f78150aa469901af60a381356fb3712\"]      66\n",
       "[\"ar_bevybar;674a7afbcebfbf376d106fc4a42ec3d6b5b8d3278502823fe435eab09cd88bf3\"]      65\n",
       "[\"ar_bevybar;7036d1e2ff43d80092fe9bc89122df49a01cb29d0c8d1fed4b7315ab2e136631\"]      64\n",
       "[\"ar_bevybar;3837ae47c1007ff9ada84fb8ffbccfe9042f128ea206e8bca7c859f1b9c4f106\"]      64\n",
       "[\"ar_bevybar;74bf4add73c20741424cbf387fddf6da0edf779991aba5776a344e009ed3f1a5\"]      63\n",
       "[\"ar_bevybar;318ce62ccd67c2371c692fdb720c108d19b4940eb727e4ba792576a269db54a8\"]      62\n",
       "[\"ar_bevybar;6c15f62f6e532e6d9f57814c3465707032d1834de4557fd2d01c3684c19ce217\"]      61\n",
       "[\"ar_bevybar;b91dd6565d078ae7eda0ac5dd81273cfb1931732677957ac2990aac05124510a\"]      60\n",
       "[\"ar_bevybar;ac4d38f59f780070a4e10331b4538964396d016615b117a9f692d2a925161dc2\"]      60\n",
       "[\"ar_bevybar;f24d7126c209c846dd12effea3e9e0e927cf8b0376f18641ca0e5e410c6ea524\"]      58\n",
       "[\"ar_bevybar;27e95e63f8a274e11428e15e0eac2918fbd80a5bd3bd9fc47b2106d2f165b2b5\"]      56\n",
       "                                                                                   ... \n",
       "[\"ar_bevybar;9f6a52394f8b5a2effb594c26697cc3e8d51449f5cbd16a8e7a890ac2fa4dc9c\"]       1\n",
       "[\"ar_bevybar;f5a96617a32d6758f138bb04715b41ffef3e69fc6e89941167c2cdac636323aa\"]       1\n",
       "[\"ar_bevybar;922d3f564804fea369143e5d7304a184e653e90a4c5d5228105c0be35348d05b\"]       1\n",
       "[\"ar_bevybar;c9a5e97b97ba3aa6487c66e87b1b506b71045527cc13d835c7f7178e209232fe\"]       1\n",
       "[\"ar_bevybar;c6bd1d76e88f559f9cfafd90fd9b096046fe034a7f5dfffcebc99c247e16d513\"]       1\n",
       "[\"ar_bevybar;750d4faf8118afc543784047fe915fedabfbfdb0da9ee8f22ed34f0c39fa70a3\"]       1\n",
       "[\"ar_bevybar;55d47b26b2445a623fff8349017642e9dca7b600bed71b6057fb3f83e3eb633b\"]       1\n",
       "[\"ar_bevybar;17c23cea75656e5d074930addb269889b89e85d89f6c93621e0834d94737c08a\"]       1\n",
       "[\"ar_bevybar;6810c687dc1f704fafa7f68a2b5d9d4a840d76c8765393e12a77a403a82971f4\"]       1\n",
       "[\"ar_bevybar;eed54e5ce57cad51ecd56777702df722c41283cf27f123f42bddc071e944570c\"]       1\n",
       "[\"ar_bevybar;e69c794303222046371d62bc35679d2291bad134336e42f39d40d1c39e12f2b1\"]       1\n",
       "[\"ar_bevybar;c705e100d3d8ab8c1d5057bafc46960c7790c7e211a9b59ab701add6a119d4ad\"]       1\n",
       "[\"ar_bevybar;e2e40d9c96aa34894ff0ccd5c5bd335dedd68ca330af8fccd249c645fb42045a\"]       1\n",
       "[\"ar_bevybar;a4a9c7f02ee8ac414cbb97962d43edbabeefe391c6b60da59d5701a07d0bb574\"]       1\n",
       "[\"ar_bevybar;62d638337c87969425cfa8b1eacb66f79467cc66399bfec8269ffe21e55d4f38\"]       1\n",
       "[\"ar_bevybar;9dade0dc82abbcec0274cdc29075d4f6c39cbccc24c7bfdab84acd9eec9ae3e7\"]       1\n",
       "[\"ar_bevybar;53b894d369bad8eb493d550f0c7a8d1c209493979370d8b279df1ce61a27a435\"]       1\n",
       "[\"ar_bevybar;ff211fe70b742cb65d3d2c9b8a5c5eb1cf02b01d2d3a03357690dc9bb3e710c6\"]       1\n",
       "[\"ar_bevybar;71b40de62b2ac92bd1e956bc43393313996f0ab4ef0590647d0697a5b4b2795b\"]       1\n",
       "[\"ar_bevybar;f3da2915ab86c71a37c86ac8080d85bd9de5e44e173827689e4f5f40f04e0569\"]       1\n",
       "[\"ar_bevybar;94b374fddf69d4d4d75194b2fca91c65e4ef8a31ebcf9dbb4e62d2529ced886f\"]       1\n",
       "[\"ar_bevybar;051b6b76b8d4b81c85df6953754c335d0fcd349f0cedf968a8542aa237d3ecce\"]       1\n",
       "[\"ar_bevybar;4b8258b4611d82fb1a873cf8a1e821a7a406eaa827046e1804638033bd807bde\"]       1\n",
       "[\"ar_bevybar;81a14f854083e8761e6942effb207be0fdc917f3d951849f71ba1bc83014222e\"]       1\n",
       "[\"ar_bevybar;4df3620311da6a77c7f3d7a2fc1ede4505bd96d8a04b073e3401b2f3effe157c\"]       1\n",
       "[\"ar_bevybar;ec2b7c08186c26fc723906e296bd097e03e84761c11f587441cb1e4ef9aff062\"]       1\n",
       "[\"ar_bevybar;9ae440abc3454c65c55bdc28372b65ad67704d0f0970034aebdc824673c45630\"]       1\n",
       "[\"ar_bevybar;c6e68c712b37eee7226b3548cb410ec0d8664d3978daa61e0e4810aa21c4a09f\"]       1\n",
       "[\"ar_bevybar;ee6b2fa7d304fd3ae2753b0d0e00742a6f1aeb9ca084d8af6be0cd7d81f53bf6\"]       1\n",
       "[\"ar_bevybar;954e1bc4bbcd8a507a4d4c69630bbc93e75140451fa42d0d13b71f6ab64d254c\"]       1\n",
       "Name: id, Length: 21781, dtype: int64"
      ]
     },
     "execution_count": 17,
     "metadata": {},
     "output_type": "execute_result"
    }
   ],
   "source": [
    "#Vemos la cantidad de veces que aparece cada id. Esto nos dirá rápidamente si hay outliers.\n",
    "tp_h.id.value_counts()\n",
    "#Observamos que una id realizó 4927 compras, por lo cual procederemos a extraerla."
   ]
  },
  {
   "cell_type": "code",
   "execution_count": 18,
   "metadata": {},
   "outputs": [],
   "source": [
    "#Quitamos el outlier id con 4943 compras en ambos datasets\n",
    "tp_h.drop(tp_h.loc[tp_h['id']=='[\"ar_bevybar;85a4541be6230293ef4f6d91b0df26263a8ae8eb520f1683ee8da148ec4bccb8\"]'].index, inplace=True)\n",
    "tp_arg_2017.drop(tp_arg_2017.loc[tp_arg_2017['id']=='[\"ar_bevybar;85a4541be6230293ef4f6d91b0df26263a8ae8eb520f1683ee8da148ec4bccb8\"]'].index, inplace=True)"
   ]
  },
  {
   "cell_type": "code",
   "execution_count": 19,
   "metadata": {
    "scrolled": true
   },
   "outputs": [
    {
     "data": {
      "text/plain": [
       "[\"ar_bevybar;6ac0a6038ac280d24e192c75507523542b3b808616c9b496bced2ebc9bf8f682\"]    124\n",
       "[\"ar_bevybar;0cf248d7670517788205b21a00b3b95a7613721f6a2142f2a71ff936505154f7\"]    123\n",
       "[\"ar_bevybar;cb6520ac6ee6ac4a2489802686b342445ccb27c608ea3e31fdbac5eb7b26e7d2\"]    113\n",
       "[\"ar_bevybar;0aa3aebd3809cbcccd03f9350a135291a4cc6cf0e91531b1c2ad082eed729957\"]    102\n",
       "[\"ar_bevybar;2fd602be49f597b8296eaf4ab7db768cadff4daef7acdc2ddb8d2fe87d6f2e67\"]     96\n",
       "[\"ar_bevybar;c35e3b1de2ac34c7cc8189a4be05376b523ccfc022d3c80ebc52afaddcf8a558\"]     83\n",
       "[\"ar_bevybar;2432fc9e5b1b7dc5b0b6798ebc1b31ea5b565d43323a54949788a25b0e3ba2c3\"]     82\n",
       "[\"ar_bevybar;c68b56ab8a20714b2adc9b2ea0347d85377ce00ef06f7241d6833001601d9e3d\"]     82\n",
       "[\"ar_bevybar;1774a2022f78ca3718e09203117925498c207de6a6463491fea330ab259c8d50\"]     80\n",
       "[\"ar_bevybar;2fafe310067059488b1611913e6fa67222718e3305eb89f6f8a770dcf54d6c84\"]     78\n",
       "[\"ar_bevybar;ce8c091f340155e1fe5fd9445cd2bcc873837a0ce2639b86b1cbc217e82296aa\"]     78\n",
       "[\"ar_bevybar;01aa381f28d5e94ccaa562245f404efc028ab2e44ff2444df15314b64a85c374\"]     77\n",
       "[\"ar_bevybar;c1ff0af4894bf8616bc7654fffa80d8ef667546ea64fcc84d91348b910c67ebc\"]     72\n",
       "[\"ar_bevybar;f98bfc69f820bf14518f733e1b2c4380780f1acfda3b7bcf48d31359fd0747c2\"]     72\n",
       "[\"ar_bevybar;083bfd6c2cc96ac619385b8e5ce3800f1e2726272c2eaf684825fff8166c5c44\"]     68\n",
       "[\"ar_bevybar;53a1438ff233c351ce9a9e3fb024d7a372b396f79412b9bbd57eb15db9ddbe2e\"]     68\n",
       "[\"ar_bevybar;a3784b9a328e794a7b63c4210184411f365dfc2dc4bd5484cfe0f75bd6ab33d4\"]     67\n",
       "[\"ar_bevybar;08340de96132e35c78b25b9c010080da6f78150aa469901af60a381356fb3712\"]     66\n",
       "[\"ar_bevybar;fc0f1b677b34bef2ddcf8a9d1750417eaa1177e97b446421f480f3dc09796aa7\"]     66\n",
       "[\"ar_bevybar;674a7afbcebfbf376d106fc4a42ec3d6b5b8d3278502823fe435eab09cd88bf3\"]     65\n",
       "[\"ar_bevybar;7036d1e2ff43d80092fe9bc89122df49a01cb29d0c8d1fed4b7315ab2e136631\"]     64\n",
       "[\"ar_bevybar;3837ae47c1007ff9ada84fb8ffbccfe9042f128ea206e8bca7c859f1b9c4f106\"]     64\n",
       "[\"ar_bevybar;74bf4add73c20741424cbf387fddf6da0edf779991aba5776a344e009ed3f1a5\"]     63\n",
       "[\"ar_bevybar;318ce62ccd67c2371c692fdb720c108d19b4940eb727e4ba792576a269db54a8\"]     62\n",
       "[\"ar_bevybar;6c15f62f6e532e6d9f57814c3465707032d1834de4557fd2d01c3684c19ce217\"]     61\n",
       "[\"ar_bevybar;ac4d38f59f780070a4e10331b4538964396d016615b117a9f692d2a925161dc2\"]     60\n",
       "[\"ar_bevybar;b91dd6565d078ae7eda0ac5dd81273cfb1931732677957ac2990aac05124510a\"]     60\n",
       "[\"ar_bevybar;f24d7126c209c846dd12effea3e9e0e927cf8b0376f18641ca0e5e410c6ea524\"]     58\n",
       "[\"ar_bevybar;27e95e63f8a274e11428e15e0eac2918fbd80a5bd3bd9fc47b2106d2f165b2b5\"]     56\n",
       "[\"ar_bevybar;856447312ebbe843722000b801daa1babc2773a17eb56291df518db308231a67\"]     55\n",
       "                                                                                  ... \n",
       "[\"ar_bevybar;2b263f20e97c2b3467b9f82258ace4a8f541059db816f73b28356f81e4c57fda\"]      1\n",
       "[\"ar_bevybar;9f6a52394f8b5a2effb594c26697cc3e8d51449f5cbd16a8e7a890ac2fa4dc9c\"]      1\n",
       "[\"ar_bevybar;f5a96617a32d6758f138bb04715b41ffef3e69fc6e89941167c2cdac636323aa\"]      1\n",
       "[\"ar_bevybar;922d3f564804fea369143e5d7304a184e653e90a4c5d5228105c0be35348d05b\"]      1\n",
       "[\"ar_bevybar;eeb83f49193f7ef5b8995fae873f96238d13fe2da2d84fb6fe4b24908bd8eb15\"]      1\n",
       "[\"ar_bevybar;c9a5e97b97ba3aa6487c66e87b1b506b71045527cc13d835c7f7178e209232fe\"]      1\n",
       "[\"ar_bevybar;750d4faf8118afc543784047fe915fedabfbfdb0da9ee8f22ed34f0c39fa70a3\"]      1\n",
       "[\"ar_bevybar;9ae440abc3454c65c55bdc28372b65ad67704d0f0970034aebdc824673c45630\"]      1\n",
       "[\"ar_bevybar;94b374fddf69d4d4d75194b2fca91c65e4ef8a31ebcf9dbb4e62d2529ced886f\"]      1\n",
       "[\"ar_bevybar;94e407b154148cf5e5226ef3fee4791a1b235fe5db92664bd6a7b0bf80975a1b\"]      1\n",
       "[\"ar_bevybar;71b40de62b2ac92bd1e956bc43393313996f0ab4ef0590647d0697a5b4b2795b\"]      1\n",
       "[\"ar_bevybar;eed54e5ce57cad51ecd56777702df722c41283cf27f123f42bddc071e944570c\"]      1\n",
       "[\"ar_bevybar;9dade0dc82abbcec0274cdc29075d4f6c39cbccc24c7bfdab84acd9eec9ae3e7\"]      1\n",
       "[\"ar_bevybar;c705e100d3d8ab8c1d5057bafc46960c7790c7e211a9b59ab701add6a119d4ad\"]      1\n",
       "[\"ar_bevybar;a4a9c7f02ee8ac414cbb97962d43edbabeefe391c6b60da59d5701a07d0bb574\"]      1\n",
       "[\"ar_bevybar;e2e40d9c96aa34894ff0ccd5c5bd335dedd68ca330af8fccd249c645fb42045a\"]      1\n",
       "[\"ar_bevybar;62d638337c87969425cfa8b1eacb66f79467cc66399bfec8269ffe21e55d4f38\"]      1\n",
       "[\"ar_bevybar;53b894d369bad8eb493d550f0c7a8d1c209493979370d8b279df1ce61a27a435\"]      1\n",
       "[\"ar_bevybar;ff211fe70b742cb65d3d2c9b8a5c5eb1cf02b01d2d3a03357690dc9bb3e710c6\"]      1\n",
       "[\"ar_bevybar;e69c794303222046371d62bc35679d2291bad134336e42f39d40d1c39e12f2b1\"]      1\n",
       "[\"ar_bevybar;ee6b2fa7d304fd3ae2753b0d0e00742a6f1aeb9ca084d8af6be0cd7d81f53bf6\"]      1\n",
       "[\"ar_bevybar;81a14f854083e8761e6942effb207be0fdc917f3d951849f71ba1bc83014222e\"]      1\n",
       "[\"ar_bevybar;f3da2915ab86c71a37c86ac8080d85bd9de5e44e173827689e4f5f40f04e0569\"]      1\n",
       "[\"ar_bevybar;051b6b76b8d4b81c85df6953754c335d0fcd349f0cedf968a8542aa237d3ecce\"]      1\n",
       "[\"ar_bevybar;4b8258b4611d82fb1a873cf8a1e821a7a406eaa827046e1804638033bd807bde\"]      1\n",
       "[\"ar_bevybar;4df3620311da6a77c7f3d7a2fc1ede4505bd96d8a04b073e3401b2f3effe157c\"]      1\n",
       "[\"ar_bevybar;9f016002daa2a30824c035fc9eaa5baaf7eecbb0dab12a2723ab68c6c5f641ed\"]      1\n",
       "[\"ar_bevybar;ec2b7c08186c26fc723906e296bd097e03e84761c11f587441cb1e4ef9aff062\"]      1\n",
       "[\"ar_bevybar;c6e68c712b37eee7226b3548cb410ec0d8664d3978daa61e0e4810aa21c4a09f\"]      1\n",
       "[\"ar_bevybar;954e1bc4bbcd8a507a4d4c69630bbc93e75140451fa42d0d13b71f6ab64d254c\"]      1\n",
       "Name: id, Length: 21780, dtype: int64"
      ]
     },
     "execution_count": 19,
     "metadata": {},
     "output_type": "execute_result"
    }
   ],
   "source": [
    "tp_arg_2017.id.value_counts()"
   ]
  },
  {
   "cell_type": "code",
   "execution_count": 20,
   "metadata": {
    "scrolled": true
   },
   "outputs": [
    {
     "data": {
      "text/plain": [
       "Pack Conservadora Corona                                    2623\n",
       "Copas Stella Artois 330ml - Pack 6 unidades                 2413\n",
       "Copa Patagonia 400ml - Pack 6 unidades                      1736\n",
       "Pack de 6 Copas de Edición Limitada                         1598\n",
       "Pack de 3 Copas Edición Limitada                            1355\n",
       "Pack de Cervezas Europeas                                   1260\n",
       "Pack Corona Experience                                      1180\n",
       "Pack de Cervezas y Vasos Patagonia                          1142\n",
       "Copa Edición Limitada Stella Artois Brasil                  1022\n",
       "Copa Edición Limitada Stella Artois Uganda                   998\n",
       "Pack de Cervezas y Chopp Patagonia Octubrefest               944\n",
       "Destapador Stella Artois                                     762\n",
       "Cerveza Hoegaarden White                                     709\n",
       "Copa Edición Limitada Stella Artois Camboya                  650\n",
       "Copas Stella Artois 250ml - Pack 6 unidades                  618\n",
       "Vaso Patagonia Curvo 500ml. - Pack 6 unidades                596\n",
       "Cerveza Franziskaner Weissbier Hell                          596\n",
       "Copas Stella Artois Navidad - Pack 6 unidades                593\n",
       "Cerveza Leffe Blond                                          586\n",
       "Frapera Corona                                               584\n",
       "Cerveza Leffe Royale Whitbread Golding                       573\n",
       "Pack de Cervezas y Vasos Patagonia XL                        560\n",
       "Caja Los personajes de la Navidad                            474\n",
       "Pack de Cervezas y Frapera Corona                            469\n",
       "Pack de Cervezas y Copas Stella Artois Christmas Edition     466\n",
       "Pack de Cervezas y Vasos de Colección                        447\n",
       "Pack de cervezas y Vasos Patagonia 24.7                      434\n",
       "Cerveza Bass Pale Ale                                        429\n",
       "Cerveza Leffe Brune                                          422\n",
       "Cerveza Patagonia 24.7 - Session IPA con Sauco 710ml         414\n",
       "                                                            ... \n",
       "Bolsa de macerado                                              1\n",
       "Botella Ámbar 1 litro                                          1\n",
       "Pack Colección Patagonia                                       1\n",
       "Ron Barceló Imperial                                           1\n",
       "Vaso Nónico BevyBar                                            1\n",
       "Ron Barceló Imperial Premium Blend                             1\n",
       "Vaso Quilmes 500cc                                             1\n",
       "Pack de Cervezas de Estilo Alemán XL                           1\n",
       "Vino Mosquita Muerta Blend de Blancas                          1\n",
       "Pack Al mejor estilo alemán                                    1\n",
       "Ron Flor de Caña Centenario 12                                 1\n",
       "Pack de Cocktail Bazooka Beer                                  1\n",
       "Kit Cervezas y Accesorios Oktoberfest Mujer                    1\n",
       "Pack de Vinos Malbec Especiales                                1\n",
       "Pack de Vinos Cabernet Sauvignon                               1\n",
       "Whisky The Glenrothes Vintage 2001                             1\n",
       "Pack Craft Argentina                                           1\n",
       "Whisky The Famous Grouse                                       1\n",
       "Licor Grand Marnier                                            1\n",
       "Pack Mi Gran Patagonia                                         1\n",
       "Pack Cajón Patagonia Küné                                      1\n",
       "Pack de Vodka Russian Rye con Vasos y Jugo                     1\n",
       "Pack de Cervezas y Vinos Amables                               1\n",
       "Densímetro triple escala                                       1\n",
       "Pack de Vinos Selección Bodega Riccitelli                      1\n",
       "Kit Patagonia Octubrefest para los dos                         1\n",
       "Licor Kahlúa                                                   1\n",
       "Kit Cervezas y Accesorios Oktoberfest Para Los Dos             1\n",
       "Manguera Cristal 1/2\"                                          1\n",
       "Arandela de silicona                                           1\n",
       "Name: name, Length: 693, dtype: int64"
      ]
     },
     "execution_count": 20,
     "metadata": {},
     "output_type": "execute_result"
    }
   ],
   "source": [
    "##EDA Productos mas vendidos\n",
    "tp_h.name.value_counts()"
   ]
  },
  {
   "cell_type": "code",
   "execution_count": 21,
   "metadata": {},
   "outputs": [
    {
     "data": {
      "text/html": [
       "<div>\n",
       "<style scoped>\n",
       "    .dataframe tbody tr th:only-of-type {\n",
       "        vertical-align: middle;\n",
       "    }\n",
       "\n",
       "    .dataframe tbody tr th {\n",
       "        vertical-align: top;\n",
       "    }\n",
       "\n",
       "    .dataframe thead th {\n",
       "        text-align: right;\n",
       "    }\n",
       "</style>\n",
       "<table border=\"1\" class=\"dataframe\">\n",
       "  <thead>\n",
       "    <tr style=\"text-align: right;\">\n",
       "      <th></th>\n",
       "      <th>country</th>\n",
       "      <th>id</th>\n",
       "      <th>unit_discount_usd</th>\n",
       "      <th>unit_gross_revenue_local</th>\n",
       "      <th>order_date</th>\n",
       "      <th>order_status</th>\n",
       "      <th>customer_spk</th>\n",
       "      <th>unit_price_charged_local</th>\n",
       "      <th>unit_delivery_charged_local</th>\n",
       "      <th>quantity</th>\n",
       "      <th>unit_net_revenue_local</th>\n",
       "      <th>order_time</th>\n",
       "      <th>brand</th>\n",
       "      <th>name</th>\n",
       "      <th>category</th>\n",
       "      <th>subcategory</th>\n",
       "      <th>year</th>\n",
       "      <th>month</th>\n",
       "      <th>day</th>\n",
       "    </tr>\n",
       "  </thead>\n",
       "  <tbody>\n",
       "    <tr>\n",
       "      <th>17162</th>\n",
       "      <td>Argentina</td>\n",
       "      <td>[\"ar_bevybar;8b3eb4b88a85ba3eeb60dd24686995c38...</td>\n",
       "      <td>0.0000</td>\n",
       "      <td>1030.0000</td>\n",
       "      <td>2017-09-20</td>\n",
       "      <td>paid</td>\n",
       "      <td>ar_bevybar;8b3eb4b88a85ba3eeb60dd24686995c38b4...</td>\n",
       "      <td>890.0</td>\n",
       "      <td>140.0000</td>\n",
       "      <td>1</td>\n",
       "      <td>788.0530</td>\n",
       "      <td>1900-01-01 18:19:39</td>\n",
       "      <td>Corona</td>\n",
       "      <td>Pack Corona Experience</td>\n",
       "      <td>Beer</td>\n",
       "      <td>Others</td>\n",
       "      <td>2017</td>\n",
       "      <td>9</td>\n",
       "      <td>20</td>\n",
       "    </tr>\n",
       "    <tr>\n",
       "      <th>17165</th>\n",
       "      <td>Argentina</td>\n",
       "      <td>[\"ar_bevybar;41434b744330c691cf83b70da3fa080c8...</td>\n",
       "      <td>0.0000</td>\n",
       "      <td>631.0000</td>\n",
       "      <td>2017-06-13</td>\n",
       "      <td>paid</td>\n",
       "      <td>ar_bevybar;41434b744330c691cf83b70da3fa080c85a...</td>\n",
       "      <td>432.0</td>\n",
       "      <td>199.0000</td>\n",
       "      <td>1</td>\n",
       "      <td>493.6944</td>\n",
       "      <td>1900-01-01 12:56:23</td>\n",
       "      <td>Patagonia Brewing Co.</td>\n",
       "      <td>Pack de Cervezas y Vasos Patagonia</td>\n",
       "      <td>Mixed Pack</td>\n",
       "      <td>unknown</td>\n",
       "      <td>2017</td>\n",
       "      <td>6</td>\n",
       "      <td>13</td>\n",
       "    </tr>\n",
       "    <tr>\n",
       "      <th>17174</th>\n",
       "      <td>Argentina</td>\n",
       "      <td>[\"ar_bevybar;2aedfe0c0b63ee0da640463d4b0a09f74...</td>\n",
       "      <td>2.7181</td>\n",
       "      <td>234.6542</td>\n",
       "      <td>2017-02-28</td>\n",
       "      <td>paid</td>\n",
       "      <td>ar_bevybar;2aedfe0c0b63ee0da640463d4b0a09f74f9...</td>\n",
       "      <td>265.0</td>\n",
       "      <td>14.7222</td>\n",
       "      <td>1</td>\n",
       "      <td>176.2018</td>\n",
       "      <td>1900-01-01 23:33:23</td>\n",
       "      <td>Peñón del Águila</td>\n",
       "      <td>Cerveza Peñón del Águila Kölsch</td>\n",
       "      <td>Beer</td>\n",
       "      <td>unknown</td>\n",
       "      <td>2017</td>\n",
       "      <td>2</td>\n",
       "      <td>28</td>\n",
       "    </tr>\n",
       "    <tr>\n",
       "      <th>17175</th>\n",
       "      <td>Argentina</td>\n",
       "      <td>[\"ar_bevybar;2aedfe0c0b63ee0da640463d4b0a09f74...</td>\n",
       "      <td>1.8052</td>\n",
       "      <td>155.8458</td>\n",
       "      <td>2017-02-28</td>\n",
       "      <td>paid</td>\n",
       "      <td>ar_bevybar;2aedfe0c0b63ee0da640463d4b0a09f74f9...</td>\n",
       "      <td>44.0</td>\n",
       "      <td>9.7778</td>\n",
       "      <td>4</td>\n",
       "      <td>117.0246</td>\n",
       "      <td>1900-01-01 23:33:23</td>\n",
       "      <td>Peñón del Águila</td>\n",
       "      <td>Cerveza Peñón del Águila Kölsch</td>\n",
       "      <td>Beer</td>\n",
       "      <td>unknown</td>\n",
       "      <td>2017</td>\n",
       "      <td>2</td>\n",
       "      <td>28</td>\n",
       "    </tr>\n",
       "    <tr>\n",
       "      <th>17176</th>\n",
       "      <td>Argentina</td>\n",
       "      <td>[\"ar_bevybar;2aedfe0c0b63ee0da640463d4b0a09f74...</td>\n",
       "      <td>9.0465</td>\n",
       "      <td>910.0000</td>\n",
       "      <td>2017-07-30</td>\n",
       "      <td>paid</td>\n",
       "      <td>ar_bevybar;2aedfe0c0b63ee0da640463d4b0a09f74f9...</td>\n",
       "      <td>1011.0</td>\n",
       "      <td>49.0000</td>\n",
       "      <td>1</td>\n",
       "      <td>698.5160</td>\n",
       "      <td>1900-01-01 17:15:42</td>\n",
       "      <td>BevyBar</td>\n",
       "      <td>Pack Degustación del Mes de Julio XL</td>\n",
       "      <td>Mixed Pack</td>\n",
       "      <td>unknown</td>\n",
       "      <td>2017</td>\n",
       "      <td>7</td>\n",
       "      <td>30</td>\n",
       "    </tr>\n",
       "  </tbody>\n",
       "</table>\n",
       "</div>"
      ],
      "text/plain": [
       "         country                                                 id  \\\n",
       "17162  Argentina  [\"ar_bevybar;8b3eb4b88a85ba3eeb60dd24686995c38...   \n",
       "17165  Argentina  [\"ar_bevybar;41434b744330c691cf83b70da3fa080c8...   \n",
       "17174  Argentina  [\"ar_bevybar;2aedfe0c0b63ee0da640463d4b0a09f74...   \n",
       "17175  Argentina  [\"ar_bevybar;2aedfe0c0b63ee0da640463d4b0a09f74...   \n",
       "17176  Argentina  [\"ar_bevybar;2aedfe0c0b63ee0da640463d4b0a09f74...   \n",
       "\n",
       "       unit_discount_usd  unit_gross_revenue_local order_date order_status  \\\n",
       "17162             0.0000                 1030.0000 2017-09-20         paid   \n",
       "17165             0.0000                  631.0000 2017-06-13         paid   \n",
       "17174             2.7181                  234.6542 2017-02-28         paid   \n",
       "17175             1.8052                  155.8458 2017-02-28         paid   \n",
       "17176             9.0465                  910.0000 2017-07-30         paid   \n",
       "\n",
       "                                            customer_spk  \\\n",
       "17162  ar_bevybar;8b3eb4b88a85ba3eeb60dd24686995c38b4...   \n",
       "17165  ar_bevybar;41434b744330c691cf83b70da3fa080c85a...   \n",
       "17174  ar_bevybar;2aedfe0c0b63ee0da640463d4b0a09f74f9...   \n",
       "17175  ar_bevybar;2aedfe0c0b63ee0da640463d4b0a09f74f9...   \n",
       "17176  ar_bevybar;2aedfe0c0b63ee0da640463d4b0a09f74f9...   \n",
       "\n",
       "       unit_price_charged_local  unit_delivery_charged_local  quantity  \\\n",
       "17162                     890.0                     140.0000         1   \n",
       "17165                     432.0                     199.0000         1   \n",
       "17174                     265.0                      14.7222         1   \n",
       "17175                      44.0                       9.7778         4   \n",
       "17176                    1011.0                      49.0000         1   \n",
       "\n",
       "       unit_net_revenue_local          order_time                  brand  \\\n",
       "17162                788.0530 1900-01-01 18:19:39                 Corona   \n",
       "17165                493.6944 1900-01-01 12:56:23  Patagonia Brewing Co.   \n",
       "17174                176.2018 1900-01-01 23:33:23       Peñón del Águila   \n",
       "17175                117.0246 1900-01-01 23:33:23       Peñón del Águila   \n",
       "17176                698.5160 1900-01-01 17:15:42                BevyBar   \n",
       "\n",
       "                                       name    category subcategory  year  \\\n",
       "17162                Pack Corona Experience        Beer      Others  2017   \n",
       "17165    Pack de Cervezas y Vasos Patagonia  Mixed Pack     unknown  2017   \n",
       "17174       Cerveza Peñón del Águila Kölsch        Beer     unknown  2017   \n",
       "17175       Cerveza Peñón del Águila Kölsch        Beer     unknown  2017   \n",
       "17176  Pack Degustación del Mes de Julio XL  Mixed Pack     unknown  2017   \n",
       "\n",
       "       month  day  \n",
       "17162      9   20  \n",
       "17165      6   13  \n",
       "17174      2   28  \n",
       "17175      2   28  \n",
       "17176      7   30  "
      ]
     },
     "execution_count": 21,
     "metadata": {},
     "output_type": "execute_result"
    }
   ],
   "source": [
    "tp_h.head()"
   ]
  },
  {
   "cell_type": "code",
   "execution_count": 22,
   "metadata": {
    "scrolled": true
   },
   "outputs": [
    {
     "data": {
      "text/plain": [
       "array(['Corona', 'Patagonia Brewing Co.', 'Peñón del Águila', 'BevyBar',\n",
       "       'Stella Artois', 'Bass Brewery', 'Leffe', \"Fuller's\",\n",
       "       'Spaten-Franziskaner-Bräu', 'Karlsberg Brauerei',\n",
       "       'Les Brasseurs de Gayant\\xa0', 'Barba Roja', 'Coopers Brewery',\n",
       "       'Brouwerij Van Steenberge', 'Hoegaarden', 'Backus y Johnston',\n",
       "       'Löwenbräu', 'Brauerei Beck & Co',\n",
       "       'Fabricas Nacionales De Cerveza', 'Czechvar',\n",
       "       'De La Vaca Tranquila Cervezas Artesanales',\n",
       "       'Paulaner Brauerei München', 'Duvel Moortgat', 'Zillertal',\n",
       "       'Baltika Breweries', 'Hofbräu München', 'Chimay',\n",
       "       'Kronenbourg 1664', 'Kulmbacher Brauerei AG', 'Grimbergen',\n",
       "       'Maredsous', 'Tsingtao', 'Cervecería y Maltería Quilmes',\n",
       "       'Fábricas Nacionales De Cerveza', 'Anchor Brewing Company',\n",
       "       'Cervecería Antares', 'Condeminal', 'Brasserie de Silly',\n",
       "       'SAB Miller', 'Bodega Budeguer', 'Shock Top', 'Belsh',\n",
       "       'OETTINGER Brauerei GmbH', 'Erdinger Weissbräu', 'Águila Real',\n",
       "       'Manos Negras', 'Freixenet', 'The Fran-C Wines', 'Finca Ferrer',\n",
       "       'Bodega Renacer', 'Oranjeboom', 'Maal Wines', 'Antigua',\n",
       "       'Boris Biere', 'unknown', 'Revancha', 'Huentala Wines',\n",
       "       'Bodega Cruz Primero', 'Bodega del Desierto', 'Tinto Negro',\n",
       "       'Corbeau Wines', 'Isle of Jura', 'Barceló', '2km',\n",
       "       'Whyte & Mackay', 'The Patrón Spirits Company', 'MixxTail', 'Skol',\n",
       "       'Rye', 'Mundo Revés', 'Mulata', 'Bodega José Luis Mounier',\n",
       "       'Jim Beam', 'Pravda', 'Belenkaya', 'Aura', 'Mosquita Muerta Wines',\n",
       "       'Hennessy', 'Flor de Caña', 'Traslapiedra', 'Tres14', 'Beluga',\n",
       "       'Bottega', 'Matías Riccitelli', 'The Glenrothes', 'Cinzano',\n",
       "       'Xoriguer', 'Absolut', 'Havana Club', 'Fuegian Beverage Company',\n",
       "       'Bacardi', 'The Famous Grouse', 'Grand Marnier',\n",
       "       'The Mula Cervezas Especiales', 'Cointreau', 'Kahlúa'],\n",
       "      dtype=object)"
      ]
     },
     "execution_count": 22,
     "metadata": {},
     "output_type": "execute_result"
    }
   ],
   "source": [
    "tp_h.brand.unique()"
   ]
  },
  {
   "cell_type": "code",
   "execution_count": 23,
   "metadata": {},
   "outputs": [],
   "source": [
    "#Cambio todos los brands de importadas por 'importadas'\n",
    "tp_arg_2017.brand = tp_arg_2017.brand.replace(to_replace = ['Cervecería Antares','Flensburger Brauerei','Fábricas Nacionales De Cerveza', 'Fabricas Nacionales De Cerveza', 'Cerveceria Artesanal El Bolson', 'Peñón del Águila', 'Leffe', 'Spaten-Franziskaner-Bräu', 'BBC', 'Cervecería Artesanal El Bolson',\n",
    "       'Anchor Brewing Company', 'Bass Brewery', 'Hofbräu München',\n",
    "       'Adnams', \"Fuller's\", 'Karlsberg Brauerei',\n",
    "       'Les Brasseurs de Gayant\\xa0',\n",
    "       'Brouwerij Van Steenberge', 'Hoegaarden',\n",
    "       'Fuegian Beverage Company',\n",
    "       'De La Vaca Tranquila Cervezas Artesanales', 'Tsingtao',\n",
    "       'Löwenbräu', 'unknown', 'Barba Roja', 'Coopers Brewery',\n",
    "       'Backus y Johnston', 'Brauerei Beck & Co', 'MixxTail', 'Shock Top',\n",
    "       'Bogotá Beer Company',\n",
    "       'Czechvar', 'Belle-Vue', 'Paulaner Brauerei München',\n",
    "       'Duvel Moortgat', 'Zillertal', 'Baltika Breweries', 'Chimay',\n",
    "       'Kronenbourg 1664', 'Kulmbacher Brauerei AG', 'Grimbergen',\n",
    "       'Maredsous',\n",
    "       'franziskaner', 'Condeminal', 'Erdinger Weissbräu',\n",
    "       'Brasserie de Silly', 'SAB Miller','Bodega Budeguer',\n",
    "       'Skol', 'Belsh', 'OETTINGER Brauerei GmbH', 'Águila Real', 'Hertog Jan', 'Manos Negras', 'Freixenet',\n",
    "       'The Fran-C Wines', 'Finca Ferrer', 'Bodega Renacer', 'Oranjeboom',\n",
    "       'Maal Wines', 'Tinto Negro', 'Corbeau Wines',\n",
    "       'Mosquita Muerta Wines', 'Bodega del Desierto', 'Antigua',\n",
    "       'Boris Biere', 'Barceló', 'Boddingtons', 'Bombay', 'Jägermeister',\n",
    "       'Revancha', 'Huentala Wines', 'Bodega Cruz Primero', 'Aura',\n",
    "       'Harvierstoun', 'Chivas Regal', 'Weidmann', 'Isle of Jura', 'Belenkaya',\n",
    "       '2km', \"Jack Daniel's\", 'Johnnie Walker', 'Whyte & Mackay',\n",
    "       'The Patrón Spirits Company', 'Amarula', 'Havana Club',\n",
    "       'Matías Riccitelli', 'Mulata', 'Rye', 'Mundo Revés', 'Brahma',\n",
    "       'Bodega José Luis Mounier', 'José Cuervo', 'Jim Beam', 'Bier Life',\n",
    "       'Makers Mark', 'Mistral', 'Príncipe de los Apóstoles',\n",
    "       'Flor de Caña', 'Bacardi', 'Absolut', 'Pravda', 'Greene King',\n",
    "       'SKYY', 'Hennessy', 'Noctua', 'Jameson', 'Traslapiedra',\n",
    "       'Bodega Ojo de Vino', 'Tres14', 'Velho Barreiro', 'Van Pur',\n",
    "       'SIAM', 'Beluga', 'Bottega', 'Campari', 'The Glenrothes',\n",
    "       'Cinzano', 'Xoriguer', 'El Jimador', 'Kahlúa', 'Malibu', 'Aperol',\n",
    "       'The Botanist', 'Brasserie de Luxemburgo Mousel - Diekrich',\n",
    "       'The Famous Grouse', 'MG Destilerías', 'Grand Marnier',\n",
    "       'Cointreau', 'Finca Beth', 'The Mula Cervezas Especiales',\n",
    "       'Anima Mundi'],value = 'importada')"
   ]
  },
  {
   "cell_type": "code",
   "execution_count": 24,
   "metadata": {
    "scrolled": true
   },
   "outputs": [
    {
     "data": {
      "text/plain": [
       "array(['Corona', 'Patagonia Brewing Co.', 'importada', 'BevyBar',\n",
       "       'Stella Artois', 'Cervecería y Maltería Quilmes'], dtype=object)"
      ]
     },
     "execution_count": 24,
     "metadata": {},
     "output_type": "execute_result"
    }
   ],
   "source": [
    "#Vemos los brands que quedaron\n",
    "tp_arg_2017['brand'].unique()"
   ]
  },
  {
   "cell_type": "markdown",
   "metadata": {},
   "source": [
    "## Hasta aca tenemos un tp_h identico al original pero con menos columnas, y un tp_arg_2017 con un par mas de columnas agrupado por brand importadas"
   ]
  },
  {
   "cell_type": "code",
   "execution_count": 25,
   "metadata": {
    "scrolled": true
   },
   "outputs": [],
   "source": [
    "##Tabla para ver cuantas veces compró cada usuario\n",
    "compras_usuario = tp_arg_2017.groupby(['id'])['id'].count()\n",
    "compras_usuario = compras_usuario.loc[compras_usuario < 10]"
   ]
  },
  {
   "cell_type": "code",
   "execution_count": 26,
   "metadata": {
    "scrolled": true
   },
   "outputs": [
    {
     "data": {
      "image/png": "[encoded data removed]",
      "text/plain": [
       "<Figure size 432x288 with 1 Axes>"
      ]
     },
     "metadata": {
      "needs_background": "light"
     },
     "output_type": "display_data"
    }
   ],
   "source": [
    "plt.boxplot(compras_usuario)\n",
    "plt.title(\"Dist de cantidad de compras por usuario\")\n",
    "plt.xlabel(\"id\")\n",
    "plt.show()\n",
    "## En un periodo de un año, la mediana de compra es de una compra."
   ]
  },
  {
   "cell_type": "code",
   "execution_count": 27,
   "metadata": {},
   "outputs": [
    {
     "data": {
      "text/plain": [
       "paid                   56862\n",
       "grand_total_is_zero     3163\n",
       "refunded                 486\n",
       "pending                  421\n",
       "partially_refunded       329\n",
       "partially_paid             2\n",
       "Name: order_status, dtype: int64"
      ]
     },
     "execution_count": 27,
     "metadata": {},
     "output_type": "execute_result"
    }
   ],
   "source": [
    "#Vemos la cantidad de apariciones de estados de pagos\n",
    "tp_arg_2017.order_status.value_counts()"
   ]
  },
  {
   "cell_type": "code",
   "execution_count": 28,
   "metadata": {},
   "outputs": [
    {
     "data": {
      "text/plain": [
       "(58100, 19)"
      ]
     },
     "execution_count": 28,
     "metadata": {},
     "output_type": "execute_result"
    }
   ],
   "source": [
    "#Dejamos el dataset sin grand_total_is_zero\n",
    "tp_arg_2017 = tp_arg_2017.loc[tp_arg_2017['order_status'].isin(['paid', 'pending', 'refunded','partially_refunded','autorized','partially_paid'])]\n",
    "#Dejamos el otro tambien\n",
    "tp_h = tp_h.loc[tp_h['order_status'].isin(['paid', 'pending', 'refunded','partially_refunded','autorized','partially_paid'])]\n",
    "tp_h.shape"
   ]
  },
  {
   "cell_type": "code",
   "execution_count": 29,
   "metadata": {},
   "outputs": [
    {
     "data": {
      "text/plain": [
       "importada                        20018\n",
       "Stella Artois                    12344\n",
       "Patagonia Brewing Co.             9619\n",
       "BevyBar                           8709\n",
       "Corona                            6939\n",
       "Cervecería y Maltería Quilmes      471\n",
       "Name: brand, dtype: int64"
      ]
     },
     "execution_count": 29,
     "metadata": {},
     "output_type": "execute_result"
    }
   ],
   "source": [
    "#Analizamos la cantidad de apariciones por cada marca\n",
    "tp_arg_2017.brand.value_counts()"
   ]
  },
  {
   "cell_type": "code",
   "execution_count": 30,
   "metadata": {},
   "outputs": [
    {
     "data": {
      "text/plain": [
       "Mixed Pack      31774\n",
       "Beer            19624\n",
       "Merchandise      5647\n",
       "Wine              678\n",
       "Spirits           205\n",
       "unknown           128\n",
       "Home Brewing       44\n",
       "Name: category, dtype: int64"
      ]
     },
     "execution_count": 30,
     "metadata": {},
     "output_type": "execute_result"
    }
   ],
   "source": [
    "#Analizamos la cantidad de apariciones por cada categoría\n",
    "tp_arg_2017.category.value_counts()"
   ]
  },
  {
   "cell_type": "code",
   "execution_count": 31,
   "metadata": {},
   "outputs": [
    {
     "data": {
      "text/plain": [
       "(57045, 30)"
      ]
     },
     "execution_count": 31,
     "metadata": {},
     "output_type": "execute_result"
    }
   ],
   "source": [
    "#Aca ya queda el dataset\n",
    "tp_h = tp_h.loc[tp_h['category'].isin(['Mixed Pack', 'Beer', 'Merchandise'])]\n",
    "tp_arg_2017 = tp_arg_2017.loc[tp_arg_2017['category'].isin(['Mixed Pack', 'Beer', 'Merchandise'])]\n",
    "tp_arg_2017.shape"
   ]
  },
  {
   "cell_type": "code",
   "execution_count": 32,
   "metadata": {},
   "outputs": [
    {
     "data": {
      "image/png": "[encoded data removed]",
      "text/plain": [
       "<Figure size 1080x216 with 1 Axes>"
      ]
     },
     "metadata": {
      "needs_background": "light"
     },
     "output_type": "display_data"
    }
   ],
   "source": [
    "plt.figure(figsize=(15,3))\n",
    "g = sns.countplot(x=\"category\",data= tp_arg_2017, palette = \"muted\")\n",
    "g.set_xticklabels(g.get_xticklabels(), rotation=90, ha=\"right\")\n",
    "plt.title('Cantidad de apariciones por Category',size = 20)\n",
    "plt.xlabel(\"category\")\n",
    "plt.ylabel(\"Count\")\n",
    "plt.show()"
   ]
  },
  {
   "cell_type": "code",
   "execution_count": 33,
   "metadata": {
    "scrolled": false
   },
   "outputs": [
    {
     "data": {
      "image/png": "[encoded data removed]",
      "text/plain": [
       "<Figure size 1080x216 with 1 Axes>"
      ]
     },
     "metadata": {
      "needs_background": "light"
     },
     "output_type": "display_data"
    }
   ],
   "source": [
    "plt.figure(figsize=(15,3))\n",
    "g = sns.countplot(x=\"brand\",data=tp_arg_2017, palette = \"muted\", order = tp_arg_2017['brand'].value_counts().index)\n",
    "g.set_xticklabels(g.get_xticklabels(), rotation=90, ha=\"right\")\n",
    "plt.title('Cantidad de Apariciones por Brand',size = 30)\n",
    "plt.xlabel(\"brand\")\n",
    "plt.ylabel(\"Count\")\n",
    "plt.show()"
   ]
  },
  {
   "cell_type": "code",
   "execution_count": 34,
   "metadata": {},
   "outputs": [
    {
     "data": {
      "text/html": [
       "<div>\n",
       "<style scoped>\n",
       "    .dataframe tbody tr th:only-of-type {\n",
       "        vertical-align: middle;\n",
       "    }\n",
       "\n",
       "    .dataframe tbody tr th {\n",
       "        vertical-align: top;\n",
       "    }\n",
       "\n",
       "    .dataframe thead tr th {\n",
       "        text-align: left;\n",
       "    }\n",
       "\n",
       "    .dataframe thead tr:last-of-type th {\n",
       "        text-align: right;\n",
       "    }\n",
       "</style>\n",
       "<table border=\"1\" class=\"dataframe\">\n",
       "  <thead>\n",
       "    <tr>\n",
       "      <th></th>\n",
       "      <th colspan=\"3\" halign=\"left\">quantity</th>\n",
       "    </tr>\n",
       "    <tr>\n",
       "      <th>category</th>\n",
       "      <th>Beer</th>\n",
       "      <th>Merchandise</th>\n",
       "      <th>Mixed Pack</th>\n",
       "    </tr>\n",
       "    <tr>\n",
       "      <th>month</th>\n",
       "      <th></th>\n",
       "      <th></th>\n",
       "      <th></th>\n",
       "    </tr>\n",
       "  </thead>\n",
       "  <tbody>\n",
       "    <tr>\n",
       "      <th>1</th>\n",
       "      <td>3304</td>\n",
       "      <td>687</td>\n",
       "      <td>1351</td>\n",
       "    </tr>\n",
       "    <tr>\n",
       "      <th>2</th>\n",
       "      <td>2810</td>\n",
       "      <td>2549</td>\n",
       "      <td>2561</td>\n",
       "    </tr>\n",
       "    <tr>\n",
       "      <th>3</th>\n",
       "      <td>1850</td>\n",
       "      <td>1037</td>\n",
       "      <td>2477</td>\n",
       "    </tr>\n",
       "    <tr>\n",
       "      <th>4</th>\n",
       "      <td>3275</td>\n",
       "      <td>380</td>\n",
       "      <td>1976</td>\n",
       "    </tr>\n",
       "    <tr>\n",
       "      <th>5</th>\n",
       "      <td>2092</td>\n",
       "      <td>543</td>\n",
       "      <td>4807</td>\n",
       "    </tr>\n",
       "    <tr>\n",
       "      <th>6</th>\n",
       "      <td>2828</td>\n",
       "      <td>800</td>\n",
       "      <td>2556</td>\n",
       "    </tr>\n",
       "    <tr>\n",
       "      <th>7</th>\n",
       "      <td>4004</td>\n",
       "      <td>595</td>\n",
       "      <td>3153</td>\n",
       "    </tr>\n",
       "    <tr>\n",
       "      <th>8</th>\n",
       "      <td>1428</td>\n",
       "      <td>334</td>\n",
       "      <td>843</td>\n",
       "    </tr>\n",
       "    <tr>\n",
       "      <th>9</th>\n",
       "      <td>4997</td>\n",
       "      <td>1069</td>\n",
       "      <td>3391</td>\n",
       "    </tr>\n",
       "    <tr>\n",
       "      <th>10</th>\n",
       "      <td>3218</td>\n",
       "      <td>447</td>\n",
       "      <td>4305</td>\n",
       "    </tr>\n",
       "    <tr>\n",
       "      <th>11</th>\n",
       "      <td>2354</td>\n",
       "      <td>186</td>\n",
       "      <td>5714</td>\n",
       "    </tr>\n",
       "    <tr>\n",
       "      <th>12</th>\n",
       "      <td>2385</td>\n",
       "      <td>120</td>\n",
       "      <td>4711</td>\n",
       "    </tr>\n",
       "  </tbody>\n",
       "</table>\n",
       "</div>"
      ],
      "text/plain": [
       "         quantity                       \n",
       "category     Beer Merchandise Mixed Pack\n",
       "month                                   \n",
       "1            3304         687       1351\n",
       "2            2810        2549       2561\n",
       "3            1850        1037       2477\n",
       "4            3275         380       1976\n",
       "5            2092         543       4807\n",
       "6            2828         800       2556\n",
       "7            4004         595       3153\n",
       "8            1428         334        843\n",
       "9            4997        1069       3391\n",
       "10           3218         447       4305\n",
       "11           2354         186       5714\n",
       "12           2385         120       4711"
      ]
     },
     "execution_count": 34,
     "metadata": {},
     "output_type": "execute_result"
    }
   ],
   "source": [
    "#Me fijo las cantidades totales de categoría por todos los meses.\n",
    "tp_pivot_cat = pd.pivot_table(data = tp_arg_2017, values = ['quantity'], index = ['month'], columns = ['category'], aggfunc= np.sum, )\n",
    "tp_pivot_cat"
   ]
  },
  {
   "cell_type": "code",
   "execution_count": 35,
   "metadata": {
    "scrolled": true
   },
   "outputs": [
    {
     "data": {
      "text/html": [
       "<div>\n",
       "<style scoped>\n",
       "    .dataframe tbody tr th:only-of-type {\n",
       "        vertical-align: middle;\n",
       "    }\n",
       "\n",
       "    .dataframe tbody tr th {\n",
       "        vertical-align: top;\n",
       "    }\n",
       "\n",
       "    .dataframe thead tr th {\n",
       "        text-align: left;\n",
       "    }\n",
       "\n",
       "    .dataframe thead tr:last-of-type th {\n",
       "        text-align: right;\n",
       "    }\n",
       "</style>\n",
       "<table border=\"1\" class=\"dataframe\">\n",
       "  <thead>\n",
       "    <tr>\n",
       "      <th></th>\n",
       "      <th colspan=\"6\" halign=\"left\">quantity</th>\n",
       "    </tr>\n",
       "    <tr>\n",
       "      <th>brand</th>\n",
       "      <th>BevyBar</th>\n",
       "      <th>Cervecería y Maltería Quilmes</th>\n",
       "      <th>Corona</th>\n",
       "      <th>Patagonia Brewing Co.</th>\n",
       "      <th>Stella Artois</th>\n",
       "      <th>importada</th>\n",
       "    </tr>\n",
       "    <tr>\n",
       "      <th>month</th>\n",
       "      <th></th>\n",
       "      <th></th>\n",
       "      <th></th>\n",
       "      <th></th>\n",
       "      <th></th>\n",
       "      <th></th>\n",
       "    </tr>\n",
       "  </thead>\n",
       "  <tbody>\n",
       "    <tr>\n",
       "      <th>1</th>\n",
       "      <td>255</td>\n",
       "      <td>57</td>\n",
       "      <td>419</td>\n",
       "      <td>953</td>\n",
       "      <td>1252</td>\n",
       "      <td>2406</td>\n",
       "    </tr>\n",
       "    <tr>\n",
       "      <th>2</th>\n",
       "      <td>240</td>\n",
       "      <td>92</td>\n",
       "      <td>386</td>\n",
       "      <td>665</td>\n",
       "      <td>4272</td>\n",
       "      <td>2265</td>\n",
       "    </tr>\n",
       "    <tr>\n",
       "      <th>3</th>\n",
       "      <td>288</td>\n",
       "      <td>30</td>\n",
       "      <td>276</td>\n",
       "      <td>576</td>\n",
       "      <td>2598</td>\n",
       "      <td>1596</td>\n",
       "    </tr>\n",
       "    <tr>\n",
       "      <th>4</th>\n",
       "      <td>465</td>\n",
       "      <td>18</td>\n",
       "      <td>639</td>\n",
       "      <td>650</td>\n",
       "      <td>964</td>\n",
       "      <td>2895</td>\n",
       "    </tr>\n",
       "    <tr>\n",
       "      <th>5</th>\n",
       "      <td>1862</td>\n",
       "      <td>37</td>\n",
       "      <td>607</td>\n",
       "      <td>1162</td>\n",
       "      <td>1362</td>\n",
       "      <td>2412</td>\n",
       "    </tr>\n",
       "    <tr>\n",
       "      <th>6</th>\n",
       "      <td>801</td>\n",
       "      <td>17</td>\n",
       "      <td>624</td>\n",
       "      <td>729</td>\n",
       "      <td>1636</td>\n",
       "      <td>2377</td>\n",
       "    </tr>\n",
       "    <tr>\n",
       "      <th>7</th>\n",
       "      <td>732</td>\n",
       "      <td>80</td>\n",
       "      <td>1060</td>\n",
       "      <td>1721</td>\n",
       "      <td>971</td>\n",
       "      <td>3188</td>\n",
       "    </tr>\n",
       "    <tr>\n",
       "      <th>8</th>\n",
       "      <td>126</td>\n",
       "      <td>30</td>\n",
       "      <td>246</td>\n",
       "      <td>561</td>\n",
       "      <td>494</td>\n",
       "      <td>1148</td>\n",
       "    </tr>\n",
       "    <tr>\n",
       "      <th>9</th>\n",
       "      <td>161</td>\n",
       "      <td>88</td>\n",
       "      <td>1042</td>\n",
       "      <td>2627</td>\n",
       "      <td>1414</td>\n",
       "      <td>4125</td>\n",
       "    </tr>\n",
       "    <tr>\n",
       "      <th>10</th>\n",
       "      <td>1608</td>\n",
       "      <td>61</td>\n",
       "      <td>1180</td>\n",
       "      <td>1687</td>\n",
       "      <td>729</td>\n",
       "      <td>2705</td>\n",
       "    </tr>\n",
       "    <tr>\n",
       "      <th>11</th>\n",
       "      <td>1531</td>\n",
       "      <td>74</td>\n",
       "      <td>1792</td>\n",
       "      <td>1213</td>\n",
       "      <td>1749</td>\n",
       "      <td>1895</td>\n",
       "    </tr>\n",
       "    <tr>\n",
       "      <th>12</th>\n",
       "      <td>1564</td>\n",
       "      <td>38</td>\n",
       "      <td>1546</td>\n",
       "      <td>845</td>\n",
       "      <td>1111</td>\n",
       "      <td>2112</td>\n",
       "    </tr>\n",
       "  </tbody>\n",
       "</table>\n",
       "</div>"
      ],
      "text/plain": [
       "      quantity                                                             \\\n",
       "brand  BevyBar Cervecería y Maltería Quilmes Corona Patagonia Brewing Co.   \n",
       "month                                                                       \n",
       "1          255                            57    419                   953   \n",
       "2          240                            92    386                   665   \n",
       "3          288                            30    276                   576   \n",
       "4          465                            18    639                   650   \n",
       "5         1862                            37    607                  1162   \n",
       "6          801                            17    624                   729   \n",
       "7          732                            80   1060                  1721   \n",
       "8          126                            30    246                   561   \n",
       "9          161                            88   1042                  2627   \n",
       "10        1608                            61   1180                  1687   \n",
       "11        1531                            74   1792                  1213   \n",
       "12        1564                            38   1546                   845   \n",
       "\n",
       "                               \n",
       "brand Stella Artois importada  \n",
       "month                          \n",
       "1              1252      2406  \n",
       "2              4272      2265  \n",
       "3              2598      1596  \n",
       "4               964      2895  \n",
       "5              1362      2412  \n",
       "6              1636      2377  \n",
       "7               971      3188  \n",
       "8               494      1148  \n",
       "9              1414      4125  \n",
       "10              729      2705  \n",
       "11             1749      1895  \n",
       "12             1111      2112  "
      ]
     },
     "execution_count": 35,
     "metadata": {},
     "output_type": "execute_result"
    }
   ],
   "source": [
    "#Idem anterior pero por marca\n",
    "tp_pivot_brand = pd.pivot_table(data = tp_arg_2017, values = ['quantity'], index = ['month'], columns = ['brand'], aggfunc= np.sum, )\n",
    "tp_pivot_brand"
   ]
  },
  {
   "cell_type": "code",
   "execution_count": 36,
   "metadata": {},
   "outputs": [
    {
     "data": {
      "text/html": [
       "<div>\n",
       "<style scoped>\n",
       "    .dataframe tbody tr th:only-of-type {\n",
       "        vertical-align: middle;\n",
       "    }\n",
       "\n",
       "    .dataframe tbody tr th {\n",
       "        vertical-align: top;\n",
       "    }\n",
       "\n",
       "    .dataframe thead tr th {\n",
       "        text-align: left;\n",
       "    }\n",
       "\n",
       "    .dataframe thead tr:last-of-type th {\n",
       "        text-align: right;\n",
       "    }\n",
       "</style>\n",
       "<table border=\"1\" class=\"dataframe\">\n",
       "  <thead>\n",
       "    <tr>\n",
       "      <th></th>\n",
       "      <th colspan=\"18\" halign=\"left\">quantity</th>\n",
       "    </tr>\n",
       "    <tr>\n",
       "      <th>brand</th>\n",
       "      <th colspan=\"3\" halign=\"left\">BevyBar</th>\n",
       "      <th colspan=\"3\" halign=\"left\">Cervecería y Maltería Quilmes</th>\n",
       "      <th colspan=\"3\" halign=\"left\">Corona</th>\n",
       "      <th colspan=\"3\" halign=\"left\">Patagonia Brewing Co.</th>\n",
       "      <th colspan=\"3\" halign=\"left\">Stella Artois</th>\n",
       "      <th colspan=\"3\" halign=\"left\">importada</th>\n",
       "    </tr>\n",
       "    <tr>\n",
       "      <th>category</th>\n",
       "      <th>Beer</th>\n",
       "      <th>Merchandise</th>\n",
       "      <th>Mixed Pack</th>\n",
       "      <th>Beer</th>\n",
       "      <th>Merchandise</th>\n",
       "      <th>Mixed Pack</th>\n",
       "      <th>Beer</th>\n",
       "      <th>Merchandise</th>\n",
       "      <th>Mixed Pack</th>\n",
       "      <th>Beer</th>\n",
       "      <th>Merchandise</th>\n",
       "      <th>Mixed Pack</th>\n",
       "      <th>Beer</th>\n",
       "      <th>Merchandise</th>\n",
       "      <th>Mixed Pack</th>\n",
       "      <th>Beer</th>\n",
       "      <th>Merchandise</th>\n",
       "      <th>Mixed Pack</th>\n",
       "    </tr>\n",
       "    <tr>\n",
       "      <th>month</th>\n",
       "      <th></th>\n",
       "      <th></th>\n",
       "      <th></th>\n",
       "      <th></th>\n",
       "      <th></th>\n",
       "      <th></th>\n",
       "      <th></th>\n",
       "      <th></th>\n",
       "      <th></th>\n",
       "      <th></th>\n",
       "      <th></th>\n",
       "      <th></th>\n",
       "      <th></th>\n",
       "      <th></th>\n",
       "      <th></th>\n",
       "      <th></th>\n",
       "      <th></th>\n",
       "      <th></th>\n",
       "    </tr>\n",
       "  </thead>\n",
       "  <tbody>\n",
       "    <tr>\n",
       "      <th>1</th>\n",
       "      <td>NaN</td>\n",
       "      <td>NaN</td>\n",
       "      <td>255.0</td>\n",
       "      <td>57.0</td>\n",
       "      <td>NaN</td>\n",
       "      <td>NaN</td>\n",
       "      <td>284.0</td>\n",
       "      <td>124.0</td>\n",
       "      <td>11.0</td>\n",
       "      <td>406.0</td>\n",
       "      <td>115.0</td>\n",
       "      <td>432.0</td>\n",
       "      <td>269.0</td>\n",
       "      <td>444.0</td>\n",
       "      <td>539.0</td>\n",
       "      <td>2288.0</td>\n",
       "      <td>4.0</td>\n",
       "      <td>114.0</td>\n",
       "    </tr>\n",
       "    <tr>\n",
       "      <th>2</th>\n",
       "      <td>NaN</td>\n",
       "      <td>2.0</td>\n",
       "      <td>238.0</td>\n",
       "      <td>92.0</td>\n",
       "      <td>NaN</td>\n",
       "      <td>NaN</td>\n",
       "      <td>191.0</td>\n",
       "      <td>172.0</td>\n",
       "      <td>23.0</td>\n",
       "      <td>254.0</td>\n",
       "      <td>67.0</td>\n",
       "      <td>344.0</td>\n",
       "      <td>115.0</td>\n",
       "      <td>2306.0</td>\n",
       "      <td>1851.0</td>\n",
       "      <td>2158.0</td>\n",
       "      <td>2.0</td>\n",
       "      <td>105.0</td>\n",
       "    </tr>\n",
       "    <tr>\n",
       "      <th>3</th>\n",
       "      <td>1.0</td>\n",
       "      <td>2.0</td>\n",
       "      <td>285.0</td>\n",
       "      <td>30.0</td>\n",
       "      <td>NaN</td>\n",
       "      <td>NaN</td>\n",
       "      <td>55.0</td>\n",
       "      <td>82.0</td>\n",
       "      <td>139.0</td>\n",
       "      <td>161.0</td>\n",
       "      <td>45.0</td>\n",
       "      <td>370.0</td>\n",
       "      <td>75.0</td>\n",
       "      <td>907.0</td>\n",
       "      <td>1616.0</td>\n",
       "      <td>1528.0</td>\n",
       "      <td>1.0</td>\n",
       "      <td>67.0</td>\n",
       "    </tr>\n",
       "    <tr>\n",
       "      <th>4</th>\n",
       "      <td>19.0</td>\n",
       "      <td>4.0</td>\n",
       "      <td>442.0</td>\n",
       "      <td>18.0</td>\n",
       "      <td>NaN</td>\n",
       "      <td>NaN</td>\n",
       "      <td>192.0</td>\n",
       "      <td>56.0</td>\n",
       "      <td>391.0</td>\n",
       "      <td>297.0</td>\n",
       "      <td>24.0</td>\n",
       "      <td>329.0</td>\n",
       "      <td>56.0</td>\n",
       "      <td>288.0</td>\n",
       "      <td>620.0</td>\n",
       "      <td>2693.0</td>\n",
       "      <td>8.0</td>\n",
       "      <td>194.0</td>\n",
       "    </tr>\n",
       "    <tr>\n",
       "      <th>5</th>\n",
       "      <td>9.0</td>\n",
       "      <td>5.0</td>\n",
       "      <td>1848.0</td>\n",
       "      <td>14.0</td>\n",
       "      <td>NaN</td>\n",
       "      <td>23.0</td>\n",
       "      <td>140.0</td>\n",
       "      <td>105.0</td>\n",
       "      <td>362.0</td>\n",
       "      <td>245.0</td>\n",
       "      <td>21.0</td>\n",
       "      <td>896.0</td>\n",
       "      <td>70.0</td>\n",
       "      <td>403.0</td>\n",
       "      <td>889.0</td>\n",
       "      <td>1614.0</td>\n",
       "      <td>9.0</td>\n",
       "      <td>789.0</td>\n",
       "    </tr>\n",
       "    <tr>\n",
       "      <th>6</th>\n",
       "      <td>32.0</td>\n",
       "      <td>3.0</td>\n",
       "      <td>766.0</td>\n",
       "      <td>3.0</td>\n",
       "      <td>NaN</td>\n",
       "      <td>14.0</td>\n",
       "      <td>359.0</td>\n",
       "      <td>133.0</td>\n",
       "      <td>132.0</td>\n",
       "      <td>274.0</td>\n",
       "      <td>24.0</td>\n",
       "      <td>431.0</td>\n",
       "      <td>121.0</td>\n",
       "      <td>639.0</td>\n",
       "      <td>876.0</td>\n",
       "      <td>2039.0</td>\n",
       "      <td>1.0</td>\n",
       "      <td>337.0</td>\n",
       "    </tr>\n",
       "    <tr>\n",
       "      <th>7</th>\n",
       "      <td>39.0</td>\n",
       "      <td>10.0</td>\n",
       "      <td>683.0</td>\n",
       "      <td>3.0</td>\n",
       "      <td>15.0</td>\n",
       "      <td>62.0</td>\n",
       "      <td>600.0</td>\n",
       "      <td>189.0</td>\n",
       "      <td>271.0</td>\n",
       "      <td>367.0</td>\n",
       "      <td>25.0</td>\n",
       "      <td>1329.0</td>\n",
       "      <td>117.0</td>\n",
       "      <td>352.0</td>\n",
       "      <td>502.0</td>\n",
       "      <td>2878.0</td>\n",
       "      <td>4.0</td>\n",
       "      <td>306.0</td>\n",
       "    </tr>\n",
       "    <tr>\n",
       "      <th>8</th>\n",
       "      <td>2.0</td>\n",
       "      <td>5.0</td>\n",
       "      <td>119.0</td>\n",
       "      <td>8.0</td>\n",
       "      <td>2.0</td>\n",
       "      <td>20.0</td>\n",
       "      <td>136.0</td>\n",
       "      <td>87.0</td>\n",
       "      <td>23.0</td>\n",
       "      <td>241.0</td>\n",
       "      <td>50.0</td>\n",
       "      <td>270.0</td>\n",
       "      <td>44.0</td>\n",
       "      <td>176.0</td>\n",
       "      <td>274.0</td>\n",
       "      <td>997.0</td>\n",
       "      <td>14.0</td>\n",
       "      <td>137.0</td>\n",
       "    </tr>\n",
       "    <tr>\n",
       "      <th>9</th>\n",
       "      <td>1.0</td>\n",
       "      <td>21.0</td>\n",
       "      <td>139.0</td>\n",
       "      <td>NaN</td>\n",
       "      <td>33.0</td>\n",
       "      <td>55.0</td>\n",
       "      <td>565.0</td>\n",
       "      <td>307.0</td>\n",
       "      <td>170.0</td>\n",
       "      <td>712.0</td>\n",
       "      <td>199.0</td>\n",
       "      <td>1716.0</td>\n",
       "      <td>211.0</td>\n",
       "      <td>429.0</td>\n",
       "      <td>774.0</td>\n",
       "      <td>3508.0</td>\n",
       "      <td>80.0</td>\n",
       "      <td>537.0</td>\n",
       "    </tr>\n",
       "    <tr>\n",
       "      <th>10</th>\n",
       "      <td>23.0</td>\n",
       "      <td>4.0</td>\n",
       "      <td>1581.0</td>\n",
       "      <td>NaN</td>\n",
       "      <td>15.0</td>\n",
       "      <td>46.0</td>\n",
       "      <td>831.0</td>\n",
       "      <td>254.0</td>\n",
       "      <td>95.0</td>\n",
       "      <td>336.0</td>\n",
       "      <td>30.0</td>\n",
       "      <td>1321.0</td>\n",
       "      <td>145.0</td>\n",
       "      <td>104.0</td>\n",
       "      <td>480.0</td>\n",
       "      <td>1883.0</td>\n",
       "      <td>40.0</td>\n",
       "      <td>782.0</td>\n",
       "    </tr>\n",
       "    <tr>\n",
       "      <th>11</th>\n",
       "      <td>14.0</td>\n",
       "      <td>8.0</td>\n",
       "      <td>1509.0</td>\n",
       "      <td>1.0</td>\n",
       "      <td>12.0</td>\n",
       "      <td>61.0</td>\n",
       "      <td>438.0</td>\n",
       "      <td>50.0</td>\n",
       "      <td>1304.0</td>\n",
       "      <td>283.0</td>\n",
       "      <td>31.0</td>\n",
       "      <td>899.0</td>\n",
       "      <td>217.0</td>\n",
       "      <td>39.0</td>\n",
       "      <td>1493.0</td>\n",
       "      <td>1401.0</td>\n",
       "      <td>46.0</td>\n",
       "      <td>448.0</td>\n",
       "    </tr>\n",
       "    <tr>\n",
       "      <th>12</th>\n",
       "      <td>6.0</td>\n",
       "      <td>NaN</td>\n",
       "      <td>1558.0</td>\n",
       "      <td>NaN</td>\n",
       "      <td>8.0</td>\n",
       "      <td>30.0</td>\n",
       "      <td>209.0</td>\n",
       "      <td>54.0</td>\n",
       "      <td>1283.0</td>\n",
       "      <td>213.0</td>\n",
       "      <td>29.0</td>\n",
       "      <td>603.0</td>\n",
       "      <td>148.0</td>\n",
       "      <td>27.0</td>\n",
       "      <td>936.0</td>\n",
       "      <td>1809.0</td>\n",
       "      <td>2.0</td>\n",
       "      <td>301.0</td>\n",
       "    </tr>\n",
       "  </tbody>\n",
       "</table>\n",
       "</div>"
      ],
      "text/plain": [
       "         quantity                                                       \\\n",
       "brand     BevyBar                        Cervecería y Maltería Quilmes   \n",
       "category     Beer Merchandise Mixed Pack                          Beer   \n",
       "month                                                                    \n",
       "1             NaN         NaN      255.0                          57.0   \n",
       "2             NaN         2.0      238.0                          92.0   \n",
       "3             1.0         2.0      285.0                          30.0   \n",
       "4            19.0         4.0      442.0                          18.0   \n",
       "5             9.0         5.0     1848.0                          14.0   \n",
       "6            32.0         3.0      766.0                           3.0   \n",
       "7            39.0        10.0      683.0                           3.0   \n",
       "8             2.0         5.0      119.0                           8.0   \n",
       "9             1.0        21.0      139.0                           NaN   \n",
       "10           23.0         4.0     1581.0                           NaN   \n",
       "11           14.0         8.0     1509.0                           1.0   \n",
       "12            6.0         NaN     1558.0                           NaN   \n",
       "\n",
       "                                                               \\\n",
       "brand                           Corona                          \n",
       "category Merchandise Mixed Pack   Beer Merchandise Mixed Pack   \n",
       "month                                                           \n",
       "1                NaN        NaN  284.0       124.0       11.0   \n",
       "2                NaN        NaN  191.0       172.0       23.0   \n",
       "3                NaN        NaN   55.0        82.0      139.0   \n",
       "4                NaN        NaN  192.0        56.0      391.0   \n",
       "5                NaN       23.0  140.0       105.0      362.0   \n",
       "6                NaN       14.0  359.0       133.0      132.0   \n",
       "7               15.0       62.0  600.0       189.0      271.0   \n",
       "8                2.0       20.0  136.0        87.0       23.0   \n",
       "9               33.0       55.0  565.0       307.0      170.0   \n",
       "10              15.0       46.0  831.0       254.0       95.0   \n",
       "11              12.0       61.0  438.0        50.0     1304.0   \n",
       "12               8.0       30.0  209.0        54.0     1283.0   \n",
       "\n",
       "                                                                     \\\n",
       "brand    Patagonia Brewing Co.                        Stella Artois   \n",
       "category                  Beer Merchandise Mixed Pack          Beer   \n",
       "month                                                                 \n",
       "1                        406.0       115.0      432.0         269.0   \n",
       "2                        254.0        67.0      344.0         115.0   \n",
       "3                        161.0        45.0      370.0          75.0   \n",
       "4                        297.0        24.0      329.0          56.0   \n",
       "5                        245.0        21.0      896.0          70.0   \n",
       "6                        274.0        24.0      431.0         121.0   \n",
       "7                        367.0        25.0     1329.0         117.0   \n",
       "8                        241.0        50.0      270.0          44.0   \n",
       "9                        712.0       199.0     1716.0         211.0   \n",
       "10                       336.0        30.0     1321.0         145.0   \n",
       "11                       283.0        31.0      899.0         217.0   \n",
       "12                       213.0        29.0      603.0         148.0   \n",
       "\n",
       "                                                                  \n",
       "brand                           importada                         \n",
       "category Merchandise Mixed Pack      Beer Merchandise Mixed Pack  \n",
       "month                                                             \n",
       "1              444.0      539.0    2288.0         4.0      114.0  \n",
       "2             2306.0     1851.0    2158.0         2.0      105.0  \n",
       "3              907.0     1616.0    1528.0         1.0       67.0  \n",
       "4              288.0      620.0    2693.0         8.0      194.0  \n",
       "5              403.0      889.0    1614.0         9.0      789.0  \n",
       "6              639.0      876.0    2039.0         1.0      337.0  \n",
       "7              352.0      502.0    2878.0         4.0      306.0  \n",
       "8              176.0      274.0     997.0        14.0      137.0  \n",
       "9              429.0      774.0    3508.0        80.0      537.0  \n",
       "10             104.0      480.0    1883.0        40.0      782.0  \n",
       "11              39.0     1493.0    1401.0        46.0      448.0  \n",
       "12              27.0      936.0    1809.0         2.0      301.0  "
      ]
     },
     "execution_count": 36,
     "metadata": {},
     "output_type": "execute_result"
    }
   ],
   "source": [
    "#esta sería la pivot de las pivots, la idea es ver todo por mes para saber mejor la distribución\n",
    "tp_pivot_two = pd.pivot_table(data = tp_arg_2017, values = ['quantity'], index = ['month'], columns = ['brand', 'category'], aggfunc= np.sum, )\n",
    "tp_pivot_two"
   ]
  },
  {
   "cell_type": "code",
   "execution_count": 37,
   "metadata": {
    "scrolled": true
   },
   "outputs": [],
   "source": [
    "#Hacemos 2 datasets que agrupen por, mes y día c/u, así podemos ver la variación\n",
    "tp_by_month = tp_arg_2017.groupby(['month']).sum() \n",
    "tp_by_day = tp_arg_2017.groupby(['day']).sum() "
   ]
  },
  {
   "cell_type": "code",
   "execution_count": 38,
   "metadata": {},
   "outputs": [
    {
     "data": {
      "text/plain": [
       "<matplotlib.axes._subplots.AxesSubplot at 0xf801630>"
      ]
     },
     "execution_count": 38,
     "metadata": {},
     "output_type": "execute_result"
    },
    {
     "data": {
      "image/png": "[encoded data removed]",
      "text/plain": [
       "<Figure size 1440x720 with 1 Axes>"
      ]
     },
     "metadata": {
      "needs_background": "light"
     },
     "output_type": "display_data"
    }
   ],
   "source": [
    "#Vemos los días del mes en que se dieron mayores compras\n",
    "tp_by_day.quantity.plot.bar(figsize=(20,10))"
   ]
  },
  {
   "cell_type": "code",
   "execution_count": 39,
   "metadata": {},
   "outputs": [
    {
     "data": {
      "image/png": "[encoded data removed]",
      "text/plain": [
       "<Figure size 432x288 with 1 Axes>"
      ]
     },
     "metadata": {
      "needs_background": "light"
     },
     "output_type": "display_data"
    }
   ],
   "source": [
    "##VER QUE PODEMOS COMPARAR CON ESTE GRAFICO\n",
    "corr = tp_arg_2017[['quantity', 'unit_discount_usd']]\n",
    "corr.corr()\n",
    "sns.regplot(x='quantity', y='unit_discount_usd', data= corr);"
   ]
  },
  {
   "cell_type": "code",
   "execution_count": 40,
   "metadata": {},
   "outputs": [
    {
     "data": {
      "image/png": "[encoded data removed]",
      "text/plain": [
       "<Figure size 432x288 with 1 Axes>"
      ]
     },
     "metadata": {
      "needs_background": "light"
     },
     "output_type": "display_data"
    }
   ],
   "source": [
    "sns.set_context(\"talk\", font_scale=0.8)\n",
    "tp_by_month[('quantity')].plot(title = \"Ventas por mes\" )\n",
    "plt.legend(loc='center left', bbox_to_anchor=(1, 0.5))\n",
    "plt.show()"
   ]
  },
  {
   "cell_type": "code",
   "execution_count": 41,
   "metadata": {},
   "outputs": [],
   "source": [
    "#La idea ahora es ver si hay estacionalidad en algún mes con respecto a una marca (elegí las mas importantes)\n",
    "#Primero filtramos por marca\n",
    "tp_corona = tp_arg_2017.loc[tp_arg_2017['brand'] == 'Corona']\n",
    "tp_importada = tp_arg_2017.loc[tp_arg_2017['brand'] == 'importada']\n",
    "tp_Stella = tp_arg_2017.loc[tp_arg_2017['brand'] == 'Stella Artois']\n",
    "tp_Patagonia = tp_arg_2017.loc[tp_arg_2017['brand'] == 'Patagonia Brewing Co.']\n",
    "tp_BevyBar = tp_arg_2017.loc[tp_arg_2017['brand'] == 'BevyBar']"
   ]
  },
  {
   "cell_type": "code",
   "execution_count": 42,
   "metadata": {},
   "outputs": [],
   "source": [
    "#Segundo agrupamos por mes y sumamos. Acá estaría creando varios datasets, tal vez no es necesario.\n",
    "tp_BevyBar_month = tp_BevyBar.groupby(['month']).sum()\n",
    "tp_Patagonia_month = tp_Patagonia.groupby(['month']).sum()\n",
    "tp_importada_month = tp_importada.groupby(['month']).sum()\n",
    "tp_Stella_month = tp_Stella.groupby(['month']).sum()\n",
    "tp_Corona_month = tp_corona.groupby(['month']).sum()"
   ]
  },
  {
   "cell_type": "code",
   "execution_count": 43,
   "metadata": {},
   "outputs": [
    {
     "data": {
      "image/png": "[encoded data removed]",
      "text/plain": [
       "<Figure size 432x288 with 1 Axes>"
      ]
     },
     "metadata": {
      "needs_background": "light"
     },
     "output_type": "display_data"
    }
   ],
   "source": [
    "#visualizamos la variación por mes de cada una. Con barras tal vez quede mas lindo.\n",
    "sns.set_context(\"talk\", font_scale=0.5)\n",
    "plt.plot(tp_BevyBar_month['quantity'], label='BevyBar')\n",
    "plt.plot(tp_Patagonia_month['quantity'], label='Patagonia')\n",
    "plt.plot(tp_importada_month['quantity'], label='Importadas')\n",
    "plt.plot(tp_Stella_month['quantity'], label='Stella')\n",
    "plt.plot(tp_Corona_month['quantity'], label='Corona')\n",
    "plt.legend(loc='center left', bbox_to_anchor=(1, 0.5))\n",
    "plt.show()"
   ]
  },
  {
   "cell_type": "code",
   "execution_count": 44,
   "metadata": {
    "scrolled": true
   },
   "outputs": [],
   "source": [
    "#Hacemos filtrado por categoría. Hago lo mismo que para Brand pero ahora con category.\n",
    "tp_beer = tp_arg_2017.loc[tp_arg_2017['category'] == 'Beer']\n",
    "tp_pack = tp_arg_2017.loc[tp_arg_2017['category'] == 'Mixed Pack']\n",
    "tp_Merchandise = tp_arg_2017.loc[tp_arg_2017['category'] == 'Merchandise']"
   ]
  },
  {
   "cell_type": "code",
   "execution_count": 45,
   "metadata": {},
   "outputs": [],
   "source": [
    "tp_beer_month = tp_beer.groupby(['month']).sum()\n",
    "tp_Merchandise_month = tp_Merchandise.groupby(['month']).sum()\n",
    "tp_pack_month = tp_pack.groupby(['month']).sum()"
   ]
  },
  {
   "cell_type": "code",
   "execution_count": 46,
   "metadata": {},
   "outputs": [
    {
     "data": {
      "image/png": "[encoded data removed]",
      "text/plain": [
       "<Figure size 432x288 with 1 Axes>"
      ]
     },
     "metadata": {
      "needs_background": "light"
     },
     "output_type": "display_data"
    }
   ],
   "source": [
    "#visualizamos la variación por mes de cada una.\n",
    "sns.set_context(\"talk\", font_scale=0.5)\n",
    "plt.plot(tp_beer_month['quantity'], label='Cerveza')\n",
    "plt.plot(tp_Merchandise_month['quantity'], label='Merchandise')\n",
    "plt.plot(tp_pack_month['quantity'], label='Pack')\n",
    "plt.legend(loc='center left', bbox_to_anchor=(1, 0.5))\n",
    "plt.show()"
   ]
  },
  {
   "cell_type": "code",
   "execution_count": 47,
   "metadata": {
    "scrolled": true
   },
   "outputs": [
    {
     "data": {
      "image/png": "[encoded data removed]",
      "text/plain": [
       "<Figure size 432x288 with 1 Axes>"
      ]
     },
     "metadata": {
      "needs_background": "light"
     },
     "output_type": "display_data"
    }
   ],
   "source": [
    "#Analizamos Merchandise por separado\n",
    "plt.plot(tp_Merchandise_month['quantity'], label='Merchandise')\n",
    "plt.legend(loc='center left', bbox_to_anchor=(1, 0.5))\n",
    "plt.show()"
   ]
  },
  {
   "cell_type": "code",
   "execution_count": 48,
   "metadata": {},
   "outputs": [
    {
     "data": {
      "text/plain": [
       "month\n",
       "1     1.004345e+06\n",
       "2     2.329224e+06\n",
       "3     1.996686e+06\n",
       "4     1.824154e+06\n",
       "5     3.551075e+06\n",
       "6     2.214526e+06\n",
       "7     2.539414e+06\n",
       "8     6.847431e+05\n",
       "9     2.774487e+06\n",
       "10    3.729340e+06\n",
       "11    5.253772e+06\n",
       "12    4.599042e+06\n",
       "Name: unit_net_revenue_local, dtype: float64"
      ]
     },
     "execution_count": 48,
     "metadata": {},
     "output_type": "execute_result"
    }
   ],
   "source": [
    "#Acá la idea es mostrar en qué meses se gasta más\n",
    "tp_by_month['unit_net_revenue_local']"
   ]
  },
  {
   "cell_type": "code",
   "execution_count": 49,
   "metadata": {},
   "outputs": [
    {
     "data": {
      "image/png": "[encoded data removed]",
      "text/plain": [
       "<Figure size 432x288 with 1 Axes>"
      ]
     },
     "metadata": {
      "needs_background": "light"
     },
     "output_type": "display_data"
    }
   ],
   "source": [
    "plt.plot(tp_by_month['unit_net_revenue_local'], label='Gastos por mes')\n",
    "plt.legend(loc='center left', bbox_to_anchor=(1, 0.5))\n",
    "plt.show()"
   ]
  },
  {
   "cell_type": "code",
   "execution_count": 50,
   "metadata": {
    "scrolled": false
   },
   "outputs": [
    {
     "data": {
      "image/png": "[encoded data removed]",
      "text/plain": [
       "<Figure size 1080x216 with 1 Axes>"
      ]
     },
     "metadata": {
      "needs_background": "light"
     },
     "output_type": "display_data"
    }
   ],
   "source": [
    "plt.figure(figsize=(15,3))\n",
    "g = sns.countplot(x=\"month\", data=tp_arg_2017, palette = \"muted\")\n",
    "g.set_xticklabels(g.get_xticklabels(), rotation=90, ha=\"right\")\n",
    "plt.title('Cantidad de Apariciones por Mes',size = 30)\n",
    "plt.xlabel(\"Mes\")\n",
    "plt.ylabel(\"Count\")\n",
    "plt.show()"
   ]
  },
  {
   "cell_type": "code",
   "execution_count": 51,
   "metadata": {},
   "outputs": [],
   "source": [
    "##Usar solo 2017?\n",
    "#Ver correlacion entre compradores recurrentes y algun producto en particular\n",
    "#Clusterizar los que generan compras recurrentes"
   ]
  },
  {
   "cell_type": "code",
   "execution_count": 52,
   "metadata": {},
   "outputs": [],
   "source": [
    "#Borrar budweiser\n",
    "#Usar solo 2017\n",
    "#Juntar Bevybar y craftsociety\n",
    "#Usar mas boxplot\n",
    "#1° Definir 2017, las features finales finales\n",
    "#2a-Regresion de 2017, predecir y comparar con enero 2018\n",
    "#2-Clustering: armar el clustering y hacer un eda de los clusters\n",
    "#2b\n",
    "#Regresion, lineas de tiempo, etc --> Ver si podemos aplicarlo y ver si alguna marca esta creciendo, o no\n"
   ]
  },
  {
   "cell_type": "code",
   "execution_count": 53,
   "metadata": {},
   "outputs": [
    {
     "data": {
      "image/png": "[encoded data removed]",
      "text/plain": [
       "<Figure size 432x288 with 1 Axes>"
      ]
     },
     "metadata": {
      "needs_background": "light"
     },
     "output_type": "display_data"
    }
   ],
   "source": [
    "ay = sns.boxplot(x = tp_arg_2017.brand, y = tp_arg_2017.quantity, data = tp_arg_2017)\n",
    "ay.set_xticklabels(ay.get_xticklabels(), rotation=40, ha=\"right\")\n",
    "plt.title(\"Distribucion de Quantity\")\n",
    "plt.show()"
   ]
  },
  {
   "cell_type": "code",
   "execution_count": 54,
   "metadata": {},
   "outputs": [
    {
     "data": {
      "image/png": "[encoded data removed]",
      "text/plain": [
       "<Figure size 432x288 with 1 Axes>"
      ]
     },
     "metadata": {
      "needs_background": "light"
     },
     "output_type": "display_data"
    }
   ],
   "source": [
    "#VER QUE TITULOS PONEMOS EN LOS EJES\n",
    "sns.distplot((tp_arg_2017['quantity']))\n",
    "plt.title('Distribución de cantidad de viajes en hora NO pico de la estacion Lacroze')\n",
    "plt.xlabel('Cantidad de Viajes en molinete por cada 15 mins')\n",
    "plt.show()"
   ]
  },
  {
   "cell_type": "markdown",
   "metadata": {},
   "source": [
    "# -----------------------------------------Clustering------------------------------------------------"
   ]
  },
  {
   "cell_type": "code",
   "execution_count": 55,
   "metadata": {},
   "outputs": [
    {
     "data": {
      "text/html": [
       "<div>\n",
       "<style scoped>\n",
       "    .dataframe tbody tr th:only-of-type {\n",
       "        vertical-align: middle;\n",
       "    }\n",
       "\n",
       "    .dataframe tbody tr th {\n",
       "        vertical-align: top;\n",
       "    }\n",
       "\n",
       "    .dataframe thead th {\n",
       "        text-align: right;\n",
       "    }\n",
       "</style>\n",
       "<table border=\"1\" class=\"dataframe\">\n",
       "  <thead>\n",
       "    <tr style=\"text-align: right;\">\n",
       "      <th></th>\n",
       "      <th>unit_discount_usd</th>\n",
       "      <th>unit_gross_revenue_local</th>\n",
       "      <th>unit_price_charged_local</th>\n",
       "      <th>unit_delivery_charged_local</th>\n",
       "      <th>quantity</th>\n",
       "      <th>unit_net_revenue_local</th>\n",
       "      <th>brand</th>\n",
       "      <th>category</th>\n",
       "      <th>year</th>\n",
       "      <th>month</th>\n",
       "      <th>day</th>\n",
       "    </tr>\n",
       "  </thead>\n",
       "  <tbody>\n",
       "    <tr>\n",
       "      <th>17162</th>\n",
       "      <td>0.0000</td>\n",
       "      <td>1030.0000</td>\n",
       "      <td>890.0</td>\n",
       "      <td>140.0000</td>\n",
       "      <td>1</td>\n",
       "      <td>788.0530</td>\n",
       "      <td>Corona</td>\n",
       "      <td>Beer</td>\n",
       "      <td>2017</td>\n",
       "      <td>9</td>\n",
       "      <td>20</td>\n",
       "    </tr>\n",
       "    <tr>\n",
       "      <th>17165</th>\n",
       "      <td>0.0000</td>\n",
       "      <td>631.0000</td>\n",
       "      <td>432.0</td>\n",
       "      <td>199.0000</td>\n",
       "      <td>1</td>\n",
       "      <td>493.6944</td>\n",
       "      <td>Patagonia Brewing Co.</td>\n",
       "      <td>Mixed Pack</td>\n",
       "      <td>2017</td>\n",
       "      <td>6</td>\n",
       "      <td>13</td>\n",
       "    </tr>\n",
       "    <tr>\n",
       "      <th>17174</th>\n",
       "      <td>2.7181</td>\n",
       "      <td>234.6542</td>\n",
       "      <td>265.0</td>\n",
       "      <td>14.7222</td>\n",
       "      <td>1</td>\n",
       "      <td>176.2018</td>\n",
       "      <td>Peñón del Águila</td>\n",
       "      <td>Beer</td>\n",
       "      <td>2017</td>\n",
       "      <td>2</td>\n",
       "      <td>28</td>\n",
       "    </tr>\n",
       "    <tr>\n",
       "      <th>17175</th>\n",
       "      <td>1.8052</td>\n",
       "      <td>155.8458</td>\n",
       "      <td>44.0</td>\n",
       "      <td>9.7778</td>\n",
       "      <td>4</td>\n",
       "      <td>117.0246</td>\n",
       "      <td>Peñón del Águila</td>\n",
       "      <td>Beer</td>\n",
       "      <td>2017</td>\n",
       "      <td>2</td>\n",
       "      <td>28</td>\n",
       "    </tr>\n",
       "    <tr>\n",
       "      <th>17176</th>\n",
       "      <td>9.0465</td>\n",
       "      <td>910.0000</td>\n",
       "      <td>1011.0</td>\n",
       "      <td>49.0000</td>\n",
       "      <td>1</td>\n",
       "      <td>698.5160</td>\n",
       "      <td>BevyBar</td>\n",
       "      <td>Mixed Pack</td>\n",
       "      <td>2017</td>\n",
       "      <td>7</td>\n",
       "      <td>30</td>\n",
       "    </tr>\n",
       "  </tbody>\n",
       "</table>\n",
       "</div>"
      ],
      "text/plain": [
       "       unit_discount_usd  unit_gross_revenue_local  unit_price_charged_local  \\\n",
       "17162             0.0000                 1030.0000                     890.0   \n",
       "17165             0.0000                  631.0000                     432.0   \n",
       "17174             2.7181                  234.6542                     265.0   \n",
       "17175             1.8052                  155.8458                      44.0   \n",
       "17176             9.0465                  910.0000                    1011.0   \n",
       "\n",
       "       unit_delivery_charged_local  quantity  unit_net_revenue_local  \\\n",
       "17162                     140.0000         1                788.0530   \n",
       "17165                     199.0000         1                493.6944   \n",
       "17174                      14.7222         1                176.2018   \n",
       "17175                       9.7778         4                117.0246   \n",
       "17176                      49.0000         1                698.5160   \n",
       "\n",
       "                       brand    category  year  month  day  \n",
       "17162                 Corona        Beer  2017      9   20  \n",
       "17165  Patagonia Brewing Co.  Mixed Pack  2017      6   13  \n",
       "17174       Peñón del Águila        Beer  2017      2   28  \n",
       "17175       Peñón del Águila        Beer  2017      2   28  \n",
       "17176                BevyBar  Mixed Pack  2017      7   30  "
      ]
     },
     "execution_count": 55,
     "metadata": {},
     "output_type": "execute_result"
    }
   ],
   "source": [
    "##CLUSTERING\n",
    "#Pase la order_time a int pero igual tira error asi que la saco tambien\n",
    "#Limpio variables\n",
    "tp_cluster = tp_h.drop(['order_time','name','id','customer_spk','country','order_date','order_status','subcategory'], axis=1)\n",
    "#tp_cluster['order_time'] = pd.to_datetime(tp_cluster['order_time']).astype(np.int64)\n",
    "tp_cluster1= tp_cluster.loc[tp_h['brand'].isin(['Corona', 'Patagonia Brewing Co.', 'Peñón del Águila',\n",
    "       'Bass Brewery', 'Leffe', \"Fuller's\",\n",
    "       'Spaten-Franziskaner-Bräu', 'Karlsberg Brauerei',\n",
    "       'Les Brasseurs de Gayant\\xa0', 'Barba Roja', 'Coopers Brewery',\n",
    "       'Brouwerij Van Steenberge', 'Hoegaarden', 'Backus y Johnston',\n",
    "       'Löwenbräu', 'Brauerei Beck & Co',\n",
    "       'Fabricas Nacionales De Cerveza',\n",
    "       'De La Vaca Tranquila Cervezas Artesanales',\n",
    "       'Paulaner Brauerei München', 'Duvel Moortgat', 'Zillertal',\n",
    "       'Baltika Breweries', 'Hofbräu München', 'Chimay',\n",
    "       'Kronenbourg 1664', 'Czechvar', 'Kulmbacher Brauerei AG',\n",
    "       'Grimbergen', 'Maredsous', 'Tsingtao',\n",
    "       'Fábricas Nacionales De Cerveza',\n",
    "       'Anchor Brewing Company', 'Cervecería Antares',\n",
    "       'Brasserie de Silly', 'SAB Miller', 'Shock Top', 'Belsh',\n",
    "       'OETTINGER Brauerei GmbH', 'Erdinger Weissbräu', 'Oranjeboom',\n",
    "       'Antigua', 'Boris Biere', 'unknown', 'Corbeau Wines', 'MixxTail',\n",
    "       'Skol', 'Bodega Budeguer', 'Bodega Cruz Primero', 'Bottega',\n",
    "       'Condeminal', 'Fuegian Beverage Company', 'Matías Riccitelli', 'BevyBar','Stella Artois', 'Cervecería y Maltería Quilmes'])]\n",
    "tp_cluster1.head(5)"
   ]
  },
  {
   "cell_type": "code",
   "execution_count": 56,
   "metadata": {},
   "outputs": [
    {
     "data": {
      "text/html": [
       "<div>\n",
       "<style scoped>\n",
       "    .dataframe tbody tr th:only-of-type {\n",
       "        vertical-align: middle;\n",
       "    }\n",
       "\n",
       "    .dataframe tbody tr th {\n",
       "        vertical-align: top;\n",
       "    }\n",
       "\n",
       "    .dataframe thead th {\n",
       "        text-align: right;\n",
       "    }\n",
       "</style>\n",
       "<table border=\"1\" class=\"dataframe\">\n",
       "  <thead>\n",
       "    <tr style=\"text-align: right;\">\n",
       "      <th></th>\n",
       "      <th>unit_discount_usd</th>\n",
       "      <th>unit_gross_revenue_local</th>\n",
       "      <th>unit_price_charged_local</th>\n",
       "      <th>unit_delivery_charged_local</th>\n",
       "      <th>quantity</th>\n",
       "      <th>unit_net_revenue_local</th>\n",
       "      <th>year</th>\n",
       "      <th>month</th>\n",
       "      <th>day</th>\n",
       "      <th>Anchor Brewing Company</th>\n",
       "      <th>...</th>\n",
       "      <th>Shock Top</th>\n",
       "      <th>Skol</th>\n",
       "      <th>Spaten-Franziskaner-Bräu</th>\n",
       "      <th>Stella Artois</th>\n",
       "      <th>Tsingtao</th>\n",
       "      <th>Zillertal</th>\n",
       "      <th>unknown</th>\n",
       "      <th>Beer</th>\n",
       "      <th>Merchandise</th>\n",
       "      <th>Mixed Pack</th>\n",
       "    </tr>\n",
       "  </thead>\n",
       "  <tbody>\n",
       "    <tr>\n",
       "      <th>17162</th>\n",
       "      <td>0.0000</td>\n",
       "      <td>1030.0000</td>\n",
       "      <td>890.0</td>\n",
       "      <td>140.0000</td>\n",
       "      <td>1</td>\n",
       "      <td>788.0530</td>\n",
       "      <td>2017</td>\n",
       "      <td>9</td>\n",
       "      <td>20</td>\n",
       "      <td>0</td>\n",
       "      <td>...</td>\n",
       "      <td>0</td>\n",
       "      <td>0</td>\n",
       "      <td>0</td>\n",
       "      <td>0</td>\n",
       "      <td>0</td>\n",
       "      <td>0</td>\n",
       "      <td>0</td>\n",
       "      <td>1</td>\n",
       "      <td>0</td>\n",
       "      <td>0</td>\n",
       "    </tr>\n",
       "    <tr>\n",
       "      <th>17165</th>\n",
       "      <td>0.0000</td>\n",
       "      <td>631.0000</td>\n",
       "      <td>432.0</td>\n",
       "      <td>199.0000</td>\n",
       "      <td>1</td>\n",
       "      <td>493.6944</td>\n",
       "      <td>2017</td>\n",
       "      <td>6</td>\n",
       "      <td>13</td>\n",
       "      <td>0</td>\n",
       "      <td>...</td>\n",
       "      <td>0</td>\n",
       "      <td>0</td>\n",
       "      <td>0</td>\n",
       "      <td>0</td>\n",
       "      <td>0</td>\n",
       "      <td>0</td>\n",
       "      <td>0</td>\n",
       "      <td>0</td>\n",
       "      <td>0</td>\n",
       "      <td>1</td>\n",
       "    </tr>\n",
       "    <tr>\n",
       "      <th>17174</th>\n",
       "      <td>2.7181</td>\n",
       "      <td>234.6542</td>\n",
       "      <td>265.0</td>\n",
       "      <td>14.7222</td>\n",
       "      <td>1</td>\n",
       "      <td>176.2018</td>\n",
       "      <td>2017</td>\n",
       "      <td>2</td>\n",
       "      <td>28</td>\n",
       "      <td>0</td>\n",
       "      <td>...</td>\n",
       "      <td>0</td>\n",
       "      <td>0</td>\n",
       "      <td>0</td>\n",
       "      <td>0</td>\n",
       "      <td>0</td>\n",
       "      <td>0</td>\n",
       "      <td>0</td>\n",
       "      <td>1</td>\n",
       "      <td>0</td>\n",
       "      <td>0</td>\n",
       "    </tr>\n",
       "  </tbody>\n",
       "</table>\n",
       "<p>3 rows × 67 columns</p>\n",
       "</div>"
      ],
      "text/plain": [
       "       unit_discount_usd  unit_gross_revenue_local  unit_price_charged_local  \\\n",
       "17162             0.0000                 1030.0000                     890.0   \n",
       "17165             0.0000                  631.0000                     432.0   \n",
       "17174             2.7181                  234.6542                     265.0   \n",
       "\n",
       "       unit_delivery_charged_local  quantity  unit_net_revenue_local  year  \\\n",
       "17162                     140.0000         1                788.0530  2017   \n",
       "17165                     199.0000         1                493.6944  2017   \n",
       "17174                      14.7222         1                176.2018  2017   \n",
       "\n",
       "       month  day  Anchor Brewing Company  ...  Shock Top  Skol  \\\n",
       "17162      9   20                       0  ...          0     0   \n",
       "17165      6   13                       0  ...          0     0   \n",
       "17174      2   28                       0  ...          0     0   \n",
       "\n",
       "       Spaten-Franziskaner-Bräu  Stella Artois  Tsingtao  Zillertal  unknown  \\\n",
       "17162                         0              0         0          0        0   \n",
       "17165                         0              0         0          0        0   \n",
       "17174                         0              0         0          0        0   \n",
       "\n",
       "       Beer  Merchandise  Mixed Pack  \n",
       "17162     1            0           0  \n",
       "17165     0            0           1  \n",
       "17174     1            0           0  \n",
       "\n",
       "[3 rows x 67 columns]"
      ]
     },
     "execution_count": 56,
     "metadata": {},
     "output_type": "execute_result"
    }
   ],
   "source": [
    "#Genero dummies de brand y category\n",
    "brands = pd.get_dummies(tp_cluster1.brand)\n",
    "category = pd.get_dummies(tp_cluster1.category)\n",
    "#concateno las tablas\n",
    "tp_cluster1 = pd.concat([tp_cluster1,brands,category],axis=1)\n",
    "tp_cluster1 = tp_cluster1.drop(['brand','category'], axis=1)\n",
    "tp_cluster1.head(3)"
   ]
  },
  {
   "cell_type": "code",
   "execution_count": 57,
   "metadata": {},
   "outputs": [],
   "source": [
    "#AutoScaling\n",
    "scaler = preprocessing.StandardScaler().fit(tp_cluster1)\n",
    "xscal = scaler.transform(tp_cluster1)"
   ]
  },
  {
   "cell_type": "code",
   "execution_count": 58,
   "metadata": {},
   "outputs": [
    {
     "data": {
      "image/png": "[encoded data removed]",
      "text/plain": [
       "<Figure size 432x288 with 2 Axes>"
      ]
     },
     "metadata": {
      "needs_background": "light"
     },
     "output_type": "display_data"
    }
   ],
   "source": [
    "# Generamos el PCA\n",
    "import matplotlib.cm as cm\n",
    "from sklearn import decomposition\n",
    "\n",
    "n_comps = 10\n",
    "components = range(1,n_comps + 1)\n",
    "pca = decomposition.PCA(n_components=n_comps)\n",
    "pca.fit(xscal)\n",
    "xpca = pca.transform(xscal)\n",
    "eigenvalues = pca.explained_variance_ratio_\n",
    "eigenvalues_acum = pca.explained_variance_ratio_.cumsum() \n",
    "\n",
    "#Visualizo autovalores\n",
    "fig, ax1 = plt.subplots()\n",
    "ax1.set_xlabel('Top PC')\n",
    "ax1.set_ylabel('Varianza Explicada', color='blue')\n",
    "ax1.bar(components, eigenvalues, color='blue')\n",
    "ax1.tick_params(axis='y', labelcolor='blue')\n",
    "ax2 = ax1.twinx()  \n",
    "ax2.set_ylabel('Varianza Acumulada', color='red')  \n",
    "ax2.plot(components, eigenvalues_acum, color='red')\n",
    "ax2.tick_params(axis='y', labelcolor='red')\n",
    "fig.tight_layout()  \n",
    "plt.show()"
   ]
  },
  {
   "cell_type": "code",
   "execution_count": 59,
   "metadata": {},
   "outputs": [
    {
     "data": {
      "text/plain": [
       "array([[-1.08070934e+00, -2.65232746e+00,  1.41727464e+00,\n",
       "        -9.78601833e-01, -2.31129452e-03, -7.15824550e-02,\n",
       "        -1.02922931e-01,  5.15530933e-02, -1.80799516e-02,\n",
       "         5.96611867e-02],\n",
       "       [-2.10953925e+00,  1.08113351e+00,  3.55029461e-01,\n",
       "         1.07173106e-01, -1.05881878e-01,  7.93437010e-03,\n",
       "        -3.31292300e-02, -3.83830725e-02,  1.38042718e-02,\n",
       "        -9.40130690e-03],\n",
       "       [ 1.45414222e+00, -1.79047116e-01, -4.62892567e-01,\n",
       "         1.08635825e-01,  6.38153595e-02,  7.88962448e-03,\n",
       "         3.80150708e-02,  1.38816199e-02, -5.07383596e-03,\n",
       "        -4.90591432e-03]])"
      ]
     },
     "execution_count": 59,
     "metadata": {},
     "output_type": "execute_result"
    }
   ],
   "source": [
    "#Encontramos que con 10 PC explicamos el 90% de la varianza\n",
    "#Como las primeras 4 componentes explican el 50% de la varianza utilizamos 4 dimensiones.\n",
    "\n",
    "reduced_dim = 10\n",
    "xpca_rd = xpca[:,0:reduced_dim]\n",
    "kmeans_rd = KMeans(n_clusters=3, random_state=10).fit(xpca_rd)\n",
    "# una vez realizado el clustering, observamos las labels de cluster asignadas a cada muestra\n",
    "kmeans_rd.labels_ = kmeans_rd.labels_\n",
    "kmeans_rd.labels_\n",
    "# visualizamos los centroides finales de cada cluster\n",
    "centers_rd = kmeans_rd.cluster_centers_\n",
    "centers_rd"
   ]
  },
  {
   "cell_type": "code",
   "execution_count": 60,
   "metadata": {
    "scrolled": true
   },
   "outputs": [
    {
     "data": {
      "image/png": "[encoded data removed]",
      "text/plain": [
       "<Figure size 648x432 with 1 Axes>"
      ]
     },
     "metadata": {
      "needs_background": "light"
     },
     "output_type": "display_data"
    }
   ],
   "source": [
    "# K-Means + RD (Con las 3 primeras PC)\n",
    "plt.figure(figsize=(9,6))\n",
    "plt.scatter(xpca_rd[:,0],xpca_rd[:,1],c=kmeans_rd.labels_.astype(float))\n",
    "plt.scatter(centers_rd[:,0], centers_rd[:,1], marker=\"x\", color='r',s=150)\n",
    "plt.xlabel('PC1')\n",
    "plt.ylabel('PC2')\n",
    "plt.title('Clustering K-means+RD')\n",
    "plt.show()"
   ]
  },
  {
   "cell_type": "code",
   "execution_count": 61,
   "metadata": {
    "scrolled": true
   },
   "outputs": [
    {
     "name": "stdout",
     "output_type": "stream",
     "text": [
      "0.2605384407020858\n"
     ]
    }
   ],
   "source": [
    "sill_score_rd = silhouette_score(xpca,kmeans_rd.labels_)\n",
    "print(sill_score_rd)"
   ]
  },
  {
   "cell_type": "code",
   "execution_count": 62,
   "metadata": {},
   "outputs": [],
   "source": [
    "#Con 4 PC y 5 clusters obtenemos un silhouette de 48%\n",
    "#Con 4 PC y 5 clusters obtenemos un silhouette de 44%\n",
    "#Con 3 PC y 3 clusters obtenemos un silhouette de 49%\n",
    "#Esto daba antes, ahora no se porque da menos, la concha de la gorra, "
   ]
  },
  {
   "cell_type": "code",
   "execution_count": 63,
   "metadata": {},
   "outputs": [],
   "source": [
    "#Clustering de importadas\n",
    "tp_importadas = tp_cluster.loc[tp_arg['brand'].isin(['Cervecería Antares','Flensburger Brauerei', 'Cerveceria Artesanal El Bolson', 'Peñón del Águila', 'Leffe', 'Spaten-Franziskaner-Bräu', 'BBC', 'Cervecería Artesanal El Bolson',\n",
    "       'Anchor Brewing Company', 'Bass Brewery', 'Hofbräu München',\n",
    "       'Adnams', \"Fuller's\", 'Karlsberg Brauerei',\n",
    "       'Les Brasseurs de Gayant\\xa0',\n",
    "       'Brouwerij Van Steenberge', 'Hoegaarden',\n",
    "       'De La Vaca Tranquila Cervezas Artesanales', 'Tsingtao',\n",
    "       'Löwenbräu', 'Coopers Brewery',\n",
    "       'Backus y Johnston', 'Brauerei Beck & Co', 'MixxTail', 'Shock Top',\n",
    "       'Bogotá Beer Company',\n",
    "       'Czechvar', 'Belle-Vue', 'Paulaner Brauerei München',\n",
    "       'Duvel Moortgat', 'Zillertal', 'Baltika Breweries', 'Chimay',\n",
    "       'Kronenbourg 1664', 'Kulmbacher Brauerei AG', 'Grimbergen',\n",
    "       'Maredsous',\n",
    "       'franziskaner','Erdinger Weissbräu',\n",
    "       'SAB Miller'\n",
    "       'Belsh', 'OETTINGER Brauerei GmbH', 'Hertog Jan',\n",
    "       'Finca Ferrer', 'Oranjeboom','Corbeau Wines', 'Boddingtons', 'Bombay', 'Jägermeister',\n",
    "       'Harvierstoun', 'Weidmann',\n",
    "       \"Jack Daniel's\", 'Brahma',\n",
    "       'Príncipe de los Apóstoles','SKYY', 'Jameson','Campari'])]"
   ]
  },
  {
   "cell_type": "code",
   "execution_count": 64,
   "metadata": {},
   "outputs": [
    {
     "data": {
      "text/plain": [
       "(18146, 11)"
      ]
     },
     "execution_count": 64,
     "metadata": {},
     "output_type": "execute_result"
    }
   ],
   "source": [
    "tp_importadas.shape"
   ]
  },
  {
   "cell_type": "code",
   "execution_count": 65,
   "metadata": {},
   "outputs": [
    {
     "data": {
      "text/html": [
       "<div>\n",
       "<style scoped>\n",
       "    .dataframe tbody tr th:only-of-type {\n",
       "        vertical-align: middle;\n",
       "    }\n",
       "\n",
       "    .dataframe tbody tr th {\n",
       "        vertical-align: top;\n",
       "    }\n",
       "\n",
       "    .dataframe thead th {\n",
       "        text-align: right;\n",
       "    }\n",
       "</style>\n",
       "<table border=\"1\" class=\"dataframe\">\n",
       "  <thead>\n",
       "    <tr style=\"text-align: right;\">\n",
       "      <th></th>\n",
       "      <th>unit_discount_usd</th>\n",
       "      <th>unit_gross_revenue_local</th>\n",
       "      <th>unit_price_charged_local</th>\n",
       "      <th>unit_delivery_charged_local</th>\n",
       "      <th>quantity</th>\n",
       "      <th>unit_net_revenue_local</th>\n",
       "      <th>year</th>\n",
       "      <th>month</th>\n",
       "      <th>day</th>\n",
       "      <th>Anchor Brewing Company</th>\n",
       "      <th>...</th>\n",
       "      <th>Oranjeboom</th>\n",
       "      <th>Paulaner Brauerei München</th>\n",
       "      <th>Peñón del Águila</th>\n",
       "      <th>Shock Top</th>\n",
       "      <th>Spaten-Franziskaner-Bräu</th>\n",
       "      <th>Tsingtao</th>\n",
       "      <th>Zillertal</th>\n",
       "      <th>Beer</th>\n",
       "      <th>Merchandise</th>\n",
       "      <th>Mixed Pack</th>\n",
       "    </tr>\n",
       "  </thead>\n",
       "  <tbody>\n",
       "    <tr>\n",
       "      <th>17174</th>\n",
       "      <td>2.7181</td>\n",
       "      <td>234.6542</td>\n",
       "      <td>265.0</td>\n",
       "      <td>14.7222</td>\n",
       "      <td>1</td>\n",
       "      <td>176.2018</td>\n",
       "      <td>2017</td>\n",
       "      <td>2</td>\n",
       "      <td>28</td>\n",
       "      <td>0</td>\n",
       "      <td>...</td>\n",
       "      <td>0</td>\n",
       "      <td>0</td>\n",
       "      <td>1</td>\n",
       "      <td>0</td>\n",
       "      <td>0</td>\n",
       "      <td>0</td>\n",
       "      <td>0</td>\n",
       "      <td>1</td>\n",
       "      <td>0</td>\n",
       "      <td>0</td>\n",
       "    </tr>\n",
       "    <tr>\n",
       "      <th>17175</th>\n",
       "      <td>1.8052</td>\n",
       "      <td>155.8458</td>\n",
       "      <td>44.0</td>\n",
       "      <td>9.7778</td>\n",
       "      <td>4</td>\n",
       "      <td>117.0246</td>\n",
       "      <td>2017</td>\n",
       "      <td>2</td>\n",
       "      <td>28</td>\n",
       "      <td>0</td>\n",
       "      <td>...</td>\n",
       "      <td>0</td>\n",
       "      <td>0</td>\n",
       "      <td>1</td>\n",
       "      <td>0</td>\n",
       "      <td>0</td>\n",
       "      <td>0</td>\n",
       "      <td>0</td>\n",
       "      <td>1</td>\n",
       "      <td>0</td>\n",
       "      <td>0</td>\n",
       "    </tr>\n",
       "    <tr>\n",
       "      <th>17177</th>\n",
       "      <td>2.7181</td>\n",
       "      <td>234.6542</td>\n",
       "      <td>265.0</td>\n",
       "      <td>14.7222</td>\n",
       "      <td>1</td>\n",
       "      <td>176.2018</td>\n",
       "      <td>2017</td>\n",
       "      <td>2</td>\n",
       "      <td>28</td>\n",
       "      <td>0</td>\n",
       "      <td>...</td>\n",
       "      <td>0</td>\n",
       "      <td>0</td>\n",
       "      <td>1</td>\n",
       "      <td>0</td>\n",
       "      <td>0</td>\n",
       "      <td>0</td>\n",
       "      <td>0</td>\n",
       "      <td>1</td>\n",
       "      <td>0</td>\n",
       "      <td>0</td>\n",
       "    </tr>\n",
       "  </tbody>\n",
       "</table>\n",
       "<p>3 rows × 46 columns</p>\n",
       "</div>"
      ],
      "text/plain": [
       "       unit_discount_usd  unit_gross_revenue_local  unit_price_charged_local  \\\n",
       "17174             2.7181                  234.6542                     265.0   \n",
       "17175             1.8052                  155.8458                      44.0   \n",
       "17177             2.7181                  234.6542                     265.0   \n",
       "\n",
       "       unit_delivery_charged_local  quantity  unit_net_revenue_local  year  \\\n",
       "17174                      14.7222         1                176.2018  2017   \n",
       "17175                       9.7778         4                117.0246  2017   \n",
       "17177                      14.7222         1                176.2018  2017   \n",
       "\n",
       "       month  day  Anchor Brewing Company  ...  Oranjeboom  \\\n",
       "17174      2   28                       0  ...           0   \n",
       "17175      2   28                       0  ...           0   \n",
       "17177      2   28                       0  ...           0   \n",
       "\n",
       "       Paulaner Brauerei München  Peñón del Águila  Shock Top  \\\n",
       "17174                          0                 1          0   \n",
       "17175                          0                 1          0   \n",
       "17177                          0                 1          0   \n",
       "\n",
       "       Spaten-Franziskaner-Bräu  Tsingtao  Zillertal  Beer  Merchandise  \\\n",
       "17174                         0         0          0     1            0   \n",
       "17175                         0         0          0     1            0   \n",
       "17177                         0         0          0     1            0   \n",
       "\n",
       "       Mixed Pack  \n",
       "17174           0  \n",
       "17175           0  \n",
       "17177           0  \n",
       "\n",
       "[3 rows x 46 columns]"
      ]
     },
     "execution_count": 65,
     "metadata": {},
     "output_type": "execute_result"
    }
   ],
   "source": [
    "#Genero dummies de brand\n",
    "brands_i = pd.get_dummies(tp_importadas.brand)\n",
    "category_i = pd.get_dummies(tp_importadas.category)\n",
    "tp_cluster2 = pd.concat([tp_importadas,brands_i,category_i],axis=1)\n",
    "tp_cluster2 = tp_cluster2.drop(['brand','category'], axis=1)\n",
    "tp_cluster2.head(3)"
   ]
  },
  {
   "cell_type": "code",
   "execution_count": 66,
   "metadata": {},
   "outputs": [],
   "source": [
    "#AutoScaling\n",
    "scaler_impo = preprocessing.StandardScaler().fit(tp_cluster2)\n",
    "##Hacer clustering sobre este xscal\n",
    "xscal_impo = scaler_impo.transform(tp_cluster2)\n",
    "#PCA sobre los clusters para visualizarlo\n",
    "#Crear 3 datasets por las etiquetas de los clusters y hacer un displot o boxplot de alguna de las variables\n"
   ]
  },
  {
   "cell_type": "code",
   "execution_count": 67,
   "metadata": {},
   "outputs": [
    {
     "data": {
      "image/png": "[encoded data removed]",
      "text/plain": [
       "<Figure size 432x288 with 2 Axes>"
      ]
     },
     "metadata": {
      "needs_background": "light"
     },
     "output_type": "display_data"
    }
   ],
   "source": [
    "# Generamos el PCA\n",
    "\n",
    "n_comps = 10\n",
    "components = range(1,n_comps + 1)\n",
    "pca_impo = decomposition.PCA(n_components=n_comps)\n",
    "pca_impo.fit(xscal_impo)\n",
    "xpca_impor = pca_impo.transform(xscal_impo)\n",
    "eigenvalues_impo = pca_impo.explained_variance_ratio_\n",
    "eigenvalues_acum_impo = pca_impo.explained_variance_ratio_.cumsum() \n",
    "\n",
    "#Visualizo autovalores\n",
    "fig, ax1 = plt.subplots()\n",
    "ax1.set_xlabel('Top PC')\n",
    "ax1.set_ylabel('Varianza Explicada', color='blue')\n",
    "ax1.bar(components, eigenvalues_impo, color='blue')\n",
    "ax1.tick_params(axis='y', labelcolor='blue')\n",
    "ax2 = ax1.twinx()  \n",
    "ax2.set_ylabel('Varianza Acumulada', color='red')  \n",
    "ax2.plot(components, eigenvalues_acum_impo, color='red')\n",
    "ax2.tick_params(axis='y', labelcolor='red')\n",
    "fig.tight_layout()  \n",
    "plt.show()"
   ]
  },
  {
   "cell_type": "code",
   "execution_count": 68,
   "metadata": {},
   "outputs": [
    {
     "data": {
      "text/plain": [
       "array([0, 3, 0, ..., 0, 0, 0])"
      ]
     },
     "execution_count": 68,
     "metadata": {},
     "output_type": "execute_result"
    }
   ],
   "source": [
    "#Encontramos que con 2 PC explicamos el 60% de la varianza CORREGIR ESTO\n",
    "reduced_dim = 2\n",
    "xpca_rd_impo = xpca_impor[:,0:reduced_dim]\n",
    "kmeans_rd_impo = KMeans(n_clusters=4, random_state=10).fit(xpca_rd_impo)\n",
    "# una vez realizado el clustering, observamos las labels de cluster asignadas a cada muestra\n",
    "kmeans_rd_impo.labels_ = kmeans_rd_impo.labels_\n",
    "kmeans_rd_impo.labels_\n",
    "##Concatenar las labels a cada sample"
   ]
  },
  {
   "cell_type": "code",
   "execution_count": 69,
   "metadata": {},
   "outputs": [
    {
     "data": {
      "text/plain": [
       "array([[-1.18011975, -0.57777994],\n",
       "       [ 4.53900923, -1.30019618],\n",
       "       [ 2.91749844,  0.8604683 ],\n",
       "       [-1.24753826,  0.89106991]])"
      ]
     },
     "execution_count": 69,
     "metadata": {},
     "output_type": "execute_result"
    }
   ],
   "source": [
    "# visualizamos los centroides finales de cada cluster\n",
    "centers_rd_impo = kmeans_rd_impo.cluster_centers_\n",
    "centers_rd_impo"
   ]
  },
  {
   "cell_type": "code",
   "execution_count": 70,
   "metadata": {},
   "outputs": [
    {
     "data": {
      "image/png": "[encoded data removed]",
      "text/plain": [
       "<Figure size 648x432 with 1 Axes>"
      ]
     },
     "metadata": {
      "needs_background": "light"
     },
     "output_type": "display_data"
    }
   ],
   "source": [
    "# K-Means + RD (Con las 2 primeras PC)\n",
    "plt.figure(figsize=(9,6))\n",
    "plt.scatter(xpca_rd_impo[:,0],xpca_rd_impo[:,1],c=kmeans_rd_impo.labels_.astype(float))\n",
    "plt.scatter(centers_rd[:,0], centers_rd[:,1], marker=\"x\", color='r',s=150)\n",
    "plt.xlabel('PC 1')\n",
    "plt.ylabel('PC 2')\n",
    "plt.title('Clustering K-means+RD')\n",
    "plt.show()"
   ]
  },
  {
   "cell_type": "code",
   "execution_count": 71,
   "metadata": {},
   "outputs": [
    {
     "name": "stdout",
     "output_type": "stream",
     "text": [
      "0.39064336235018293\n"
     ]
    }
   ],
   "source": [
    "sill_score_rd = silhouette_score(xpca_rd_impo,kmeans_rd_impo.labels_)\n",
    "print(sill_score_rd)"
   ]
  },
  {
   "cell_type": "code",
   "execution_count": 72,
   "metadata": {},
   "outputs": [],
   "source": [
    "#Haciendo clustering con las importadas encontramos distribuciones\n",
    "#similares a las vistas solo para las marcas core de negocio, pero con un Silhouette mucho mas alto\n",
    "#OJO QUE USE LAS MISMAS VARIABLES, DEL SCALER EN ADELANTE QUEDAN LAS DE LA SEGUNDA PARTE"
   ]
  },
  {
   "cell_type": "code",
   "execution_count": 73,
   "metadata": {},
   "outputs": [],
   "source": [
    "##Notas Martin\n",
    "##Buscar borrar el id que haya hecho compras ENOOORMES que genere los outliers\n",
    "##Dejar el EDA como ya esta, ponerle foco a clustering\n",
    "##Hacer el clustering sobre los datos auto-escalados\n",
    "##Crear 3 ( o los que sean) datasets por las etiquetas de los clusters (##Concatenar las labels a cada sample) y hacer un displot o boxplot de alguna de las variables (quantity, price)\n",
    "##Si alcanza el tiempo (Aplicar PCA sobre los clusters para visualizar las componentes y blabla)"
   ]
  },
  {
   "cell_type": "code",
   "execution_count": 74,
   "metadata": {},
   "outputs": [
    {
     "name": "stderr",
     "output_type": "stream",
     "text": [
      "C:\\Users\\avelurta\\AppData\\Local\\Continuum\\anaconda3\\lib\\site-packages\\ipykernel_launcher.py:2: SettingWithCopyWarning: \n",
      "A value is trying to be set on a copy of a slice from a DataFrame.\n",
      "Try using .loc[row_indexer,col_indexer] = value instead\n",
      "\n",
      "See the caveats in the documentation: http://pandas.pydata.org/pandas-docs/stable/indexing.html#indexing-view-versus-copy\n",
      "  \n"
     ]
    }
   ],
   "source": [
    "##Agrego las labels al tp_importadas\n",
    "tp_importadas ['labels'] = kmeans_rd_impo.labels_"
   ]
  },
  {
   "cell_type": "code",
   "execution_count": 75,
   "metadata": {},
   "outputs": [
    {
     "data": {
      "text/plain": [
       "0    8453\n",
       "3    5047\n",
       "2    2973\n",
       "1    1673\n",
       "Name: labels, dtype: int64"
      ]
     },
     "execution_count": 75,
     "metadata": {},
     "output_type": "execute_result"
    }
   ],
   "source": [
    "tp_importadas['labels'].value_counts()"
   ]
  },
  {
   "cell_type": "code",
   "execution_count": 76,
   "metadata": {},
   "outputs": [],
   "source": [
    "#Clustering de las nacionales\n",
    "tp_nacional = tp_cluster.loc[tp_h['brand'].isin(['Corona', 'Patagonia Brewing Co.', 'BevyBar',\n",
    "       'Stella Artois', 'Cervecería y Maltería Quilmes'])]"
   ]
  },
  {
   "cell_type": "code",
   "execution_count": 77,
   "metadata": {
    "scrolled": true
   },
   "outputs": [
    {
     "data": {
      "text/html": [
       "<div>\n",
       "<style scoped>\n",
       "    .dataframe tbody tr th:only-of-type {\n",
       "        vertical-align: middle;\n",
       "    }\n",
       "\n",
       "    .dataframe tbody tr th {\n",
       "        vertical-align: top;\n",
       "    }\n",
       "\n",
       "    .dataframe thead th {\n",
       "        text-align: right;\n",
       "    }\n",
       "</style>\n",
       "<table border=\"1\" class=\"dataframe\">\n",
       "  <thead>\n",
       "    <tr style=\"text-align: right;\">\n",
       "      <th></th>\n",
       "      <th>unit_discount_usd</th>\n",
       "      <th>unit_gross_revenue_local</th>\n",
       "      <th>unit_price_charged_local</th>\n",
       "      <th>unit_delivery_charged_local</th>\n",
       "      <th>quantity</th>\n",
       "      <th>unit_net_revenue_local</th>\n",
       "      <th>year</th>\n",
       "      <th>month</th>\n",
       "      <th>day</th>\n",
       "      <th>BevyBar</th>\n",
       "      <th>Cervecería y Maltería Quilmes</th>\n",
       "      <th>Corona</th>\n",
       "      <th>Patagonia Brewing Co.</th>\n",
       "      <th>Stella Artois</th>\n",
       "      <th>Beer</th>\n",
       "      <th>Merchandise</th>\n",
       "      <th>Mixed Pack</th>\n",
       "    </tr>\n",
       "  </thead>\n",
       "  <tbody>\n",
       "    <tr>\n",
       "      <th>17162</th>\n",
       "      <td>0.0000</td>\n",
       "      <td>1030.0</td>\n",
       "      <td>890.0</td>\n",
       "      <td>140.0</td>\n",
       "      <td>1</td>\n",
       "      <td>788.0530</td>\n",
       "      <td>2017</td>\n",
       "      <td>9</td>\n",
       "      <td>20</td>\n",
       "      <td>0</td>\n",
       "      <td>0</td>\n",
       "      <td>1</td>\n",
       "      <td>0</td>\n",
       "      <td>0</td>\n",
       "      <td>1</td>\n",
       "      <td>0</td>\n",
       "      <td>0</td>\n",
       "    </tr>\n",
       "    <tr>\n",
       "      <th>17165</th>\n",
       "      <td>0.0000</td>\n",
       "      <td>631.0</td>\n",
       "      <td>432.0</td>\n",
       "      <td>199.0</td>\n",
       "      <td>1</td>\n",
       "      <td>493.6944</td>\n",
       "      <td>2017</td>\n",
       "      <td>6</td>\n",
       "      <td>13</td>\n",
       "      <td>0</td>\n",
       "      <td>0</td>\n",
       "      <td>0</td>\n",
       "      <td>1</td>\n",
       "      <td>0</td>\n",
       "      <td>0</td>\n",
       "      <td>0</td>\n",
       "      <td>1</td>\n",
       "    </tr>\n",
       "    <tr>\n",
       "      <th>17176</th>\n",
       "      <td>9.0465</td>\n",
       "      <td>910.0</td>\n",
       "      <td>1011.0</td>\n",
       "      <td>49.0</td>\n",
       "      <td>1</td>\n",
       "      <td>698.5160</td>\n",
       "      <td>2017</td>\n",
       "      <td>7</td>\n",
       "      <td>30</td>\n",
       "      <td>1</td>\n",
       "      <td>0</td>\n",
       "      <td>0</td>\n",
       "      <td>0</td>\n",
       "      <td>0</td>\n",
       "      <td>0</td>\n",
       "      <td>0</td>\n",
       "      <td>1</td>\n",
       "    </tr>\n",
       "  </tbody>\n",
       "</table>\n",
       "</div>"
      ],
      "text/plain": [
       "       unit_discount_usd  unit_gross_revenue_local  unit_price_charged_local  \\\n",
       "17162             0.0000                    1030.0                     890.0   \n",
       "17165             0.0000                     631.0                     432.0   \n",
       "17176             9.0465                     910.0                    1011.0   \n",
       "\n",
       "       unit_delivery_charged_local  quantity  unit_net_revenue_local  year  \\\n",
       "17162                        140.0         1                788.0530  2017   \n",
       "17165                        199.0         1                493.6944  2017   \n",
       "17176                         49.0         1                698.5160  2017   \n",
       "\n",
       "       month  day  BevyBar  Cervecería y Maltería Quilmes  Corona  \\\n",
       "17162      9   20        0                              0       1   \n",
       "17165      6   13        0                              0       0   \n",
       "17176      7   30        1                              0       0   \n",
       "\n",
       "       Patagonia Brewing Co.  Stella Artois  Beer  Merchandise  Mixed Pack  \n",
       "17162                      0              0     1            0           0  \n",
       "17165                      1              0     0            0           1  \n",
       "17176                      0              0     0            0           1  "
      ]
     },
     "execution_count": 77,
     "metadata": {},
     "output_type": "execute_result"
    }
   ],
   "source": [
    "brandsnac = pd.get_dummies(tp_nacional.brand)\n",
    "category = pd.get_dummies(tp_nacional.category)\n",
    "tp_nac = pd.concat([tp_nacional,brandsnac,category],axis=1)\n",
    "tp_nac = tp_nac.drop(['brand','category'], axis=1)\n",
    "tp_nac.head(3)"
   ]
  },
  {
   "cell_type": "code",
   "execution_count": 78,
   "metadata": {},
   "outputs": [],
   "source": [
    "#AutoScaling\n",
    "scaler_nac = preprocessing.StandardScaler().fit(tp_nac)\n",
    "xscal_nac = scaler_nac.transform(tp_nac)"
   ]
  },
  {
   "cell_type": "code",
   "execution_count": 79,
   "metadata": {
    "scrolled": true
   },
   "outputs": [
    {
     "data": {
      "image/png": "[encoded data removed]",
      "text/plain": [
       "<Figure size 432x288 with 2 Axes>"
      ]
     },
     "metadata": {
      "needs_background": "light"
     },
     "output_type": "display_data"
    }
   ],
   "source": [
    "n_comps = 10\n",
    "components = range(1,n_comps + 1)\n",
    "pca_nac = decomposition.PCA(n_components=n_comps)\n",
    "pca_nac.fit(xscal_nac)\n",
    "xpca_nac = pca_nac.transform(xscal_nac)\n",
    "eigenvalues_nac = pca_nac.explained_variance_ratio_\n",
    "eigenvalues_acum_nac = pca_nac.explained_variance_ratio_.cumsum() \n",
    "\n",
    "#Visualizo autovalores\n",
    "fig, ax1 = plt.subplots()\n",
    "ax1.set_xlabel('Top PC')\n",
    "ax1.set_ylabel('Varianza Explicada', color='blue')\n",
    "ax1.bar(components, eigenvalues_nac, color='blue')\n",
    "ax1.tick_params(axis='y', labelcolor='blue')\n",
    "ax2 = ax1.twinx()  \n",
    "ax2.set_ylabel('Varianza Acumulada', color='red')  \n",
    "ax2.plot(components, eigenvalues_acum_nac, color='red')\n",
    "ax2.tick_params(axis='y', labelcolor='red')\n",
    "fig.tight_layout()  \n",
    "plt.show()"
   ]
  },
  {
   "cell_type": "code",
   "execution_count": 80,
   "metadata": {},
   "outputs": [
    {
     "data": {
      "text/plain": [
       "array([1, 0, 0, ..., 1, 1, 1])"
      ]
     },
     "execution_count": 80,
     "metadata": {},
     "output_type": "execute_result"
    }
   ],
   "source": [
    "#Encontramos que con 3 PC explicamos el 50% de la varianza\n",
    "reduced_dim_nac = 3\n",
    "xpca_rd_nac = xpca_nac[:,0:reduced_dim_nac]\n",
    "kmeans_rd_nac = KMeans(n_clusters=3, random_state=10).fit(xpca_rd_nac)\n",
    "# una vez realizado el clustering, observamos las labels de cluster asignadas a cada muestra\n",
    "kmeans_rd_nac.labels_ = kmeans_rd_nac.labels_\n",
    "kmeans_rd_nac.labels_\n",
    "##Concatenar las labels a cada sample"
   ]
  },
  {
   "cell_type": "code",
   "execution_count": 81,
   "metadata": {
    "scrolled": true
   },
   "outputs": [
    {
     "data": {
      "text/plain": [
       "array([[ 0.57737723, -0.60466939,  0.07413757],\n",
       "       [-2.12962663,  1.45077728, -0.27084744],\n",
       "       [ 8.77540638,  4.14559592,  1.08222797]])"
      ]
     },
     "execution_count": 81,
     "metadata": {},
     "output_type": "execute_result"
    }
   ],
   "source": [
    "# visualizamos los centroides finales de cada cluster\n",
    "centers_rd_nac = kmeans_rd_nac.cluster_centers_\n",
    "centers_rd_nac"
   ]
  },
  {
   "cell_type": "code",
   "execution_count": 82,
   "metadata": {},
   "outputs": [
    {
     "data": {
      "image/png": "[encoded data removed]",
      "text/plain": [
       "<Figure size 648x432 with 1 Axes>"
      ]
     },
     "metadata": {
      "needs_background": "light"
     },
     "output_type": "display_data"
    }
   ],
   "source": [
    "# K-Means + RD (Con las 3 primeras PC)\n",
    "plt.figure(figsize=(9,6))\n",
    "plt.scatter(xpca_rd_nac[:,0],xpca_rd_nac[:,1],c=kmeans_rd_nac.labels_.astype(float))\n",
    "plt.scatter(centers_rd_nac[:,0], centers_rd_nac[:,1], marker=\"x\", color='r',s=150)\n",
    "plt.xlabel('PC 1')\n",
    "plt.ylabel('PC 2')\n",
    "plt.title('Clustering K-means+RD')\n",
    "plt.show()"
   ]
  },
  {
   "cell_type": "code",
   "execution_count": 83,
   "metadata": {},
   "outputs": [
    {
     "name": "stdout",
     "output_type": "stream",
     "text": [
      "0.4814453697874916\n"
     ]
    }
   ],
   "source": [
    "sill_score_rd = silhouette_score(xpca_rd_nac,kmeans_rd_nac.labels_)\n",
    "print(sill_score_rd)"
   ]
  },
  {
   "cell_type": "code",
   "execution_count": 84,
   "metadata": {},
   "outputs": [
    {
     "name": "stderr",
     "output_type": "stream",
     "text": [
      "C:\\Users\\avelurta\\AppData\\Local\\Continuum\\anaconda3\\lib\\site-packages\\ipykernel_launcher.py:1: SettingWithCopyWarning: \n",
      "A value is trying to be set on a copy of a slice from a DataFrame.\n",
      "Try using .loc[row_indexer,col_indexer] = value instead\n",
      "\n",
      "See the caveats in the documentation: http://pandas.pydata.org/pandas-docs/stable/indexing.html#indexing-view-versus-copy\n",
      "  \"\"\"Entry point for launching an IPython kernel.\n"
     ]
    },
    {
     "data": {
      "text/plain": [
       "0    27544\n",
       "1     9837\n",
       "2      575\n",
       "Name: labels, dtype: int64"
      ]
     },
     "execution_count": 84,
     "metadata": {},
     "output_type": "execute_result"
    }
   ],
   "source": [
    "tp_nacional['labels'] = kmeans_rd_nac.labels_\n",
    "tp_nacional.labels.value_counts()"
   ]
  },
  {
   "cell_type": "markdown",
   "metadata": {},
   "source": [
    "## EDA de los Clusters encontrados"
   ]
  },
  {
   "cell_type": "code",
   "execution_count": 85,
   "metadata": {
    "scrolled": true
   },
   "outputs": [
    {
     "name": "stderr",
     "output_type": "stream",
     "text": [
      "C:\\Users\\avelurta\\AppData\\Local\\Continuum\\anaconda3\\lib\\site-packages\\ipykernel_launcher.py:4: SettingWithCopyWarning: \n",
      "A value is trying to be set on a copy of a slice from a DataFrame.\n",
      "Try using .loc[row_indexer,col_indexer] = value instead\n",
      "\n",
      "See the caveats in the documentation: http://pandas.pydata.org/pandas-docs/stable/indexing.html#indexing-view-versus-copy\n",
      "  after removing the cwd from sys.path.\n",
      "C:\\Users\\avelurta\\AppData\\Local\\Continuum\\anaconda3\\lib\\site-packages\\ipykernel_launcher.py:5: SettingWithCopyWarning: \n",
      "A value is trying to be set on a copy of a slice from a DataFrame.\n",
      "Try using .loc[row_indexer,col_indexer] = value instead\n",
      "\n",
      "See the caveats in the documentation: http://pandas.pydata.org/pandas-docs/stable/indexing.html#indexing-view-versus-copy\n",
      "  \"\"\"\n"
     ]
    },
    {
     "data": {
      "text/plain": [
       "0    27544\n",
       "1     9837\n",
       "2      575\n",
       "Name: labels, dtype: int64"
      ]
     },
     "execution_count": 85,
     "metadata": {},
     "output_type": "execute_result"
    }
   ],
   "source": [
    "#Voy a volver a meter los id de usuario, si rompe algo lo sacamos\n",
    "tp_aux= tp_h.loc[tp_h['brand'].isin(['Corona', 'Patagonia Brewing Co.', 'BevyBar',\n",
    "       'Stella Artois', 'Cervecería y Maltería Quilmes'])]\n",
    "tp_nacional['id'] = tp_aux['id']\n",
    "tp_nacional['labels'] = kmeans_rd_nac.labels_\n",
    "tp_nacional.labels.value_counts()"
   ]
  },
  {
   "cell_type": "code",
   "execution_count": 105,
   "metadata": {},
   "outputs": [
    {
     "data": {
      "text/html": [
       "<div>\n",
       "<style scoped>\n",
       "    .dataframe tbody tr th:only-of-type {\n",
       "        vertical-align: middle;\n",
       "    }\n",
       "\n",
       "    .dataframe tbody tr th {\n",
       "        vertical-align: top;\n",
       "    }\n",
       "\n",
       "    .dataframe thead th {\n",
       "        text-align: right;\n",
       "    }\n",
       "</style>\n",
       "<table border=\"1\" class=\"dataframe\">\n",
       "  <thead>\n",
       "    <tr style=\"text-align: right;\">\n",
       "      <th></th>\n",
       "      <th>unit_discount_usd</th>\n",
       "      <th>unit_gross_revenue_local</th>\n",
       "      <th>unit_price_charged_local</th>\n",
       "      <th>unit_delivery_charged_local</th>\n",
       "      <th>quantity</th>\n",
       "      <th>unit_net_revenue_local</th>\n",
       "      <th>brand</th>\n",
       "      <th>category</th>\n",
       "      <th>year</th>\n",
       "      <th>month</th>\n",
       "      <th>day</th>\n",
       "      <th>labels</th>\n",
       "      <th>id</th>\n",
       "    </tr>\n",
       "  </thead>\n",
       "  <tbody>\n",
       "    <tr>\n",
       "      <th>17162</th>\n",
       "      <td>0.0000</td>\n",
       "      <td>1030.0</td>\n",
       "      <td>890.0</td>\n",
       "      <td>140.0</td>\n",
       "      <td>1</td>\n",
       "      <td>788.0530</td>\n",
       "      <td>Corona</td>\n",
       "      <td>Beer</td>\n",
       "      <td>2017</td>\n",
       "      <td>9</td>\n",
       "      <td>20</td>\n",
       "      <td>1</td>\n",
       "      <td>[\"ar_bevybar;8b3eb4b88a85ba3eeb60dd24686995c38...</td>\n",
       "    </tr>\n",
       "    <tr>\n",
       "      <th>17165</th>\n",
       "      <td>0.0000</td>\n",
       "      <td>631.0</td>\n",
       "      <td>432.0</td>\n",
       "      <td>199.0</td>\n",
       "      <td>1</td>\n",
       "      <td>493.6944</td>\n",
       "      <td>Patagonia Brewing Co.</td>\n",
       "      <td>Mixed Pack</td>\n",
       "      <td>2017</td>\n",
       "      <td>6</td>\n",
       "      <td>13</td>\n",
       "      <td>0</td>\n",
       "      <td>[\"ar_bevybar;41434b744330c691cf83b70da3fa080c8...</td>\n",
       "    </tr>\n",
       "    <tr>\n",
       "      <th>17176</th>\n",
       "      <td>9.0465</td>\n",
       "      <td>910.0</td>\n",
       "      <td>1011.0</td>\n",
       "      <td>49.0</td>\n",
       "      <td>1</td>\n",
       "      <td>698.5160</td>\n",
       "      <td>BevyBar</td>\n",
       "      <td>Mixed Pack</td>\n",
       "      <td>2017</td>\n",
       "      <td>7</td>\n",
       "      <td>30</td>\n",
       "      <td>0</td>\n",
       "      <td>[\"ar_bevybar;2aedfe0c0b63ee0da640463d4b0a09f74...</td>\n",
       "    </tr>\n",
       "    <tr>\n",
       "      <th>17182</th>\n",
       "      <td>0.0000</td>\n",
       "      <td>820.0</td>\n",
       "      <td>690.0</td>\n",
       "      <td>130.0</td>\n",
       "      <td>1</td>\n",
       "      <td>627.3820</td>\n",
       "      <td>Stella Artois</td>\n",
       "      <td>Mixed Pack</td>\n",
       "      <td>2017</td>\n",
       "      <td>9</td>\n",
       "      <td>24</td>\n",
       "      <td>0</td>\n",
       "      <td>[\"ar_bevybar;0f725d8dfc2bfa356bb643582d5efff86...</td>\n",
       "    </tr>\n",
       "    <tr>\n",
       "      <th>17189</th>\n",
       "      <td>0.0000</td>\n",
       "      <td>314.0</td>\n",
       "      <td>209.0</td>\n",
       "      <td>105.0</td>\n",
       "      <td>1</td>\n",
       "      <td>235.7826</td>\n",
       "      <td>Stella Artois</td>\n",
       "      <td>Merchandise</td>\n",
       "      <td>2017</td>\n",
       "      <td>2</td>\n",
       "      <td>14</td>\n",
       "      <td>1</td>\n",
       "      <td>[\"ar_bevybar;7b2eb6f3e8e3919aa0a7f7d66b5c1852d...</td>\n",
       "    </tr>\n",
       "  </tbody>\n",
       "</table>\n",
       "</div>"
      ],
      "text/plain": [
       "       unit_discount_usd  unit_gross_revenue_local  unit_price_charged_local  \\\n",
       "17162             0.0000                    1030.0                     890.0   \n",
       "17165             0.0000                     631.0                     432.0   \n",
       "17176             9.0465                     910.0                    1011.0   \n",
       "17182             0.0000                     820.0                     690.0   \n",
       "17189             0.0000                     314.0                     209.0   \n",
       "\n",
       "       unit_delivery_charged_local  quantity  unit_net_revenue_local  \\\n",
       "17162                        140.0         1                788.0530   \n",
       "17165                        199.0         1                493.6944   \n",
       "17176                         49.0         1                698.5160   \n",
       "17182                        130.0         1                627.3820   \n",
       "17189                        105.0         1                235.7826   \n",
       "\n",
       "                       brand     category  year  month  day  labels  \\\n",
       "17162                 Corona         Beer  2017      9   20       1   \n",
       "17165  Patagonia Brewing Co.   Mixed Pack  2017      6   13       0   \n",
       "17176                BevyBar   Mixed Pack  2017      7   30       0   \n",
       "17182          Stella Artois   Mixed Pack  2017      9   24       0   \n",
       "17189          Stella Artois  Merchandise  2017      2   14       1   \n",
       "\n",
       "                                                      id  \n",
       "17162  [\"ar_bevybar;8b3eb4b88a85ba3eeb60dd24686995c38...  \n",
       "17165  [\"ar_bevybar;41434b744330c691cf83b70da3fa080c8...  \n",
       "17176  [\"ar_bevybar;2aedfe0c0b63ee0da640463d4b0a09f74...  \n",
       "17182  [\"ar_bevybar;0f725d8dfc2bfa356bb643582d5efff86...  \n",
       "17189  [\"ar_bevybar;7b2eb6f3e8e3919aa0a7f7d66b5c1852d...  "
      ]
     },
     "execution_count": 105,
     "metadata": {},
     "output_type": "execute_result"
    }
   ],
   "source": [
    "tp_nacional.head(5)"
   ]
  },
  {
   "cell_type": "code",
   "execution_count": 127,
   "metadata": {},
   "outputs": [],
   "source": [
    "#Hago EDA de lo nacional\n",
    "tp_nac_0 = tp_nacional.loc[tp_nacional['labels'].isin(['0'])]\n",
    "tp_nac_1 = tp_nacional.loc[tp_nacional['labels'].isin(['1'])]\n",
    "tp_nac_2 = tp_nacional.loc[tp_nacional['labels'].isin(['2'])]"
   ]
  },
  {
   "cell_type": "code",
   "execution_count": 107,
   "metadata": {
    "scrolled": true
   },
   "outputs": [
    {
     "data": {
      "text/plain": [
       "unit_discount_usd              0\n",
       "unit_gross_revenue_local       0\n",
       "unit_price_charged_local       0\n",
       "unit_delivery_charged_local    0\n",
       "quantity                       0\n",
       "unit_net_revenue_local         0\n",
       "brand                          0\n",
       "category                       0\n",
       "year                           0\n",
       "month                          0\n",
       "day                            0\n",
       "labels                         0\n",
       "id                             0\n",
       "dtype: int64"
      ]
     },
     "execution_count": 107,
     "metadata": {},
     "output_type": "execute_result"
    }
   ],
   "source": [
    "tp_nac_0.isnull().sum()\n",
    "tp_nac_1.isnull().sum()\n",
    "tp_nac_2.isnull().sum()"
   ]
  },
  {
   "cell_type": "code",
   "execution_count": 108,
   "metadata": {
    "scrolled": true
   },
   "outputs": [
    {
     "data": {
      "image/png": "[encoded data removed]",
      "text/plain": [
       "<Figure size 432x288 with 1 Axes>"
      ]
     },
     "metadata": {},
     "output_type": "display_data"
    },
    {
     "data": {
      "text/plain": [
       "<matplotlib.axes._subplots.AxesSubplot at 0x3df700f0>"
      ]
     },
     "execution_count": 108,
     "metadata": {},
     "output_type": "execute_result"
    },
    {
     "data": {
      "image/png": "[encoded data removed]",
      "text/plain": [
       "<Figure size 432x288 with 1 Axes>"
      ]
     },
     "metadata": {},
     "output_type": "display_data"
    }
   ],
   "source": [
    "#Esto seria en volumen de ventas totales no? Habria que ver porque aca capaz hay algo interesante\n",
    "sns.set_context(\"talk\", font_scale=0.7)\n",
    "tp_nac_0.groupby(['month']).sum()[('quantity')].plot(title = \"Ventas por mes \" )\n",
    "tp_nac_1.groupby(['month']).sum()[('quantity')].plot(title = \"Ventas por mes \" )\n",
    "tp_nac_2.groupby(['month']).sum()[('quantity')].plot(title = \"Ventas por mes \" )\n",
    "plt.legend(loc='center left', bbox_to_anchor=(2, 1))\n",
    "plt.show()\n",
    "tp_nac.plot()"
   ]
  },
  {
   "cell_type": "code",
   "execution_count": 109,
   "metadata": {},
   "outputs": [
    {
     "data": {
      "text/html": [
       "<div>\n",
       "<style scoped>\n",
       "    .dataframe tbody tr th:only-of-type {\n",
       "        vertical-align: middle;\n",
       "    }\n",
       "\n",
       "    .dataframe tbody tr th {\n",
       "        vertical-align: top;\n",
       "    }\n",
       "\n",
       "    .dataframe thead tr th {\n",
       "        text-align: left;\n",
       "    }\n",
       "\n",
       "    .dataframe thead tr:last-of-type th {\n",
       "        text-align: right;\n",
       "    }\n",
       "</style>\n",
       "<table border=\"1\" class=\"dataframe\">\n",
       "  <thead>\n",
       "    <tr>\n",
       "      <th></th>\n",
       "      <th colspan=\"3\" halign=\"left\">quantity</th>\n",
       "    </tr>\n",
       "    <tr>\n",
       "      <th>category</th>\n",
       "      <th>Beer</th>\n",
       "      <th>Merchandise</th>\n",
       "      <th>Mixed Pack</th>\n",
       "    </tr>\n",
       "    <tr>\n",
       "      <th>labels</th>\n",
       "      <th></th>\n",
       "      <th></th>\n",
       "      <th></th>\n",
       "    </tr>\n",
       "  </thead>\n",
       "  <tbody>\n",
       "    <tr>\n",
       "      <th>0</th>\n",
       "      <td>74.0</td>\n",
       "      <td>NaN</td>\n",
       "      <td>31470.0</td>\n",
       "    </tr>\n",
       "    <tr>\n",
       "      <th>1</th>\n",
       "      <td>9573.0</td>\n",
       "      <td>8252.0</td>\n",
       "      <td>NaN</td>\n",
       "    </tr>\n",
       "    <tr>\n",
       "      <th>2</th>\n",
       "      <td>102.0</td>\n",
       "      <td>284.0</td>\n",
       "      <td>2258.0</td>\n",
       "    </tr>\n",
       "  </tbody>\n",
       "</table>\n",
       "</div>"
      ],
      "text/plain": [
       "         quantity                       \n",
       "category     Beer Merchandise Mixed Pack\n",
       "labels                                  \n",
       "0            74.0         NaN    31470.0\n",
       "1          9573.0      8252.0        NaN\n",
       "2           102.0       284.0     2258.0"
      ]
     },
     "execution_count": 109,
     "metadata": {},
     "output_type": "execute_result"
    }
   ],
   "source": [
    "tp_pivot_nac = pd.pivot_table(data = tp_nacional, values = ['quantity'], index = ['labels'], columns = ['category'], aggfunc= np.sum, )\n",
    "tp_pivot_nac"
   ]
  },
  {
   "cell_type": "code",
   "execution_count": 110,
   "metadata": {},
   "outputs": [
    {
     "data": {
      "image/png": "[encoded data removed]",
      "text/plain": [
       "<Figure size 720x432 with 2 Axes>"
      ]
     },
     "metadata": {},
     "output_type": "display_data"
    }
   ],
   "source": [
    "plt.figure(figsize=(10,6))\n",
    "sns.heatmap(tp_pivot_nac.quantity.corr())\n",
    "plt.title(\"Correlacion entre categoria y cantidad vendida por compra\")\n",
    "plt.show()"
   ]
  },
  {
   "cell_type": "code",
   "execution_count": 111,
   "metadata": {},
   "outputs": [],
   "source": [
    "#Esto tarda mil años, cualquier cosa despues lo agregamos\n",
    "#sns.set_style(\"white\")\n",
    "#sns.set_context(\"talk\")\n",
    "#sns.set_style(\"ticks\")\n",
    "#sns.pairplot(tp_nacional)\n",
    "#plt.show()"
   ]
  },
  {
   "cell_type": "code",
   "execution_count": 136,
   "metadata": {},
   "outputs": [],
   "source": [
    "#Vamos a comparar boxplots de los clusters - Cuando quiero hacer un boxplot con cada uno me tira error, en los ultimos 2,\n",
    "#me dan una mano?\n",
    "\n",
    "#Los tire por separado y el del cluster 2 no tiene IQR, no se que onda\n",
    "comprasporusuario_nac_0 = tp_nac_0.groupby(['id'])['id'].count()\n",
    "comprasporusuario_nac_1 = tp_nac_1.groupby(['id'])['id'].count()\n",
    "comprasporusuario_nac_2 = tp_nac_2.groupby(['id'])['id'].count()"
   ]
  },
  {
   "cell_type": "code",
   "execution_count": 146,
   "metadata": {},
   "outputs": [
    {
     "data": {
      "text/plain": [
       "Text(0.5, 0, 'id')"
      ]
     },
     "execution_count": 146,
     "metadata": {},
     "output_type": "execute_result"
    },
    {
     "data": {
      "image/png": "[encoded data removed]",
      "text/plain": [
       "<Figure size 432x288 with 1 Axes>"
      ]
     },
     "metadata": {},
     "output_type": "display_data"
    }
   ],
   "source": [
    "plt.boxplot(comprasporusuario_nac_2)\n",
    "plt.title(\"Dist de cantidad de compras por usuario\")\n",
    "plt.xlabel(\"id\")"
   ]
  },
  {
   "cell_type": "code",
   "execution_count": 148,
   "metadata": {},
   "outputs": [
    {
     "data": {
      "text/plain": [
       "Text(0.5, 0, 'unit_price_charged_local')"
      ]
     },
     "execution_count": 148,
     "metadata": {},
     "output_type": "execute_result"
    },
    {
     "data": {
      "image/png": "[encoded data removed]",
      "text/plain": [
       "<Figure size 432x288 with 1 Axes>"
      ]
     },
     "metadata": {},
     "output_type": "display_data"
    }
   ],
   "source": [
    "#Boxplots de los precios\n",
    "plt.boxplot(tp_nac_0['unit_price_charged_local'])\n",
    "plt.title(\"Precio del producto\")\n",
    "plt.xlabel(\"unit_price_charged_local\")\n"
   ]
  },
  {
   "cell_type": "code",
   "execution_count": 149,
   "metadata": {},
   "outputs": [
    {
     "data": {
      "text/plain": [
       "Text(0.5, 0, 'unit_price_charged_local')"
      ]
     },
     "execution_count": 149,
     "metadata": {},
     "output_type": "execute_result"
    },
    {
     "data": {
      "image/png": "[encoded data removed]",
      "text/plain": [
       "<Figure size 432x288 with 1 Axes>"
      ]
     },
     "metadata": {},
     "output_type": "display_data"
    }
   ],
   "source": [
    "plt.boxplot(tp_nac_1['unit_price_charged_local'])\n",
    "plt.title(\"Precio del producto\")\n",
    "plt.xlabel(\"unit_price_charged_local\")\n"
   ]
  },
  {
   "cell_type": "code",
   "execution_count": 150,
   "metadata": {},
   "outputs": [
    {
     "data": {
      "text/plain": [
       "Text(0.5, 0, 'unit_price_charged_local')"
      ]
     },
     "execution_count": 150,
     "metadata": {},
     "output_type": "execute_result"
    },
    {
     "data": {
      "image/png": "[encoded data removed]",
      "text/plain": [
       "<Figure size 432x288 with 1 Axes>"
      ]
     },
     "metadata": {},
     "output_type": "display_data"
    }
   ],
   "source": [
    "plt.boxplot(tp_nac_2['unit_price_charged_local'])\n",
    "plt.title(\"Precio del producto\")\n",
    "plt.xlabel(\"unit_price_charged_local\")"
   ]
  },
  {
   "cell_type": "code",
   "execution_count": null,
   "metadata": {},
   "outputs": [],
   "source": []
  }
 ],
 "metadata": {
  "kernelspec": {
   "display_name": "Python 3",
   "language": "python",
   "name": "python3"
  }
 },
 "nbformat": 4,
 "nbformat_minor": 2
}
