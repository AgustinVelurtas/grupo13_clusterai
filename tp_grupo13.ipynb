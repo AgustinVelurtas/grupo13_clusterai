{
 "cells": [
  {
   "cell_type": "code",
   "execution_count": 1,
   "metadata": {},
   "outputs": [],
   "source": [
    "import numpy as np\n",
    "import pandas as pd\n",
    "import matplotlib.pyplot as plt\n",
    "import seaborn as sns"
   ]
  },
  {
   "cell_type": "code",
   "execution_count": 2,
   "metadata": {},
   "outputs": [
    {
     "name": "stderr",
     "output_type": "stream",
     "text": [
      "C:\\Users\\avelurta\\AppData\\Local\\Continuum\\anaconda3\\lib\\site-packages\\IPython\\core\\interactiveshell.py:3057: DtypeWarning: Columns (21,29,47,62,68,74,82,84,91,103,104,112,126) have mixed types. Specify dtype option on import or set low_memory=False.\n",
      "  interactivity=interactivity, compiler=compiler, result=result)\n"
     ]
    }
   ],
   "source": [
    "tp = pd.read_csv(r'Ecommerce ABI Enriched.csv', delimiter=',', low_memory= 'false')"
   ]
  },
  {
   "cell_type": "code",
   "execution_count": 3,
   "metadata": {},
   "outputs": [
    {
     "data": {
      "text/plain": [
       "(359388, 141)"
      ]
     },
     "execution_count": 3,
     "metadata": {},
     "output_type": "execute_result"
    }
   ],
   "source": [
    "tp.head(30)\n",
    "tp.shape"
   ]
  },
  {
   "cell_type": "code",
   "execution_count": 4,
   "metadata": {},
   "outputs": [
    {
     "data": {
      "text/plain": [
       "Index(['age', 'birth_date', 'birth_date_day', 'birth_date_month',\n",
       "       'birth_date_year', 'channel', 'city', 'complement', 'country',\n",
       "       'created_in',\n",
       "       ...\n",
       "       'ideal_glass', 'fermentation', 'style', 'category', 'subcategory',\n",
       "       'country_of_production', 'is_abi', 'source_schema', 'food_pairing_tip',\n",
       "       'time.1'],\n",
       "      dtype='object', length=141)"
      ]
     },
     "execution_count": 4,
     "metadata": {},
     "output_type": "execute_result"
    }
   ],
   "source": [
    "tp.columns"
   ]
  },
  {
   "cell_type": "code",
   "execution_count": 5,
   "metadata": {
    "scrolled": true
   },
   "outputs": [
    {
     "data": {
      "text/plain": [
       "age                            359388\n",
       "birth_date                     359388\n",
       "birth_date_day                 359388\n",
       "birth_date_month               359388\n",
       "birth_date_year                359388\n",
       "channel                        359388\n",
       "city                           359388\n",
       "complement                     359388\n",
       "country                             0\n",
       "created_in                          0\n",
       "creation_brand                      0\n",
       "district                       359388\n",
       "document_id                    359388\n",
       "document_id_unify              359388\n",
       "email                          359388\n",
       "emails                         359388\n",
       "facebook_id                    359388\n",
       "first_name                     359388\n",
       "full_name                      359388\n",
       "gender                         359388\n",
       "id                                  0\n",
       "id_1                           133049\n",
       "identification_number          359388\n",
       "identification_number_unify    359388\n",
       "is_employee                    359388\n",
       "last_name                      359388\n",
       "mobile_number                  359388\n",
       "neighborhood                   359388\n",
       "number                         359388\n",
       "opt_in                         226671\n",
       "                                ...  \n",
       "department                       4954\n",
       "sku                               616\n",
       "brand                            2520\n",
       "height                         359388\n",
       "is_active                      359388\n",
       "date_created                     2333\n",
       "image_url                      207320\n",
       "length                         359388\n",
       "country_of_origin              359388\n",
       "upc                            139146\n",
       "weight                          81454\n",
       "ideal_temperature              359388\n",
       "local_subcategory              359388\n",
       "is_bundle                      359388\n",
       "volume                         359388\n",
       "product_nk                        602\n",
       "abv                            359388\n",
       "units_per_sku                  359388\n",
       "name                                0\n",
       "width                          359388\n",
       "ideal_glass                    359388\n",
       "fermentation                   359388\n",
       "style                          359388\n",
       "category                         4954\n",
       "subcategory                      4954\n",
       "country_of_production          359388\n",
       "is_abi                              0\n",
       "source_schema                   90097\n",
       "food_pairing_tip               359388\n",
       "time.1                              0\n",
       "Length: 141, dtype: int64"
      ]
     },
     "execution_count": 5,
     "metadata": {},
     "output_type": "execute_result"
    }
   ],
   "source": [
    "tp.isnull().sum()"
   ]
  },
  {
   "cell_type": "markdown",
   "metadata": {},
   "source": []
  },
  {
   "cell_type": "code",
   "execution_count": 105,
   "metadata": {},
   "outputs": [],
   "source": [
    "tpf1 = tp.drop(['age','birth_date','birth_date_day','birth_date_month','birth_date_year','created_in','channel','city','complement','district','document_id','document_id_unify','email','emails','facebook_id','first_name','full_name','country_of_production',\n",
    "       'food_pairing_tip','width','time', 'ideal_glass','table_origin','td_id', 'fermentation','origin_score',\n",
    "       'style','ideal_temperature', 'local_subcategory', 'is_bundle', 'volume','source_system',\n",
    "       'abv', 'units_per_sku','length','creation_brand', 'country_of_origin','height','business_name',\n",
    "       'is_active','identification_number','source','title','td_id','system','currency',\n",
    "       'identification_number_unify', 'is_employee','last_name','product_spk','business_spk',\n",
    "       'mobile_number','neighborhood','number','phone_number','state','street','td_global_id',\n",
    "       'time_creation', 'twitter_id','department','item_id', 'uniqueid', 'zipcode', 'cuit_cuil',\n",
    "       'dni', 'id_2', 'id_3','gender', 'id_1','unit_discount_local','td_id.1','customer_first_order_period','customer_first_order_year',\n",
    "       'unit_delivery_cost_local', 'is_incomplete', 'coupon_code','unit_tax_usd','unit_tax_local',\n",
    "       'order_rating','unit_subtotal_charged_usd','delivery_type',\n",
    "       'unit_subtotal_charged_local', 'unit_delivery_cost_usd', 'order_type',\n",
    "       'unit_product_cost_local','unit_margin_usd','product_url','is_test','unit_product_cost_usd',\n",
    "       'unit_margin_local', 'unit_volume','description', 'body', 'local_category', 'date_retired',\n",
    "       'is_returnable_glass_bottle', 'ean', 'row_updated_at', 'brand_category','elegible_discount_spk','delivery_address_spk','discount_name','operator_nk','discount_spk','image_url','upc','opt_in','id_4','weight','source_schema','is_abi','time.1','product_nk'], axis = 1)"
   ]
  },
  {
   "cell_type": "code",
   "execution_count": 106,
   "metadata": {},
   "outputs": [
    {
     "data": {
      "text/plain": [
       "country                            0\n",
       "id                                 0\n",
       "unit_discount_usd                  0\n",
       "customer_first_order_date          0\n",
       "unit_gross_revenue_local           0\n",
       "unit_delivery_charged_usd          0\n",
       "unit_net_revenue_usd               0\n",
       "order_date                         0\n",
       "order_status                       0\n",
       "order_status_type                  0\n",
       "customer_spk                       0\n",
       "unit_price_charged_local           0\n",
       "unit_gross_revenue_usd             0\n",
       "source_system_order_id             0\n",
       "unit_delivery_charged_local        0\n",
       "rate_local_do_usd                  0\n",
       "quantity                           0\n",
       "unit_price_charged_usd             0\n",
       "unit_net_revenue_local             0\n",
       "order_days_after_first_order       0\n",
       "order_time                         0\n",
       "row_created_at                     0\n",
       "sku                              616\n",
       "brand                           2520\n",
       "date_created                    2333\n",
       "name                               0\n",
       "category                        4954\n",
       "subcategory                     4954\n",
       "dtype: int64"
      ]
     },
     "execution_count": 106,
     "metadata": {},
     "output_type": "execute_result"
    }
   ],
   "source": [
    "tpf1.isnull().sum()"
   ]
  },
  {
   "cell_type": "code",
   "execution_count": 107,
   "metadata": {},
   "outputs": [],
   "source": [
    "tp_arg = tpf1.loc[tpf1['country'] == 'Argentina']"
   ]
  },
  {
   "cell_type": "code",
   "execution_count": 112,
   "metadata": {},
   "outputs": [
    {
     "data": {
      "text/plain": [
       "country                            0\n",
       "id                                 0\n",
       "unit_discount_usd                  0\n",
       "customer_first_order_date          0\n",
       "unit_gross_revenue_local           0\n",
       "unit_delivery_charged_usd          0\n",
       "unit_net_revenue_usd               0\n",
       "order_date                         0\n",
       "order_status                       0\n",
       "order_status_type                  0\n",
       "customer_spk                       0\n",
       "unit_price_charged_local           0\n",
       "unit_gross_revenue_usd             0\n",
       "source_system_order_id             0\n",
       "unit_delivery_charged_local        0\n",
       "rate_local_do_usd                  0\n",
       "quantity                           0\n",
       "unit_price_charged_usd             0\n",
       "unit_net_revenue_local             0\n",
       "order_days_after_first_order       0\n",
       "order_time                         0\n",
       "row_created_at                     0\n",
       "sku                              616\n",
       "brand                           1166\n",
       "date_created                     979\n",
       "name                               0\n",
       "category                        3600\n",
       "subcategory                     3600\n",
       "dtype: int64"
      ]
     },
     "execution_count": 112,
     "metadata": {},
     "output_type": "execute_result"
    }
   ],
   "source": [
    "tp_f = tp_arg.dropna(1, how= 'all' )\n",
    "tp_f.isnull().sum()"
   ]
  },
  {
   "cell_type": "code",
   "execution_count": 120,
   "metadata": {},
   "outputs": [],
   "source": [
    "##Cambio todos los brands de importadas por 'importadas'\n",
    "tp_f.brand = tp_f.brand.replace(to_replace = ['Cervecería Antares','Flensburger Brauerei','Fábricas Nacionales De Cerveza', 'Fabricas Nacionales De Cerveza', 'Cerveceria Artesanal El Bolson', 'Peñón del Águila', 'Leffe', 'Spaten-Franziskaner-Bräu', 'BBC', 'Cervecería Artesanal El Bolson',\n",
    "       'Anchor Brewing Company', 'Bass Brewery', 'Hofbräu München',\n",
    "       'Adnams', \"Fuller's\", 'Karlsberg Brauerei',\n",
    "       'Les Brasseurs de Gayant\\xa0',\n",
    "       'Brouwerij Van Steenberge', 'Hoegaarden',\n",
    "       'Fuegian Beverage Company',\n",
    "       'De La Vaca Tranquila Cervezas Artesanales', 'Tsingtao',\n",
    "       'Löwenbräu', 'unknown', 'Barba Roja', 'Coopers Brewery',\n",
    "       'Backus y Johnston', 'Brauerei Beck & Co', 'MixxTail', 'Shock Top',\n",
    "       'Bogotá Beer Company',\n",
    "       'Czechvar', 'Belle-Vue', 'Paulaner Brauerei München',\n",
    "       'Duvel Moortgat', 'Zillertal', 'Baltika Breweries', 'Chimay',\n",
    "       'Kronenbourg 1664', 'Kulmbacher Brauerei AG', 'Grimbergen',\n",
    "       'Maredsous',\n",
    "       'franziskaner', 'Condeminal', 'Erdinger Weissbräu',\n",
    "       'Brasserie de Silly', 'SAB Miller','Bodega Budeguer',\n",
    "       'Skol', 'Belsh', 'OETTINGER Brauerei GmbH', 'Águila Real', 'Hertog Jan', 'Manos Negras', 'Freixenet',\n",
    "       'The Fran-C Wines', 'Finca Ferrer', 'Bodega Renacer', 'Oranjeboom',\n",
    "       'Maal Wines', 'Tinto Negro', 'Corbeau Wines',\n",
    "       'Mosquita Muerta Wines', 'Bodega del Desierto', 'Antigua',\n",
    "       'Boris Biere', 'Barceló', 'Boddingtons', 'Bombay', 'Jägermeister',\n",
    "       'Revancha', 'Huentala Wines', 'Bodega Cruz Primero', 'Aura',\n",
    "       'Harvierstoun', 'Chivas Regal', 'Weidmann', 'Isle of Jura', 'Belenkaya',\n",
    "       '2km', \"Jack Daniel's\", 'Johnnie Walker', 'Whyte & Mackay',\n",
    "       'The Patrón Spirits Company', 'Amarula', 'Havana Club',\n",
    "       'Matías Riccitelli', 'Mulata', 'Rye', 'Mundo Revés', 'Brahma',\n",
    "       'Bodega José Luis Mounier', 'José Cuervo', 'Jim Beam', 'Bier Life',\n",
    "       'Makers Mark', 'Mistral', 'Príncipe de los Apóstoles',\n",
    "       'Flor de Caña', 'Bacardi', 'Absolut', 'Pravda', 'Greene King',\n",
    "       'SKYY', 'Hennessy', 'Noctua', 'Jameson', 'Traslapiedra',\n",
    "       'Bodega Ojo de Vino', 'Tres14', 'Velho Barreiro', 'Van Pur',\n",
    "       'SIAM', 'Beluga', 'Bottega', 'Campari', 'The Glenrothes',\n",
    "       'Cinzano', 'Xoriguer', 'El Jimador', 'Kahlúa', 'Malibu', 'Aperol',\n",
    "       'The Botanist', 'Brasserie de Luxemburgo Mousel - Diekrich',\n",
    "       'The Famous Grouse', 'MG Destilerías', 'Grand Marnier',\n",
    "       'Cointreau', 'Finca Beth', 'The Mula Cervezas Especiales',\n",
    "       'Anima Mundi'],value = 'importada')\n"
   ]
  },
  {
   "cell_type": "code",
   "execution_count": 131,
   "metadata": {},
   "outputs": [],
   "source": [
    "tp_f.brand = tp_f.brand.replace(to_replace = ['Grupo Modelo'],value = 'Corona')"
   ]
  },
  {
   "cell_type": "code",
   "execution_count": 148,
   "metadata": {
    "scrolled": true
   },
   "outputs": [
    {
     "data": {
      "text/plain": [
       "array([0.0509, 0.0638, 0.0603, 0.0497, 0.0361, 0.0354])"
      ]
     },
     "execution_count": 148,
     "metadata": {},
     "output_type": "execute_result"
    }
   ],
   "source": [
    "tp_f.head(50)\n",
    "tp_f['rate_local_do_usd'].unique()"
   ]
  },
  {
   "cell_type": "code",
   "execution_count": 144,
   "metadata": {},
   "outputs": [
    {
     "data": {
      "text/plain": [
       "country                            0\n",
       "id                                 0\n",
       "unit_discount_usd                  0\n",
       "customer_first_order_date          0\n",
       "unit_gross_revenue_local           0\n",
       "unit_delivery_charged_usd          0\n",
       "unit_net_revenue_usd               0\n",
       "order_date                         0\n",
       "order_status                       0\n",
       "order_status_type                  0\n",
       "customer_spk                       0\n",
       "unit_price_charged_local           0\n",
       "unit_gross_revenue_usd             0\n",
       "source_system_order_id             0\n",
       "unit_delivery_charged_local        0\n",
       "rate_local_do_usd                  0\n",
       "quantity                           0\n",
       "unit_price_charged_usd             0\n",
       "unit_net_revenue_local             0\n",
       "order_days_after_first_order       0\n",
       "order_time                         0\n",
       "row_created_at                     0\n",
       "sku                              616\n",
       "brand                           2520\n",
       "date_created                    2333\n",
       "name                               0\n",
       "category                        4954\n",
       "subcategory                     4954\n",
       "dtype: int64"
      ]
     },
     "execution_count": 144,
     "metadata": {},
     "output_type": "execute_result"
    }
   ],
   "source": [
    "tpf1.isnull().sum()"
   ]
  },
  {
   "cell_type": "code",
   "execution_count": 133,
   "metadata": {},
   "outputs": [
    {
     "data": {
      "text/plain": [
       "(127514, 28)"
      ]
     },
     "execution_count": 133,
     "metadata": {},
     "output_type": "execute_result"
    }
   ],
   "source": [
    "tp_f.shape"
   ]
  },
  {
   "cell_type": "code",
   "execution_count": 134,
   "metadata": {},
   "outputs": [
    {
     "name": "stdout",
     "output_type": "stream",
     "text": [
      "country                           0\n",
      "id                                0\n",
      "unit_discount_usd                 0\n",
      "customer_first_order_date         0\n",
      "unit_gross_revenue_local          0\n",
      "unit_delivery_charged_usd         0\n",
      "unit_net_revenue_usd              0\n",
      "order_date                        0\n",
      "order_status                      0\n",
      "order_status_type                 0\n",
      "customer_spk                      0\n",
      "unit_price_charged_local          0\n",
      "unit_gross_revenue_usd            0\n",
      "source_system_order_id            0\n",
      "unit_delivery_charged_local       0\n",
      "rate_local_do_usd                 0\n",
      "quantity                          0\n",
      "unit_price_charged_usd            0\n",
      "unit_net_revenue_local            0\n",
      "order_days_after_first_order      0\n",
      "order_time                        0\n",
      "row_created_at                    0\n",
      "sku                              14\n",
      "brand                           187\n",
      "date_created                      0\n",
      "name                              0\n",
      "category                          0\n",
      "subcategory                       0\n",
      "dtype: int64 \r\n",
      "\n"
     ]
    }
   ],
   "source": [
    "## Algunos comentarios: \n",
    "##   No hay info de 2019, termina en 18 Agosto 2018\n",
    "##   id podriamos usarlo para saber cuanto gasta una persona en promedio en ecommerce, ver evolucion\n",
    "##   Bevybar y Craft Society son cosas sin marca, habria que unirlas\n",
    "\n",
    "cant_NaNf = tp_f.isnull().sum()\n",
    "print(cant_NaNf,'\\r\\n')"
   ]
  },
  {
   "cell_type": "code",
   "execution_count": 135,
   "metadata": {},
   "outputs": [
    {
     "data": {
      "text/plain": [
       "<bound method NDFrame.describe of id\n",
       "[\"ar_bevybar;00005c5b185e25f9c7b9642ca76950fe43e4fcce6c02cbbf7a8768f2dd1ed395\"]    3\n",
       "[\"ar_bevybar;00010fe97133694cb929e412dba2d425dfa510e6193b75c2d314e32720c2abbf\"]    4\n",
       "[\"ar_bevybar;0004e1e6b290d864e2776edc0ddd5ad41eb651a793dfaaa8a0053d25bcc3b741\"]    2\n",
       "[\"ar_bevybar;0005c424ba71c03ac51d8a08844d281966d94b9cd2c5392c1d5b502c83c752ab\"]    3\n",
       "[\"ar_bevybar;00078c1eb18da02b9da6835c16bdf960a37fb1fa830f0a5c75145bcab5107721\"]    4\n",
       "[\"ar_bevybar;0008677f0ecc3a797ce5941630f876d9fcee2bc34b59b7b3bbc79ae19b0e2b76\"]    1\n",
       "[\"ar_bevybar;000a451eba39ef9e3dca6a960bf3bf01b79183e5115c53d5f5509d4fa0e3bf0c\"]    2\n",
       "[\"ar_bevybar;000a79e8f3fbccdb6ce37315cbbb5d2baeed8e38a1468ad67cfb43c74a79304c\"]    1\n",
       "[\"ar_bevybar;000e1fc55ebe0cdfb84cc02b15cffa8fa15d55433eac1e7906f12b0e040e20da\"]    1\n",
       "[\"ar_bevybar;000e8d3fcdd026d84901038b522daa7dfbee79d49364e087dfc1f604bdded74a\"]    3\n",
       "[\"ar_bevybar;000f7bbac8973c84e0d72f6ef1e056937ab2d0e2277d3e94ebd9ee15800dd503\"]    1\n",
       "[\"ar_bevybar;0010f3d163a9992dcdb336371c24c24f8d029c7b463705126c23a2274441c9e7\"]    1\n",
       "[\"ar_bevybar;001495686f344a7f6183036aa51dba277523d24619595076d8142ad1f90857ad\"]    1\n",
       "[\"ar_bevybar;00165a04cac08882d8389a3ba4e42715a810db0824f4c807e852c57d9711ec2d\"]    2\n",
       "[\"ar_bevybar;0017ddf1d1f53ebfa4234926764df3610a82e8aacf8d3e62238f792cb7afcb20\"]    1\n",
       "[\"ar_bevybar;001816a7217d127361d68d9a0303305d0119b2917d8ec47e3813d5148e006905\"]    1\n",
       "[\"ar_bevybar;0019436071f6ac3a54d3d9642ae9d49d857c8f79da50fa586977900aa9ab8913\"]    8\n",
       "[\"ar_bevybar;001967fb1a3b3ddd3e46fec548a5211d72147d9c67aa52cc160be253c601b6c6\"]    1\n",
       "[\"ar_bevybar;001d80b7869f2935ad8a16253ccfe07a6f102926ca196e50128805b01cfb08ef\"]    3\n",
       "[\"ar_bevybar;00205224e57cc1d432f1f91d21424450c46d4e83961d28d194d80f75d431a70b\"]    1\n",
       "[\"ar_bevybar;002133fa896e207bb223125b31801ad66edfbb84376ce16a9815c18abcf145c6\"]    1\n",
       "[\"ar_bevybar;0021ee7fe33445694634baa21e7457ed1f824e09bcf46c0a45417be07607a971\"]    1\n",
       "[\"ar_bevybar;00227525b32bc1f80adcdbb4898cce2ebcd6105e216680f5d95eaaa83f3c39b3\"]    2\n",
       "[\"ar_bevybar;0022d9d95d8e4ef52363b1aa4a8b1cad74eaf303020d5db20058b105a340d13c\"]    1\n",
       "[\"ar_bevybar;0025549835a2fd489dcf3257ea965b350bb93bf31092360745c0d9f715fbb911\"]    2\n",
       "[\"ar_bevybar;00262b20d1b4a928c6e5d0ab10bc60e755308ca03156e528d747c7bb915ee39d\"]    1\n",
       "[\"ar_bevybar;00264d15a2936e8569723e5f0c0ac67ead9ed862e928bb2d32770568537b8fc2\"]    1\n",
       "[\"ar_bevybar;00275f7f81bce31d096ed48fc446f9c0c841db59af0d7504170827247a6d3561\"]    4\n",
       "[\"ar_bevybar;0028d324b89c306779cf8ae65fd561072993f1081039d23f9727e550844616b8\"]    2\n",
       "[\"ar_bevybar;002a083d99055ad52ba22ba6464d264038c179e836e1855f0b297572adb32968\"]    1\n",
       "                                                                                  ..\n",
       "[\"ar_bevybar;ffd03eb17a451b41d18c22540798d9f1455e45362ad62709c77bebc0339f4b33\"]    5\n",
       "[\"ar_bevybar;ffd11ff5df5ba59bfc16e69569d724cbf08542d3a9f999444e4b0d10f9d44334\"]    1\n",
       "[\"ar_bevybar;ffd16c97d8246d9046d3864dd0879f02418c95887439c246fe61878482cbf40d\"]    1\n",
       "[\"ar_bevybar;ffd3392311cf3d502ada4c27b12d384e6e43abdd5862ab1fe73f854025151357\"]    1\n",
       "[\"ar_bevybar;ffd9291a74051ee5fac37ec5fd1b553f1ff08ddbf0eeb21e1336402cccab9476\"]    7\n",
       "[\"ar_bevybar;ffdbec15e7e1e3cbefb693655e570a6b79c206168169a9392592a60aeeda6a63\"]    2\n",
       "[\"ar_bevybar;ffdc0271dbaec6c109b21dbc53317fe8ab91f2d7061369a956372c5402a44318\"]    1\n",
       "[\"ar_bevybar;ffdf9e47411af57ec7443188f5eb7c45019a399114c8546e68ee0b4abe42e720\"]    2\n",
       "[\"ar_bevybar;ffe38411e2feda9f398ae4ffc0f20a04e5910cd92d5eb9ccabaaf430bdc60295\"]    1\n",
       "[\"ar_bevybar;ffe7cbf256834a9b5da7064d6b31f351f034332a6517eaeadf5d477ebbc200f8\"]    2\n",
       "[\"ar_bevybar;ffe8306252982ec11c941e15573303d6b40d36998f719f50b5d024e7b17ec45b\"]    6\n",
       "[\"ar_bevybar;ffe9f24e1677027997ad2320696613b0683c38744388672d94217b94c94a068e\"]    2\n",
       "[\"ar_bevybar;ffea2bd8eb85b1e6487eaa2847b55562033641becd570ecd8ec83d61d13940d4\"]    1\n",
       "[\"ar_bevybar;ffeb2121a9cee661fd0cadc6a15c5ccd2e899a8272a9d56b36dccb664c9c909b\"]    1\n",
       "[\"ar_bevybar;ffede4ac6231ec211ee33ed469e94287981139fe9452feb55ee5d9aa325ef1ad\"]    1\n",
       "[\"ar_bevybar;ffee02fe5d7c9a3f0f51ff1ccd3edba42429c264efbe47dbdcf64376a23460c8\"]    7\n",
       "[\"ar_bevybar;fff1adc4e9625902f5a6e89f74a4df5c3d47efe1c377c82d286771a42cac10d4\"]    2\n",
       "[\"ar_bevybar;fff1c9b72005ce83881392a527c3585af9afc8c91302698d23dbbc953d60580b\"]    1\n",
       "[\"ar_bevybar;fff33ad1a6889dac12c962113d7e60d05bd6ec99cd911dfb013852405ab2131e\"]    1\n",
       "[\"ar_bevybar;fff39f51d17ec2d7a02ae699eb3108582dd0d7eede3e1d8254e2f7e63e3a0198\"]    1\n",
       "[\"ar_bevybar;fff4ff3998a1f7dd7bf886cbc79d3efb2cd672c019273f3b30943a16d671b3a8\"]    1\n",
       "[\"ar_bevybar;fff7f5c18ae85eee6d4d633029133d9d3216b11dd04f6ac96b05401debe304bc\"]    2\n",
       "[\"ar_bevybar;fff91d84338925483c258dfe346151e52bc06f975daf3fbe30e76a08e4077338\"]    2\n",
       "[\"ar_bevybar;fff922001a477927e24d26b1a87a206f0573942323838ac9d621bcbb592aef02\"]    2\n",
       "[\"ar_bevybar;fffa19dac1e8a17f5c4d94b59e538664ac3efd788ebdcf874dd4cee929473c96\"]    2\n",
       "[\"ar_bevybar;fffb7a5da24f41d032153ce556a5ed314e04fedc119f1e7a554d355abe64194d\"]    2\n",
       "[\"ar_bevybar;fffbb8edf70c71525f81510749d4630b4382bd03011fe2cc1e3892823f1a7289\"]    2\n",
       "[\"ar_bevybar;fffbf771b620aacdd1b941fb6c73459542d6f6eb8564e69c42a4388c3c34d3e3\"]    3\n",
       "[\"ar_bevybar;unknown0.24893632140687283\"]                                          1\n",
       "[\"ar_bevybar;unknown0.8878003546312319\"]                                           1\n",
       "Name: id, Length: 41613, dtype: int64>"
      ]
     },
     "execution_count": 135,
     "metadata": {},
     "output_type": "execute_result"
    }
   ],
   "source": [
    "##Tabla para ver cuantas veces compró cada usuario\n",
    "compras_usuario = tp_f.groupby(['id'])['id'].count()\n",
    "compras_usuario = compras_usuario.loc[compras_usuario < 10]\n",
    "compras_usuario.describe"
   ]
  },
  {
   "cell_type": "code",
   "execution_count": 136,
   "metadata": {},
   "outputs": [
    {
     "data": {
      "image/png": "[encoded data removed]",
      "text/plain": [
       "<Figure size 432x288 with 1 Axes>"
      ]
     },
     "metadata": {
      "needs_background": "light"
     },
     "output_type": "display_data"
    }
   ],
   "source": [
    "plt.boxplot(compras_usuario)\n",
    "plt.title(\"Dist de cantidad de compras por usuario\")\n",
    "plt.xlabel(\"id\")\n",
    "plt.show()"
   ]
  },
  {
   "cell_type": "code",
   "execution_count": 137,
   "metadata": {},
   "outputs": [
    {
     "data": {
      "text/plain": [
       "array(['Corona', 'Patagonia Brewing Co.', 'Stella Artois', 'importada',\n",
       "       'BevyBar', 'Multimarca', 'Cervecería y Maltería Quilmes',\n",
       "       'Craft Society', nan, 'Budweiser'], dtype=object)"
      ]
     },
     "execution_count": 137,
     "metadata": {},
     "output_type": "execute_result"
    }
   ],
   "source": [
    "tp_f['brand'].unique()"
   ]
  },
  {
   "cell_type": "code",
   "execution_count": 138,
   "metadata": {},
   "outputs": [
    {
     "data": {
      "text/plain": [
       "importada                        42990\n",
       "Stella Artois                    26774\n",
       "Patagonia Brewing Co.            19487\n",
       "BevyBar                          17754\n",
       "Corona                           16837\n",
       "Cervecería y Maltería Quilmes     1688\n",
       "Multimarca                        1297\n",
       "Budweiser                          300\n",
       "Craft Society                      200\n",
       "Name: brand, dtype: int64"
      ]
     },
     "execution_count": 138,
     "metadata": {},
     "output_type": "execute_result"
    }
   ],
   "source": [
    "tp_f.brand.value_counts()"
   ]
  },
  {
   "cell_type": "code",
   "execution_count": 139,
   "metadata": {},
   "outputs": [
    {
     "data": {
      "text/plain": [
       "Mixed Pack     68524\n",
       "Beer           44355\n",
       "Merchandise    11067\n",
       "unknown         3568\n",
       "Name: category, dtype: int64"
      ]
     },
     "execution_count": 139,
     "metadata": {},
     "output_type": "execute_result"
    }
   ],
   "source": [
    "tp_f.category.value_counts()"
   ]
  },
  {
   "cell_type": "code",
   "execution_count": 140,
   "metadata": {},
   "outputs": [
    {
     "data": {
      "text/plain": [
       "(127514, 28)"
      ]
     },
     "execution_count": 140,
     "metadata": {},
     "output_type": "execute_result"
    }
   ],
   "source": [
    "##Voy a buscar dejar un dataset solo con las marcas de cerveza, y con las importadas agrupadas\n",
    "tp_f = tp_f.loc[tp_f['category'].isin(['Mixed Pack', 'Beer', 'Merchandise','unknown'])]\n",
    "tp_f.shape"
   ]
  },
  {
   "cell_type": "code",
   "execution_count": 141,
   "metadata": {},
   "outputs": [
    {
     "data": {
      "image/png": "[encoded data removed]",
      "text/plain": [
       "<Figure size 1080x216 with 1 Axes>"
      ]
     },
     "metadata": {
      "needs_background": "light"
     },
     "output_type": "display_data"
    }
   ],
   "source": [
    "plt.figure(figsize=(15,3))\n",
    "g = sns.countplot(x=\"category\",data= tp_f, palette = \"muted\")\n",
    "g.set_xticklabels(g.get_xticklabels(), rotation=90, ha=\"right\")\n",
    "plt.title('Cantidad de apariciones por Category',size = 20)\n",
    "plt.xlabel(\"category\")\n",
    "plt.ylabel(\"Count\")\n",
    "plt.show()"
   ]
  },
  {
   "cell_type": "code",
   "execution_count": 142,
   "metadata": {
    "scrolled": false
   },
   "outputs": [
    {
     "data": {
      "image/png": "[encoded data removed]",
      "text/plain": [
       "<Figure size 1080x216 with 1 Axes>"
      ]
     },
     "metadata": {
      "needs_background": "light"
     },
     "output_type": "display_data"
    }
   ],
   "source": [
    "plt.figure(figsize=(15,3))\n",
    "g = sns.countplot(x=\"brand\",data=tp_f, palette = \"muted\")\n",
    "g.set_xticklabels(g.get_xticklabels(), rotation=90, ha=\"right\")\n",
    "plt.title('Cantidad de Apariciones por Brand',size = 30)\n",
    "plt.xlabel(\"brand\")\n",
    "plt.ylabel(\"Count\")\n",
    "plt.show()"
   ]
  },
  {
   "cell_type": "code",
   "execution_count": 79,
   "metadata": {},
   "outputs": [],
   "source": [
    "##tp_f.created_in.value_counts()"
   ]
  },
  {
   "cell_type": "code",
   "execution_count": 80,
   "metadata": {},
   "outputs": [
    {
     "data": {
      "text/plain": [
       "paid                   114350\n",
       "grand_total_is_zero      9952\n",
       "pending                  1612\n",
       "refunded                 1075\n",
       "partially_refunded        509\n",
       "authorized                 10\n",
       "partially_paid              6\n",
       "Name: order_status, dtype: int64"
      ]
     },
     "execution_count": 80,
     "metadata": {},
     "output_type": "execute_result"
    }
   ],
   "source": [
    "tp_f.order_status.value_counts()\n",
    "##Borrar los grand_total_is_zero"
   ]
  },
  {
   "cell_type": "code",
   "execution_count": 88,
   "metadata": {},
   "outputs": [
    {
     "data": {
      "text/plain": [
       "array(['Grupo Modelo', 'Patagonia Brewing Co.', 'Corona', 'Stella Artois',\n",
       "       'importada', 'BevyBar', 'Multimarca',\n",
       "       'Cervecería y Maltería Quilmes', 'Craft Society', nan, 'Budweiser'],\n",
       "      dtype=object)"
      ]
     },
     "execution_count": 88,
     "metadata": {},
     "output_type": "execute_result"
    }
   ],
   "source": [
    "tp_f.brand.unique()"
   ]
  },
  {
   "cell_type": "code",
   "execution_count": null,
   "metadata": {},
   "outputs": [],
   "source": [
    "##Ver si en alguna estacionalidad se vende mas el merchandising o alguna marca en particular\n",
    "##Mostrar Cantidad de Ventas (Apariciones por brand) segun Beer, Merchandise y Mixed Pack\n",
    "##Buscar si estan las columnas de lat y long y ver si podemos hacer un heatmap\n",
    "##Separar fechas (por lo menos por mes) y analizar en que epoca se vende mas (verano?aguinaldo?)\n",
    "##Todas las filas que tengan el order_status = grand_total_is_zero\n",
    "##row_created_at\n",
    "#order_status_type\n",
    "#customer_spk"
   ]
  },
  {
   "cell_type": "code",
   "execution_count": null,
   "metadata": {},
   "outputs": [],
   "source": []
  },
  {
   "cell_type": "code",
   "execution_count": null,
   "metadata": {},
   "outputs": [],
   "source": []
  },
  {
   "cell_type": "code",
   "execution_count": null,
   "metadata": {},
   "outputs": [],
   "source": []
  }
 ],
 "metadata": {
  "kernelspec": {
   "display_name": "Python 3",
   "language": "python",
   "name": "python3"
  },
  "language_info": {
   "codemirror_mode": {
    "name": "ipython",
    "version": 3
   },
   "file_extension": ".py",
   "mimetype": "text/x-python",
   "name": "python",
   "nbconvert_exporter": "python",
   "pygments_lexer": "ipython3",
   "version": "3.7.3"
  }
 },
 "nbformat": 4,
 "nbformat_minor": 2
}
